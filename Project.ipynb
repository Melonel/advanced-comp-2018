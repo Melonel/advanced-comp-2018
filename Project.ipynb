{
 "cells": [
  {
   "cell_type": "markdown",
   "metadata": {},
   "source": [
    "# Machine learning project: wine reviews\n"
   ]
  },
  {
   "cell_type": "markdown",
   "metadata": {},
   "source": [
    "## About the data\n",
    "\n",
    "The data that I am using is from the kaggle website:\n",
    "https://www.kaggle.com/zynicide/wine-reviews/data\n",
    "\n",
    "It's a concatenation of many wine reviews. \n",
    "Each review contains information about the winery, type of wine, region, \n",
    "as well as the name of the reviewer, the price, the number of points\n",
    "and a description of the wine."
   ]
  },
  {
   "cell_type": "markdown",
   "metadata": {},
   "source": [
    "## Goal\n",
    "\n",
    "The goal is to try to understand how much information about the \n",
    "quality of the wine can be guessed. \n",
    "First we will just look at the  \"objective\" characteristics, \n",
    "such as the type of wine, location and price.\n",
    "This is not as objective as it seems, as it will have a lot to do with\n",
    "how the reviewers pick the wines to review in the first place.\n",
    "In a second time, we will try to extract information \n",
    "from the description of the wine, a long string of words.\n",
    "This will necessitate feature engineering, as we will try to convert\n",
    "the text into numbers that must correlate with the quality of the tested wine.\n",
    "\n",
    "We will use always the same machine learning algorithm,\n",
    "and then compare the score that we obtain by fitting it to different subsets of\n",
    "the data.\n",
    "This will be our measure of how much information about the target \n",
    "(number of points of the review)\n",
    "there is in different subsets of the data."
   ]
  },
  {
   "cell_type": "code",
   "execution_count": 1,
   "metadata": {},
   "outputs": [],
   "source": [
    "# Imports\n",
    "\n",
    "import pandas as pd\n",
    "import numpy as np\n",
    "import matplotlib.pyplot as plt\n",
    "import missingno as msno\n",
    "import category_encoders as ce\n",
    "import sklearn as skl"
   ]
  },
  {
   "cell_type": "code",
   "execution_count": 2,
   "metadata": {},
   "outputs": [],
   "source": [
    "# plot parameters\n",
    "\n",
    "plt.rcParams[\"figure.figsize\"] = (10, 5)\n",
    "plt.rcParams[\"font.size\"] = 14"
   ]
  },
  {
   "cell_type": "markdown",
   "metadata": {},
   "source": [
    "## Importing the data "
   ]
  },
  {
   "cell_type": "code",
   "execution_count": 3,
   "metadata": {},
   "outputs": [],
   "source": [
    "# Open data\n",
    "\n",
    "datafile = 'data/wine-reviews/winemag-data-130k-v2.csv'\n",
    "data_small = pd.read_csv(datafile, nrows=10)"
   ]
  },
  {
   "cell_type": "code",
   "execution_count": 4,
   "metadata": {},
   "outputs": [
    {
     "data": {
      "text/html": [
       "<div>\n",
       "<style scoped>\n",
       "    .dataframe tbody tr th:only-of-type {\n",
       "        vertical-align: middle;\n",
       "    }\n",
       "\n",
       "    .dataframe tbody tr th {\n",
       "        vertical-align: top;\n",
       "    }\n",
       "\n",
       "    .dataframe thead th {\n",
       "        text-align: right;\n",
       "    }\n",
       "</style>\n",
       "<table border=\"1\" class=\"dataframe\">\n",
       "  <thead>\n",
       "    <tr style=\"text-align: right;\">\n",
       "      <th></th>\n",
       "      <th>Unnamed: 0</th>\n",
       "      <th>country</th>\n",
       "      <th>description</th>\n",
       "      <th>designation</th>\n",
       "      <th>points</th>\n",
       "      <th>price</th>\n",
       "      <th>province</th>\n",
       "      <th>region_1</th>\n",
       "      <th>region_2</th>\n",
       "      <th>taster_name</th>\n",
       "      <th>taster_twitter_handle</th>\n",
       "      <th>title</th>\n",
       "      <th>variety</th>\n",
       "      <th>winery</th>\n",
       "    </tr>\n",
       "  </thead>\n",
       "  <tbody>\n",
       "    <tr>\n",
       "      <th>0</th>\n",
       "      <td>0</td>\n",
       "      <td>Italy</td>\n",
       "      <td>Aromas include tropical fruit, broom, brimston...</td>\n",
       "      <td>Vulkà Bianco</td>\n",
       "      <td>87</td>\n",
       "      <td>NaN</td>\n",
       "      <td>Sicily &amp; Sardinia</td>\n",
       "      <td>Etna</td>\n",
       "      <td>NaN</td>\n",
       "      <td>Kerin O’Keefe</td>\n",
       "      <td>@kerinokeefe</td>\n",
       "      <td>Nicosia 2013 Vulkà Bianco  (Etna)</td>\n",
       "      <td>White Blend</td>\n",
       "      <td>Nicosia</td>\n",
       "    </tr>\n",
       "    <tr>\n",
       "      <th>1</th>\n",
       "      <td>1</td>\n",
       "      <td>Portugal</td>\n",
       "      <td>This is ripe and fruity, a wine that is smooth...</td>\n",
       "      <td>Avidagos</td>\n",
       "      <td>87</td>\n",
       "      <td>15.0</td>\n",
       "      <td>Douro</td>\n",
       "      <td>NaN</td>\n",
       "      <td>NaN</td>\n",
       "      <td>Roger Voss</td>\n",
       "      <td>@vossroger</td>\n",
       "      <td>Quinta dos Avidagos 2011 Avidagos Red (Douro)</td>\n",
       "      <td>Portuguese Red</td>\n",
       "      <td>Quinta dos Avidagos</td>\n",
       "    </tr>\n",
       "    <tr>\n",
       "      <th>2</th>\n",
       "      <td>2</td>\n",
       "      <td>US</td>\n",
       "      <td>Tart and snappy, the flavors of lime flesh and...</td>\n",
       "      <td>NaN</td>\n",
       "      <td>87</td>\n",
       "      <td>14.0</td>\n",
       "      <td>Oregon</td>\n",
       "      <td>Willamette Valley</td>\n",
       "      <td>Willamette Valley</td>\n",
       "      <td>Paul Gregutt</td>\n",
       "      <td>@paulgwine</td>\n",
       "      <td>Rainstorm 2013 Pinot Gris (Willamette Valley)</td>\n",
       "      <td>Pinot Gris</td>\n",
       "      <td>Rainstorm</td>\n",
       "    </tr>\n",
       "    <tr>\n",
       "      <th>3</th>\n",
       "      <td>3</td>\n",
       "      <td>US</td>\n",
       "      <td>Pineapple rind, lemon pith and orange blossom ...</td>\n",
       "      <td>Reserve Late Harvest</td>\n",
       "      <td>87</td>\n",
       "      <td>13.0</td>\n",
       "      <td>Michigan</td>\n",
       "      <td>Lake Michigan Shore</td>\n",
       "      <td>NaN</td>\n",
       "      <td>Alexander Peartree</td>\n",
       "      <td>NaN</td>\n",
       "      <td>St. Julian 2013 Reserve Late Harvest Riesling ...</td>\n",
       "      <td>Riesling</td>\n",
       "      <td>St. Julian</td>\n",
       "    </tr>\n",
       "    <tr>\n",
       "      <th>4</th>\n",
       "      <td>4</td>\n",
       "      <td>US</td>\n",
       "      <td>Much like the regular bottling from 2012, this...</td>\n",
       "      <td>Vintner's Reserve Wild Child Block</td>\n",
       "      <td>87</td>\n",
       "      <td>65.0</td>\n",
       "      <td>Oregon</td>\n",
       "      <td>Willamette Valley</td>\n",
       "      <td>Willamette Valley</td>\n",
       "      <td>Paul Gregutt</td>\n",
       "      <td>@paulgwine</td>\n",
       "      <td>Sweet Cheeks 2012 Vintner's Reserve Wild Child...</td>\n",
       "      <td>Pinot Noir</td>\n",
       "      <td>Sweet Cheeks</td>\n",
       "    </tr>\n",
       "    <tr>\n",
       "      <th>5</th>\n",
       "      <td>5</td>\n",
       "      <td>Spain</td>\n",
       "      <td>Blackberry and raspberry aromas show a typical...</td>\n",
       "      <td>Ars In Vitro</td>\n",
       "      <td>87</td>\n",
       "      <td>15.0</td>\n",
       "      <td>Northern Spain</td>\n",
       "      <td>Navarra</td>\n",
       "      <td>NaN</td>\n",
       "      <td>Michael Schachner</td>\n",
       "      <td>@wineschach</td>\n",
       "      <td>Tandem 2011 Ars In Vitro Tempranillo-Merlot (N...</td>\n",
       "      <td>Tempranillo-Merlot</td>\n",
       "      <td>Tandem</td>\n",
       "    </tr>\n",
       "    <tr>\n",
       "      <th>6</th>\n",
       "      <td>6</td>\n",
       "      <td>Italy</td>\n",
       "      <td>Here's a bright, informal red that opens with ...</td>\n",
       "      <td>Belsito</td>\n",
       "      <td>87</td>\n",
       "      <td>16.0</td>\n",
       "      <td>Sicily &amp; Sardinia</td>\n",
       "      <td>Vittoria</td>\n",
       "      <td>NaN</td>\n",
       "      <td>Kerin O’Keefe</td>\n",
       "      <td>@kerinokeefe</td>\n",
       "      <td>Terre di Giurfo 2013 Belsito Frappato (Vittoria)</td>\n",
       "      <td>Frappato</td>\n",
       "      <td>Terre di Giurfo</td>\n",
       "    </tr>\n",
       "    <tr>\n",
       "      <th>7</th>\n",
       "      <td>7</td>\n",
       "      <td>France</td>\n",
       "      <td>This dry and restrained wine offers spice in p...</td>\n",
       "      <td>NaN</td>\n",
       "      <td>87</td>\n",
       "      <td>24.0</td>\n",
       "      <td>Alsace</td>\n",
       "      <td>Alsace</td>\n",
       "      <td>NaN</td>\n",
       "      <td>Roger Voss</td>\n",
       "      <td>@vossroger</td>\n",
       "      <td>Trimbach 2012 Gewurztraminer (Alsace)</td>\n",
       "      <td>Gewürztraminer</td>\n",
       "      <td>Trimbach</td>\n",
       "    </tr>\n",
       "    <tr>\n",
       "      <th>8</th>\n",
       "      <td>8</td>\n",
       "      <td>Germany</td>\n",
       "      <td>Savory dried thyme notes accent sunnier flavor...</td>\n",
       "      <td>Shine</td>\n",
       "      <td>87</td>\n",
       "      <td>12.0</td>\n",
       "      <td>Rheinhessen</td>\n",
       "      <td>NaN</td>\n",
       "      <td>NaN</td>\n",
       "      <td>Anna Lee C. Iijima</td>\n",
       "      <td>NaN</td>\n",
       "      <td>Heinz Eifel 2013 Shine Gewürztraminer (Rheinhe...</td>\n",
       "      <td>Gewürztraminer</td>\n",
       "      <td>Heinz Eifel</td>\n",
       "    </tr>\n",
       "    <tr>\n",
       "      <th>9</th>\n",
       "      <td>9</td>\n",
       "      <td>France</td>\n",
       "      <td>This has great depth of flavor with its fresh ...</td>\n",
       "      <td>Les Natures</td>\n",
       "      <td>87</td>\n",
       "      <td>27.0</td>\n",
       "      <td>Alsace</td>\n",
       "      <td>Alsace</td>\n",
       "      <td>NaN</td>\n",
       "      <td>Roger Voss</td>\n",
       "      <td>@vossroger</td>\n",
       "      <td>Jean-Baptiste Adam 2012 Les Natures Pinot Gris...</td>\n",
       "      <td>Pinot Gris</td>\n",
       "      <td>Jean-Baptiste Adam</td>\n",
       "    </tr>\n",
       "  </tbody>\n",
       "</table>\n",
       "</div>"
      ],
      "text/plain": [
       "   Unnamed: 0   country                                        description  \\\n",
       "0           0     Italy  Aromas include tropical fruit, broom, brimston...   \n",
       "1           1  Portugal  This is ripe and fruity, a wine that is smooth...   \n",
       "2           2        US  Tart and snappy, the flavors of lime flesh and...   \n",
       "3           3        US  Pineapple rind, lemon pith and orange blossom ...   \n",
       "4           4        US  Much like the regular bottling from 2012, this...   \n",
       "5           5     Spain  Blackberry and raspberry aromas show a typical...   \n",
       "6           6     Italy  Here's a bright, informal red that opens with ...   \n",
       "7           7    France  This dry and restrained wine offers spice in p...   \n",
       "8           8   Germany  Savory dried thyme notes accent sunnier flavor...   \n",
       "9           9    France  This has great depth of flavor with its fresh ...   \n",
       "\n",
       "                          designation  points  price           province  \\\n",
       "0                        Vulkà Bianco      87    NaN  Sicily & Sardinia   \n",
       "1                            Avidagos      87   15.0              Douro   \n",
       "2                                 NaN      87   14.0             Oregon   \n",
       "3                Reserve Late Harvest      87   13.0           Michigan   \n",
       "4  Vintner's Reserve Wild Child Block      87   65.0             Oregon   \n",
       "5                        Ars In Vitro      87   15.0     Northern Spain   \n",
       "6                             Belsito      87   16.0  Sicily & Sardinia   \n",
       "7                                 NaN      87   24.0             Alsace   \n",
       "8                               Shine      87   12.0        Rheinhessen   \n",
       "9                         Les Natures      87   27.0             Alsace   \n",
       "\n",
       "              region_1           region_2         taster_name  \\\n",
       "0                 Etna                NaN       Kerin O’Keefe   \n",
       "1                  NaN                NaN          Roger Voss   \n",
       "2    Willamette Valley  Willamette Valley        Paul Gregutt   \n",
       "3  Lake Michigan Shore                NaN  Alexander Peartree   \n",
       "4    Willamette Valley  Willamette Valley        Paul Gregutt   \n",
       "5              Navarra                NaN   Michael Schachner   \n",
       "6             Vittoria                NaN       Kerin O’Keefe   \n",
       "7               Alsace                NaN          Roger Voss   \n",
       "8                  NaN                NaN  Anna Lee C. Iijima   \n",
       "9               Alsace                NaN          Roger Voss   \n",
       "\n",
       "  taster_twitter_handle                                              title  \\\n",
       "0          @kerinokeefe                  Nicosia 2013 Vulkà Bianco  (Etna)   \n",
       "1            @vossroger      Quinta dos Avidagos 2011 Avidagos Red (Douro)   \n",
       "2           @paulgwine       Rainstorm 2013 Pinot Gris (Willamette Valley)   \n",
       "3                   NaN  St. Julian 2013 Reserve Late Harvest Riesling ...   \n",
       "4           @paulgwine   Sweet Cheeks 2012 Vintner's Reserve Wild Child...   \n",
       "5           @wineschach  Tandem 2011 Ars In Vitro Tempranillo-Merlot (N...   \n",
       "6          @kerinokeefe   Terre di Giurfo 2013 Belsito Frappato (Vittoria)   \n",
       "7            @vossroger              Trimbach 2012 Gewurztraminer (Alsace)   \n",
       "8                   NaN  Heinz Eifel 2013 Shine Gewürztraminer (Rheinhe...   \n",
       "9            @vossroger  Jean-Baptiste Adam 2012 Les Natures Pinot Gris...   \n",
       "\n",
       "              variety               winery  \n",
       "0         White Blend              Nicosia  \n",
       "1      Portuguese Red  Quinta dos Avidagos  \n",
       "2          Pinot Gris            Rainstorm  \n",
       "3            Riesling           St. Julian  \n",
       "4          Pinot Noir         Sweet Cheeks  \n",
       "5  Tempranillo-Merlot               Tandem  \n",
       "6            Frappato      Terre di Giurfo  \n",
       "7      Gewürztraminer             Trimbach  \n",
       "8      Gewürztraminer          Heinz Eifel  \n",
       "9          Pinot Gris   Jean-Baptiste Adam  "
      ]
     },
     "execution_count": 4,
     "metadata": {},
     "output_type": "execute_result"
    }
   ],
   "source": [
    "data_small"
   ]
  },
  {
   "cell_type": "markdown",
   "metadata": {},
   "source": [
    "## Analysis of data content\n",
    "\n",
    "We start by looking at the distributions and some correlations\n",
    "between the different \"features\" of the data."
   ]
  },
  {
   "cell_type": "markdown",
   "metadata": {},
   "source": [
    "### Country of origin of the wine\n",
    "\n",
    "First, we take a look at the distribution of the wine reviews according to\n",
    "the country of origin of the wine. \n",
    "We see that the reviewers are based in the US, with a majority\n",
    "of wine coming from there. "
   ]
  },
  {
   "cell_type": "code",
   "execution_count": 5,
   "metadata": {},
   "outputs": [
    {
     "name": "stdout",
     "output_type": "stream",
     "text": [
      "['Italy' 'Portugal' 'US' 'Spain' 'France' 'Germany' 'Argentina' 'Chile'\n",
      " 'Australia' 'Austria' 'South Africa' 'New Zealand' 'Israel' 'Hungary'\n",
      " 'Greece' 'Romania' 'Mexico' 'Canada' nan 'Turkey' 'Czech Republic'\n",
      " 'Slovenia' 'Luxembourg' 'Croatia' 'Georgia' 'Uruguay' 'England' 'Lebanon'\n",
      " 'Serbia' 'Brazil' 'Moldova' 'Morocco' 'Peru' 'India' 'Bulgaria' 'Cyprus'\n",
      " 'Armenia' 'Switzerland' 'Bosnia and Herzegovina' 'Ukraine' 'Slovakia'\n",
      " 'Macedonia' 'China' 'Egypt'] country    43\n",
      "dtype: int64\n",
      "number of nans = country    63\n",
      "dtype: int64\n"
     ]
    },
    {
     "data": {
      "image/png": "[encoded data removed]",
      "text/plain": [
       "<Figure size 720x432 with 1 Axes>"
      ]
     },
     "metadata": {},
     "output_type": "display_data"
    }
   ],
   "source": [
    "countries = pd.read_csv(datafile, usecols=[1])\n",
    "print(countries.country.unique(), countries.nunique())\n",
    "pd.value_counts(countries['country']).plot.bar(figsize=(10,6), logy=True)\n",
    "count_nan = len(countries) - countries.count()\n",
    "print('number of nans = {}'.format(count_nan))"
   ]
  },
  {
   "cell_type": "code",
   "execution_count": 6,
   "metadata": {},
   "outputs": [
    {
     "name": "stdout",
     "output_type": "stream",
     "text": [
      "designation    37979\n",
      "dtype: int64\n"
     ]
    }
   ],
   "source": [
    "# Designation\n",
    "\n",
    "col_desig =pd.read_csv(datafile, usecols=[3])\n",
    "print(col_desig.nunique())"
   ]
  },
  {
   "cell_type": "markdown",
   "metadata": {},
   "source": [
    "### Distribution of points\n",
    "\n",
    "As we see below, the reviewers attribute points out of 100, but really only\n",
    "in the window from 80 to 100 points."
   ]
  },
  {
   "cell_type": "code",
   "execution_count": 7,
   "metadata": {},
   "outputs": [
    {
     "name": "stdout",
     "output_type": "stream",
     "text": [
      "number of nans = points    0\n",
      "dtype: int64\n"
     ]
    },
    {
     "data": {
      "image/png": "[encoded data removed]",
      "text/plain": [
       "<Figure size 720x360 with 1 Axes>"
      ]
     },
     "metadata": {},
     "output_type": "display_data"
    }
   ],
   "source": [
    "# Points\n",
    "col_points =pd.read_csv(datafile, usecols=[4])\n",
    "col_points.hist(bins=20)\n",
    "\n",
    "count_nan = len(col_points) - col_points.count()\n",
    "print('number of nans = {}'.format(count_nan))"
   ]
  },
  {
   "cell_type": "markdown",
   "metadata": {},
   "source": [
    "### Prices\n",
    "\n",
    "Prices vary wildly, with most bottles under \\$100,\n",
    "but a few costing over \\$3000.\n",
    "I expect that this is the feature that will the most strongly\n",
    "correlate with the points and be most useful in prediction.\n",
    "In the end, I decided to use a log scale to renormalize the \n",
    "prices. Interestingly, this gives a nice bell shape\n",
    "for the distribution, with a most-likely price of about \n",
    "\\$$10^{1.4}=25$."
   ]
  },
  {
   "cell_type": "code",
   "execution_count": 8,
   "metadata": {},
   "outputs": [
    {
     "name": "stdout",
     "output_type": "stream",
     "text": [
      "number of nans = price    8996\n",
      "dtype: int64\n"
     ]
    },
    {
     "data": {
      "image/png": "[encoded data removed]",
      "text/plain": [
       "<Figure size 720x360 with 1 Axes>"
      ]
     },
     "metadata": {},
     "output_type": "display_data"
    }
   ],
   "source": [
    "# Price\n",
    "col_price =pd.read_csv(datafile, usecols=[5])\n",
    "col_price.hist(bins=20, log=True)\n",
    "\n",
    "count_nan = len(col_price) - col_price.count()\n",
    "print('number of nans = {}'.format(count_nan))"
   ]
  },
  {
   "cell_type": "code",
   "execution_count": 9,
   "metadata": {},
   "outputs": [
    {
     "data": {
      "text/plain": [
       "<matplotlib.axes._subplots.AxesSubplot at 0x11006d3c8>"
      ]
     },
     "execution_count": 9,
     "metadata": {},
     "output_type": "execute_result"
    },
    {
     "data": {
      "image/png": "[encoded data removed]",
      "text/plain": [
       "<Figure size 720x360 with 1 Axes>"
      ]
     },
     "metadata": {},
     "output_type": "display_data"
    }
   ],
   "source": [
    "# Log of price histogram\n",
    "col_price['price'].apply(np.log10).hist(bins=20)"
   ]
  },
  {
   "cell_type": "markdown",
   "metadata": {},
   "source": [
    "### Tasters\n",
    "\n",
    "Here as well as for the countries, \n",
    "the distribution is uneven we observe that a few tasters have done\n",
    "most of the reviews."
   ]
  },
  {
   "cell_type": "code",
   "execution_count": 10,
   "metadata": {},
   "outputs": [
    {
     "name": "stdout",
     "output_type": "stream",
     "text": [
      "taster_name    19\n",
      "dtype: int64\n"
     ]
    },
    {
     "data": {
      "text/plain": [
       "<matplotlib.axes._subplots.AxesSubplot at 0x11023e978>"
      ]
     },
     "execution_count": 10,
     "metadata": {},
     "output_type": "execute_result"
    },
    {
     "data": {
      "image/png": "[encoded data removed]",
      "text/plain": [
       "<Figure size 720x432 with 1 Axes>"
      ]
     },
     "metadata": {},
     "output_type": "display_data"
    }
   ],
   "source": [
    "# Taster name\n",
    "\n",
    "\n",
    "col_taster =pd.read_csv(datafile, usecols=[9])\n",
    "print(col_taster.nunique())\n",
    "pd.value_counts(col_taster['taster_name']).plot.bar(figsize=(10,6), logy=True)"
   ]
  },
  {
   "cell_type": "code",
   "execution_count": 11,
   "metadata": {},
   "outputs": [
    {
     "name": "stdout",
     "output_type": "stream",
     "text": [
      "variety    707\n",
      "dtype: int64\n"
     ]
    }
   ],
   "source": [
    "# Varieties\n",
    "\n",
    "col_vars =pd.read_csv(datafile, usecols=[12])\n",
    "print(col_vars.nunique())"
   ]
  },
  {
   "cell_type": "code",
   "execution_count": 12,
   "metadata": {},
   "outputs": [
    {
     "name": "stdout",
     "output_type": "stream",
     "text": [
      "winery    16757\n",
      "dtype: int64\n"
     ]
    }
   ],
   "source": [
    "# Wineries\n",
    "\n",
    "col_wineries =pd.read_csv(datafile, usecols=[13])\n",
    "print(col_wineries.nunique())\n"
   ]
  },
  {
   "cell_type": "code",
   "execution_count": 13,
   "metadata": {},
   "outputs": [
    {
     "name": "stdout",
     "output_type": "stream",
     "text": [
      "province    425\n",
      "dtype: int64\n",
      "number of nans = province    63\n",
      "dtype: int64\n"
     ]
    }
   ],
   "source": [
    "# Provinces\n",
    "\n",
    "col_prov = pd.read_csv(datafile, usecols=[6])\n",
    "print(col_prov.nunique())\n",
    "\n",
    "count_nan = len(col_prov) - col_prov.count()\n",
    "print('number of nans = {}'.format(count_nan))"
   ]
  },
  {
   "cell_type": "code",
   "execution_count": 14,
   "metadata": {},
   "outputs": [
    {
     "name": "stdout",
     "output_type": "stream",
     "text": [
      "region_1    1229\n",
      "dtype: int64\n",
      "number of nans = region_1    21247\n",
      "dtype: int64\n"
     ]
    }
   ],
   "source": [
    "# Region 1\n",
    "\n",
    "col_reg1 = pd.read_csv(datafile, usecols=[7])\n",
    "print(col_reg1.nunique())\n",
    "\n",
    "count_nan = len(col_reg1) - col_reg1.count()\n",
    "print('number of nans = {}'.format(count_nan))"
   ]
  },
  {
   "cell_type": "code",
   "execution_count": 15,
   "metadata": {},
   "outputs": [
    {
     "name": "stdout",
     "output_type": "stream",
     "text": [
      "region_2    17\n",
      "dtype: int64\n",
      "number of nans = region_2    79460\n",
      "dtype: int64\n"
     ]
    }
   ],
   "source": [
    "# Region 2\n",
    "\n",
    "col_reg2 = pd.read_csv(datafile, usecols=[8])\n",
    "print(col_reg2.nunique())\n",
    "\n",
    "count_nan = len(col_reg2) - col_reg2.count()\n",
    "print('number of nans = {}'.format(count_nan))\n",
    "\n",
    "# This is probably useless"
   ]
  },
  {
   "cell_type": "markdown",
   "metadata": {},
   "source": [
    "## Correlation between price and points\n",
    "\n",
    "As expected, we see a strong positive correlation between the price\n",
    "of the wine and the number of points it got.\n",
    "Is it a tribute to the objectivity of the price of wine, \n",
    "the better the more expensive,\n",
    "or that the reviewers are swayed by the price of a costly drink?\n",
    "Impossible here to tell unfortunately. It is certainly a bit of both."
   ]
  },
  {
   "cell_type": "code",
   "execution_count": 16,
   "metadata": {},
   "outputs": [
    {
     "data": {
      "text/plain": [
       "Text(0,0.5,'points')"
      ]
     },
     "execution_count": 16,
     "metadata": {},
     "output_type": "execute_result"
    },
    {
     "data": {
      "image/png": "[encoded data removed]",
      "text/plain": [
       "<Figure size 720x360 with 1 Axes>"
      ]
     },
     "metadata": {},
     "output_type": "display_data"
    }
   ],
   "source": [
    "price_points = pd.read_csv(datafile, usecols=[4,5])\n",
    "price_points['price'] = price_points['price'].apply(np.log10)\n",
    "\n",
    "plt.scatter(price_points['price'], price_points['points'])\n",
    "plt.xlabel('price')\n",
    "plt.ylabel('points')\n"
   ]
  },
  {
   "cell_type": "markdown",
   "metadata": {},
   "source": [
    "### How much data is missing\n",
    "\n",
    "A few of the features miss quite a bit of time. \n",
    "In the end we decided to drop the \"region 2\" and \"designation\" features, \n",
    "as they are missing\n",
    "in most data points, and anyway doe not seem to be that informative in general.\n"
   ]
  },
  {
   "cell_type": "code",
   "execution_count": 4,
   "metadata": {},
   "outputs": [
    {
     "data": {
      "text/plain": [
       "<matplotlib.axes._subplots.AxesSubplot at 0x10205d278>"
      ]
     },
     "execution_count": 4,
     "metadata": {},
     "output_type": "execute_result"
    },
    {
     "data": {
      "image/png": "[encoded data removed]",
      "text/plain": [
       "<Figure size 1800x720 with 2 Axes>"
      ]
     },
     "metadata": {},
     "output_type": "display_data"
    }
   ],
   "source": [
    "fulldata = pd.read_csv(datafile)\n",
    "msno.matrix(fulldata)"
   ]
  },
  {
   "cell_type": "markdown",
   "metadata": {},
   "source": [
    "## How much can we guess the rating from objective wine parameters"
   ]
  },
  {
   "cell_type": "markdown",
   "metadata": {},
   "source": [
    "### First thing to do is to separate a chunk for testing\n",
    "\n",
    "I tried to be very careful about information leakage by splitting\n",
    "the data in a training and testing set as a first step.\n",
    "Then we do some treatment of the training data, which we format\n",
    "as functions, so that exactly the same treatment can be done\n",
    "for the testing data.\n",
    "\n",
    "The main problem is how to treat all the features which are strings. \n",
    "The different origin and types of the wine represent very diverse categories.\n",
    "A one-hot encoding would be very impractical, as certain features\n",
    "can be thousands of different categories. \n",
    "I chose to use the hashing encoding. \n",
    "This will remove a bit of information, but make sure\n",
    "that the data does not become unwieldy.\n",
    "\n",
    "As a first step, the choice is to try to guess the number of points\n",
    "from all other characteristics. I chose \n",
    "to encode the grade as different categories (bad, average, good).\n",
    "I made sure the distribution amongst those categories is more or less even\n",
    "(with about a third of the reviews falling in each categories), such that \n",
    "it is not possible to get a good accuracy score by just betting\n",
    "on the most likely categories. \n",
    "\n",
    "It might also be interesting to use the price as a target, \n",
    "to see if we can guess how much a wine costs by how well it is appreciated\n",
    "by the reviewers."
   ]
  },
  {
   "cell_type": "code",
   "execution_count": 5,
   "metadata": {},
   "outputs": [],
   "source": [
    "from sklearn.model_selection import train_test_split\n",
    "\n",
    "fulldata_train, fulldata_test = train_test_split(fulldata, test_size=0.1,\n",
    "                                                random_state=18)"
   ]
  },
  {
   "cell_type": "code",
   "execution_count": 6,
   "metadata": {},
   "outputs": [
    {
     "data": {
      "text/plain": [
       "66928"
      ]
     },
     "execution_count": 6,
     "metadata": {},
     "output_type": "execute_result"
    }
   ],
   "source": [
    "# As a first approach, we just drop data with missing samples\n",
    "# We remove two columns with much missing values\n",
    "\n",
    "def treat_data(dat):\n",
    "    # make a function so that we can do the same procedure to the\n",
    "    # test data later\n",
    "    newdat = dat.drop(columns=['region_2','designation'])\n",
    "    newdat = newdat.dropna()\n",
    "    return newdat\n",
    "    \n",
    "fulldata_nona = treat_data(fulldata_train)\n",
    "len(fulldata_nona)"
   ]
  },
  {
   "cell_type": "code",
   "execution_count": 1,
   "metadata": {
    "collapsed": true
   },
   "outputs": [
    {
     "ename": "NameError",
     "evalue": "name 'fulldata_nona' is not defined",
     "output_type": "error",
     "traceback": [
      "\u001b[0;31m---------------------------------------------------------------------------\u001b[0m",
      "\u001b[0;31mNameError\u001b[0m                                 Traceback (most recent call last)",
      "\u001b[0;32m<ipython-input-1-f9ebc2ed32ac>\u001b[0m in \u001b[0;36m<module>\u001b[0;34m()\u001b[0m\n\u001b[1;32m     10\u001b[0m     \u001b[0;32mreturn\u001b[0m \u001b[0mX\u001b[0m\u001b[0;34m,\u001b[0m \u001b[0my\u001b[0m\u001b[0;34m\u001b[0m\u001b[0m\n\u001b[1;32m     11\u001b[0m \u001b[0;34m\u001b[0m\u001b[0m\n\u001b[0;32m---> 12\u001b[0;31m \u001b[0mX_data\u001b[0m\u001b[0;34m,\u001b[0m  \u001b[0my_data\u001b[0m \u001b[0;34m=\u001b[0m \u001b[0mmake_xy\u001b[0m\u001b[0;34m(\u001b[0m\u001b[0mfulldata_nona\u001b[0m\u001b[0;34m)\u001b[0m\u001b[0;34m\u001b[0m\u001b[0m\n\u001b[0m",
      "\u001b[0;31mNameError\u001b[0m: name 'fulldata_nona' is not defined"
     ]
    }
   ],
   "source": [
    "# Preparing data: separated in features (X) and label (y)\n",
    "\n",
    "def make_xy(dat):\n",
    "    # forget description for now\n",
    "    X = dat.drop(\n",
    "        columns=['description', 'title', 'taster_twitter_handle','points']) \n",
    "    # Price on log scale for nicer numbers\n",
    "    X['price'] = X['price'].apply(np.log10)\n",
    "    y = dat['points']\n",
    "    return X, y\n",
    "\n",
    "X_data,  y_data = make_xy(fulldata_nona)"
   ]
  },
  {
   "cell_type": "code",
   "execution_count": 8,
   "metadata": {},
   "outputs": [
    {
     "data": {
      "text/plain": [
       "HashingEncoder(cols=['country', 'province', 'region_1', 'taster_name', 'variety', 'winery'],\n",
       "        drop_invariant=False, hash_method='md5', n_components=8,\n",
       "        return_df=True, verbose=0)"
      ]
     },
     "execution_count": 8,
     "metadata": {},
     "output_type": "execute_result"
    }
   ],
   "source": [
    "# First approach: use hashing on categorical features\n",
    "\n",
    "hashing = ce.HashingEncoder()\n",
    "#Hashing function is \"trained\" on training data only\n",
    "# to treat test data in the same way\n",
    "hashing.fit(X_data, y_data)"
   ]
  },
  {
   "cell_type": "code",
   "execution_count": 9,
   "metadata": {},
   "outputs": [],
   "source": [
    "def hashing_features(X):\n",
    "    newX = hashing.transform(X)\n",
    "    return newX\n",
    "\n",
    "X_data_hashed = hashing_features(X_data)"
   ]
  },
  {
   "cell_type": "code",
   "execution_count": 10,
   "metadata": {},
   "outputs": [],
   "source": [
    "# rescale target\n",
    "# Choose to get 5 labels, in order to train classifier\n",
    "\n",
    "scaling = lambda p: int((p-80)/4.)\n",
    "\n",
    "y_data_scaled = y_data.apply(scaling)\n"
   ]
  },
  {
   "cell_type": "code",
   "execution_count": 11,
   "metadata": {
    "scrolled": true
   },
   "outputs": [
    {
     "data": {
      "text/plain": [
       "<matplotlib.axes._subplots.AxesSubplot at 0x11f7a1470>"
      ]
     },
     "execution_count": 11,
     "metadata": {},
     "output_type": "execute_result"
    },
    {
     "data": {
      "image/png": "[encoded data removed]",
      "text/plain": [
       "<Figure size 720x360 with 1 Axes>"
      ]
     },
     "metadata": {},
     "output_type": "display_data"
    }
   ],
   "source": [
    "# Get grade from zero to five\n",
    "# bad, ok, good, excellent, OOTW (out of this world)\n",
    "\n",
    "y_data_scaled.hist(bins=20)"
   ]
  },
  {
   "cell_type": "code",
   "execution_count": 12,
   "metadata": {},
   "outputs": [
    {
     "name": "stdout",
     "output_type": "stream",
     "text": [
      "87 90\n"
     ]
    },
    {
     "data": {
      "text/plain": [
       "<matplotlib.axes._subplots.AxesSubplot at 0x122a93518>"
      ]
     },
     "execution_count": 12,
     "metadata": {},
     "output_type": "execute_result"
    },
    {
     "data": {
      "image/png": "[encoded data removed]",
      "text/plain": [
       "<Figure size 720x360 with 1 Axes>"
      ]
     },
     "metadata": {},
     "output_type": "display_data"
    }
   ],
   "source": [
    "# Alternatively, split scores into three equivalent bins: bad, average, good\n",
    "\n",
    "length_data = len(y_data_scaled)\n",
    "split1 = y_data.sort_values().values[length_data//3]\n",
    "split2 = y_data.sort_values().values[-length_data//3]\n",
    "\n",
    "print(split1, split2)\n",
    "\n",
    "def splitting_func(points):\n",
    "    # defined for training data only\n",
    "    # testing data will be scaled the same\n",
    "    if points <= split1:\n",
    "        return 0\n",
    "    elif points <= split2:\n",
    "        return 1\n",
    "    else:\n",
    "        return 2\n",
    "\n",
    "def rescale_points(y):\n",
    "    newy = y.apply(splitting_func)\n",
    "    return newy\n",
    "    \n",
    "y_data_binned = rescale_points(y_data)\n",
    "\n",
    "y_data_binned.hist(bins=20)"
   ]
  },
  {
   "cell_type": "markdown",
   "metadata": {},
   "source": [
    "## Fitting the data with a random forest\n",
    "\n",
    "Since there are many features of different kinds, \n",
    "tree classifiers and random forests seem like the best option here.\n",
    "We set up a random forest classifier (with a search grid in order to optimize parameters)\n",
    "and use it always on different subsets of the data,\n",
    "so that the model is always of the same kind and\n",
    "we are just comparing the data.\n",
    "\n",
    "We find that by fitting our original data, we\n",
    "guess the right points category 58% of the time.\n",
    "As we will see below, that is much better than random guessing.\n"
   ]
  },
  {
   "cell_type": "code",
   "execution_count": 13,
   "metadata": {},
   "outputs": [],
   "source": [
    "# Prepare testing data in the same way\n",
    "\n",
    "X_train, y_train = X_data_hashed, y_data_binned\n",
    "\n",
    "X_test_init, y_test_init = make_xy(treat_data(fulldata_test))\n",
    "X_test = hashing_features(X_test_init)\n",
    "y_test = rescale_points(y_test_init)"
   ]
  },
  {
   "cell_type": "code",
   "execution_count": 14,
   "metadata": {},
   "outputs": [],
   "source": [
    "from sklearn.ensemble import RandomForestClassifier\n",
    "from sklearn.model_selection import GridSearchCV"
   ]
  },
  {
   "cell_type": "code",
   "execution_count": 44,
   "metadata": {},
   "outputs": [],
   "source": [
    "# Testing classification problem with random forests\n",
    "\n",
    "param_grid = {\n",
    "    'n_estimators': [100],\n",
    "    'max_depth': [3,5,10]\n",
    "}\n",
    "\n",
    "gs = GridSearchCV(RandomForestClassifier(), param_grid, cv=10, \n",
    "                  return_train_score=True, verbose=2, n_jobs=6)"
   ]
  },
  {
   "cell_type": "code",
   "execution_count": 23,
   "metadata": {
    "collapsed": true
   },
   "outputs": [
    {
     "name": "stdout",
     "output_type": "stream",
     "text": [
      "Fitting 10 folds for each of 3 candidates, totalling 30 fits\n",
      "[CV] max_depth=3, n_estimators=100 ...................................\n",
      "[CV] max_depth=3, n_estimators=100 ...................................\n",
      "[CV] max_depth=3, n_estimators=100 ...................................\n",
      "[CV] max_depth=3, n_estimators=100 ...................................\n",
      "[CV] max_depth=3, n_estimators=100 ...................................\n",
      "[CV] max_depth=3, n_estimators=100 ...................................\n",
      "[CV] .................... max_depth=3, n_estimators=100, total=   6.4s\n",
      "[CV] max_depth=3, n_estimators=100 ...................................\n",
      "[CV] .................... max_depth=3, n_estimators=100, total=   6.5s\n",
      "[CV] .................... max_depth=3, n_estimators=100, total=   6.4s\n",
      "[CV] .................... max_depth=3, n_estimators=100, total=   6.4s\n",
      "[CV] max_depth=3, n_estimators=100 ...................................\n",
      "[CV] max_depth=3, n_estimators=100 ...................................\n",
      "[CV] .................... max_depth=3, n_estimators=100, total=   6.3s\n",
      "[CV] max_depth=3, n_estimators=100 ...................................\n",
      "[CV] max_depth=5, n_estimators=100 ...................................\n",
      "[CV] .................... max_depth=3, n_estimators=100, total=   6.3s\n",
      "[CV] max_depth=5, n_estimators=100 ...................................\n",
      "[CV] .................... max_depth=3, n_estimators=100, total=   7.1s\n",
      "[CV] .................... max_depth=3, n_estimators=100, total=   7.0s\n",
      "[CV] max_depth=5, n_estimators=100 ...................................\n",
      "[CV] max_depth=5, n_estimators=100 ...................................\n",
      "[CV] .................... max_depth=3, n_estimators=100, total=   7.0s\n",
      "[CV] max_depth=5, n_estimators=100 ...................................\n",
      "[CV] .................... max_depth=3, n_estimators=100, total=   6.9s\n",
      "[CV] max_depth=5, n_estimators=100 ...................................\n",
      "[CV] .................... max_depth=5, n_estimators=100, total=   9.7s\n",
      "[CV] .................... max_depth=5, n_estimators=100, total=   9.8s\n",
      "[CV] max_depth=5, n_estimators=100 ...................................\n",
      "[CV] max_depth=5, n_estimators=100 ...................................\n",
      "[CV] .................... max_depth=5, n_estimators=100, total=   8.8s\n",
      "[CV] .................... max_depth=5, n_estimators=100, total=   8.6s\n",
      "[CV] max_depth=5, n_estimators=100 ...................................\n",
      "[CV] .................... max_depth=5, n_estimators=100, total=   8.5s\n",
      "[CV] .................... max_depth=5, n_estimators=100, total=   8.8s\n",
      "[CV] max_depth=5, n_estimators=100 ...................................\n",
      "[CV] max_depth=10, n_estimators=100 ..................................\n",
      "[CV] max_depth=10, n_estimators=100 ..................................\n",
      "[CV] .................... max_depth=5, n_estimators=100, total=   8.6s\n",
      "[CV] .................... max_depth=5, n_estimators=100, total=   8.6s\n",
      "[CV] max_depth=10, n_estimators=100 ..................................\n",
      "[CV] max_depth=10, n_estimators=100 ..................................\n",
      "[CV] .................... max_depth=5, n_estimators=100, total=   8.7s\n",
      "[CV] max_depth=10, n_estimators=100 ..................................\n",
      "[CV] .................... max_depth=5, n_estimators=100, total=   8.7s\n",
      "[CV] max_depth=10, n_estimators=100 ..................................\n",
      "[CV] ................... max_depth=10, n_estimators=100, total=  13.4s\n",
      "[CV] max_depth=10, n_estimators=100 ..................................\n",
      "[CV] ................... max_depth=10, n_estimators=100, total=  13.6s\n",
      "[CV] max_depth=10, n_estimators=100 ..................................\n",
      "[CV] ................... max_depth=10, n_estimators=100, total=  13.3s\n",
      "[CV] ................... max_depth=10, n_estimators=100, total=  13.3s\n",
      "[CV] max_depth=10, n_estimators=100 ..................................\n",
      "[CV] max_depth=10, n_estimators=100 ..................................\n",
      "[CV] ................... max_depth=10, n_estimators=100, total=  14.0s\n",
      "[CV] ................... max_depth=10, n_estimators=100, total=  14.1s\n",
      "[CV] ................... max_depth=10, n_estimators=100, total=  12.7s\n",
      "[CV] ................... max_depth=10, n_estimators=100, total=  12.6s\n",
      "[CV] ................... max_depth=10, n_estimators=100, total=  11.4s\n",
      "[CV] ................... max_depth=10, n_estimators=100, total=  11.4s\n"
     ]
    },
    {
     "name": "stderr",
     "output_type": "stream",
     "text": [
      "[Parallel(n_jobs=6)]: Done  30 out of  30 | elapsed:   55.9s finished\n"
     ]
    },
    {
     "data": {
      "text/plain": [
       "GridSearchCV(cv=10, error_score='raise',\n",
       "       estimator=RandomForestClassifier(bootstrap=True, class_weight=None, criterion='gini',\n",
       "            max_depth=None, max_features='auto', max_leaf_nodes=None,\n",
       "            min_impurity_decrease=0.0, min_impurity_split=None,\n",
       "            min_samples_leaf=1, min_samples_split=2,\n",
       "            min_weight_fraction_leaf=0.0, n_estimators=10, n_jobs=1,\n",
       "            oob_score=False, random_state=None, verbose=0,\n",
       "            warm_start=False),\n",
       "       fit_params=None, iid=True, n_jobs=6,\n",
       "       param_grid={'n_estimators': [100], 'max_depth': [3, 5, 10]},\n",
       "       pre_dispatch='2*n_jobs', refit=True, return_train_score=True,\n",
       "       scoring=None, verbose=2)"
      ]
     },
     "execution_count": 23,
     "metadata": {},
     "output_type": "execute_result"
    }
   ],
   "source": [
    "gs.fit(X_train, y_train)"
   ]
  },
  {
   "cell_type": "code",
   "execution_count": 24,
   "metadata": {
    "scrolled": true
   },
   "outputs": [
    {
     "name": "stdout",
     "output_type": "stream",
     "text": [
      "0.610297633277552 0.5795763172189028\n"
     ]
    }
   ],
   "source": [
    "print(gs.best_estimator_.score(X_train, y_train), \n",
    "      gs.best_estimator_.score(X_test, y_test))"
   ]
  },
  {
   "cell_type": "markdown",
   "metadata": {},
   "source": [
    "### Baseline for estimating the score\n",
    "\n",
    "As mentioned above, the target labels were split evenly so that \n",
    "there is a 1/3 chance to guess the right category purely by accident.\n",
    "We check this with the dummy classifiers from sklearn, which\n",
    "cannot get a score above 36% by uninformed guess.\n",
    "\n",
    "This will provide the baseline for the scoring. If \n",
    "we can get a score larger than this, then this proves\n",
    "that we can learn something from the data.\n",
    "The higher the score, the more information\n",
    "was contained in the data."
   ]
  },
  {
   "cell_type": "code",
   "execution_count": 25,
   "metadata": {
    "scrolled": true
   },
   "outputs": [
    {
     "name": "stdout",
     "output_type": "stream",
     "text": [
      "strategy stratified gives a score of 0.3329712112982075\n",
      "strategy most_frequent gives a score of 0.36298207495926127\n",
      "strategy prior gives a score of 0.36298207495926127\n",
      "strategy uniform gives a score of 0.33460076045627374\n"
     ]
    }
   ],
   "source": [
    "# Make a baseline for guesses\n",
    "\n",
    "from sklearn.dummy import DummyClassifier\n",
    "\n",
    "strategies = ['stratified', 'most_frequent', 'prior', 'uniform']#, 'constant']\n",
    "\n",
    "for stra in strategies:\n",
    "    dummy1 = DummyClassifier(strategy = stra)\n",
    "    dummy1.fit(X_train, y_train)\n",
    "    print('strategy {} gives a score of {}'.format(stra,dummy1.score(X_test, y_test)))"
   ]
  },
  {
   "cell_type": "markdown",
   "metadata": {},
   "source": [
    "### Is there more information in the wine origin or the price?\n",
    "\n",
    "As expected, by just using the price, \n",
    "we have already quite a good guess,\n",
    "with an accuracy of 56%.\n",
    "Indeed, the price seems the most useful feature that correlates\n",
    "most with the points."
   ]
  },
  {
   "cell_type": "code",
   "execution_count": 26,
   "metadata": {
    "collapsed": true
   },
   "outputs": [
    {
     "name": "stdout",
     "output_type": "stream",
     "text": [
      "Fitting 10 folds for each of 3 candidates, totalling 30 fits\n",
      "[CV] max_depth=3, n_estimators=100 ...................................\n",
      "[CV] max_depth=3, n_estimators=100 ...................................\n",
      "[CV] max_depth=3, n_estimators=100 ...................................\n",
      "[CV] max_depth=3, n_estimators=100 ...................................\n",
      "[CV] max_depth=3, n_estimators=100 ...................................\n",
      "[CV] max_depth=3, n_estimators=100 ...................................\n",
      "[CV] .................... max_depth=3, n_estimators=100, total=   4.3s\n",
      "[CV] max_depth=3, n_estimators=100 ...................................\n",
      "[CV] .................... max_depth=3, n_estimators=100, total=   4.3s\n",
      "[CV] max_depth=3, n_estimators=100 ...................................\n",
      "[CV] .................... max_depth=3, n_estimators=100, total=   4.4s\n",
      "[CV] max_depth=3, n_estimators=100 ...................................\n",
      "[CV] .................... max_depth=3, n_estimators=100, total=   4.4s\n",
      "[CV] max_depth=3, n_estimators=100 ...................................\n",
      "[CV] .................... max_depth=3, n_estimators=100, total=   4.4s\n",
      "[CV] .................... max_depth=3, n_estimators=100, total=   4.3s\n",
      "[CV] max_depth=5, n_estimators=100 ...................................\n",
      "[CV] max_depth=5, n_estimators=100 ...................................\n",
      "[CV] .................... max_depth=3, n_estimators=100, total=   4.5s\n",
      "[CV] max_depth=5, n_estimators=100 ...................................\n",
      "[CV] .................... max_depth=3, n_estimators=100, total=   4.5s\n",
      "[CV] max_depth=5, n_estimators=100 ...................................\n",
      "[CV] .................... max_depth=3, n_estimators=100, total=   4.4s\n",
      "[CV] max_depth=5, n_estimators=100 ...................................\n",
      "[CV] .................... max_depth=3, n_estimators=100, total=   4.4s\n",
      "[CV] max_depth=5, n_estimators=100 ...................................\n",
      "[CV] .................... max_depth=5, n_estimators=100, total=   5.2s\n",
      "[CV] .................... max_depth=5, n_estimators=100, total=   5.2s\n",
      "[CV] max_depth=5, n_estimators=100 ...................................\n",
      "[CV] max_depth=5, n_estimators=100 ...................................\n",
      "[CV] .................... max_depth=5, n_estimators=100, total=   5.9s\n",
      "[CV] max_depth=5, n_estimators=100 ...................................\n",
      "[CV] .................... max_depth=5, n_estimators=100, total=   6.0s\n",
      "[CV] max_depth=5, n_estimators=100 ...................................\n",
      "[CV] .................... max_depth=5, n_estimators=100, total=   5.9s\n",
      "[CV] max_depth=10, n_estimators=100 ..................................\n",
      "[CV] .................... max_depth=5, n_estimators=100, total=   6.0s\n",
      "[CV] max_depth=10, n_estimators=100 ..................................\n",
      "[CV] .................... max_depth=5, n_estimators=100, total=   6.4s\n",
      "[CV] max_depth=10, n_estimators=100 ..................................\n",
      "[CV] .................... max_depth=5, n_estimators=100, total=   6.6s\n",
      "[CV] max_depth=10, n_estimators=100 ..................................\n",
      "[CV] .................... max_depth=5, n_estimators=100, total=   5.9s\n",
      "[CV] max_depth=10, n_estimators=100 ..................................\n",
      "[CV] .................... max_depth=5, n_estimators=100, total=   5.9s\n",
      "[CV] max_depth=10, n_estimators=100 ..................................\n",
      "[CV] ................... max_depth=10, n_estimators=100, total=   6.2s\n",
      "[CV] max_depth=10, n_estimators=100 ..................................\n",
      "[CV] ................... max_depth=10, n_estimators=100, total=   6.1s\n",
      "[CV] max_depth=10, n_estimators=100 ..................................\n",
      "[CV] ................... max_depth=10, n_estimators=100, total=   5.6s\n",
      "[CV] ................... max_depth=10, n_estimators=100, total=   5.8s\n",
      "[CV] max_depth=10, n_estimators=100 ..................................\n",
      "[CV] max_depth=10, n_estimators=100 ..................................\n",
      "[CV] ................... max_depth=10, n_estimators=100, total=   5.9s\n",
      "[CV] ................... max_depth=10, n_estimators=100, total=   5.9s\n",
      "[CV] ................... max_depth=10, n_estimators=100, total=   6.1s\n",
      "[CV] ................... max_depth=10, n_estimators=100, total=   5.9s\n",
      "[CV] ................... max_depth=10, n_estimators=100, total=   5.6s\n",
      "[CV] ................... max_depth=10, n_estimators=100, total=   5.7s\n"
     ]
    },
    {
     "name": "stderr",
     "output_type": "stream",
     "text": [
      "[Parallel(n_jobs=6)]: Done  30 out of  30 | elapsed:   34.2s finished\n"
     ]
    },
    {
     "data": {
      "text/plain": [
       "GridSearchCV(cv=10, error_score='raise',\n",
       "       estimator=RandomForestClassifier(bootstrap=True, class_weight=None, criterion='gini',\n",
       "            max_depth=None, max_features='auto', max_leaf_nodes=None,\n",
       "            min_impurity_decrease=0.0, min_impurity_split=None,\n",
       "            min_samples_leaf=1, min_samples_split=2,\n",
       "            min_weight_fraction_leaf=0.0, n_estimators=10, n_jobs=1,\n",
       "            oob_score=False, random_state=None, verbose=0,\n",
       "            warm_start=False),\n",
       "       fit_params=None, iid=True, n_jobs=6,\n",
       "       param_grid={'n_estimators': [100], 'max_depth': [3, 5, 10]},\n",
       "       pre_dispatch='2*n_jobs', refit=True, return_train_score=True,\n",
       "       scoring=None, verbose=2)"
      ]
     },
     "execution_count": 26,
     "metadata": {},
     "output_type": "execute_result"
    }
   ],
   "source": [
    "# Drop all but price\n",
    "\n",
    "\n",
    "gs.fit(X_train[['price']], y_train)"
   ]
  },
  {
   "cell_type": "code",
   "execution_count": 29,
   "metadata": {},
   "outputs": [
    {
     "name": "stdout",
     "output_type": "stream",
     "text": [
      "0.5595117140808032 0.561108093427485\n"
     ]
    }
   ],
   "source": [
    "print(gs.best_estimator_.score(X_train[['price']], y_train), \n",
    "      gs.best_estimator_.score(X_test[['price']], y_test))"
   ]
  },
  {
   "cell_type": "code",
   "execution_count": 30,
   "metadata": {
    "collapsed": true
   },
   "outputs": [
    {
     "name": "stdout",
     "output_type": "stream",
     "text": [
      "Fitting 10 folds for each of 3 candidates, totalling 30 fits\n",
      "[CV] max_depth=3, n_estimators=100 ...................................\n",
      "[CV] max_depth=3, n_estimators=100 ...................................\n",
      "[CV] max_depth=3, n_estimators=100 ...................................\n",
      "[CV] max_depth=3, n_estimators=100 ...................................\n",
      "[CV] max_depth=3, n_estimators=100 ...................................\n",
      "[CV] max_depth=3, n_estimators=100 ...................................\n",
      "[CV] .................... max_depth=3, n_estimators=100, total=   5.9s\n",
      "[CV] max_depth=3, n_estimators=100 ...................................\n",
      "[CV] .................... max_depth=3, n_estimators=100, total=   5.9s\n",
      "[CV] max_depth=3, n_estimators=100 ...................................\n",
      "[CV] .................... max_depth=3, n_estimators=100, total=   5.9s\n",
      "[CV] .................... max_depth=3, n_estimators=100, total=   5.9s\n",
      "[CV] max_depth=3, n_estimators=100 ...................................\n",
      "[CV] max_depth=3, n_estimators=100 ...................................\n",
      "[CV] .................... max_depth=3, n_estimators=100, total=   5.9s\n",
      "[CV] .................... max_depth=3, n_estimators=100, total=   5.8s\n",
      "[CV] max_depth=5, n_estimators=100 ...................................\n",
      "[CV] max_depth=5, n_estimators=100 ...................................\n",
      "[CV] .................... max_depth=3, n_estimators=100, total=   5.7s\n",
      "[CV] max_depth=5, n_estimators=100 ...................................\n",
      "[CV] .................... max_depth=3, n_estimators=100, total=   5.9s\n",
      "[CV] max_depth=5, n_estimators=100 ...................................\n",
      "[CV] .................... max_depth=3, n_estimators=100, total=   5.8s\n",
      "[CV] max_depth=5, n_estimators=100 ...................................\n",
      "[CV] .................... max_depth=3, n_estimators=100, total=   5.8s\n",
      "[CV] max_depth=5, n_estimators=100 ...................................\n",
      "[CV] .................... max_depth=5, n_estimators=100, total=   8.5s\n",
      "[CV] .................... max_depth=5, n_estimators=100, total=   8.5s\n",
      "[CV] max_depth=5, n_estimators=100 ...................................\n",
      "[CV] max_depth=5, n_estimators=100 ...................................\n",
      "[CV] .................... max_depth=5, n_estimators=100, total=   8.3s\n",
      "[CV] max_depth=5, n_estimators=100 ...................................\n",
      "[CV] .................... max_depth=5, n_estimators=100, total=   8.3s\n",
      "[CV] max_depth=5, n_estimators=100 ...................................\n",
      "[CV] .................... max_depth=5, n_estimators=100, total=   8.3s\n",
      "[CV] max_depth=10, n_estimators=100 ..................................\n",
      "[CV] .................... max_depth=5, n_estimators=100, total=   8.3s\n",
      "[CV] max_depth=10, n_estimators=100 ..................................\n",
      "[CV] .................... max_depth=5, n_estimators=100, total=   8.3s\n",
      "[CV] max_depth=10, n_estimators=100 ..................................\n",
      "[CV] .................... max_depth=5, n_estimators=100, total=   8.3s\n",
      "[CV] max_depth=10, n_estimators=100 ..................................\n",
      "[CV] .................... max_depth=5, n_estimators=100, total=   8.6s\n",
      "[CV] max_depth=10, n_estimators=100 ..................................\n",
      "[CV] .................... max_depth=5, n_estimators=100, total=   8.6s\n",
      "[CV] max_depth=10, n_estimators=100 ..................................\n",
      "[CV] ................... max_depth=10, n_estimators=100, total=  13.2s\n",
      "[CV] max_depth=10, n_estimators=100 ..................................\n",
      "[CV] ................... max_depth=10, n_estimators=100, total=  13.5s\n",
      "[CV] max_depth=10, n_estimators=100 ..................................\n",
      "[CV] ................... max_depth=10, n_estimators=100, total=  13.2s\n",
      "[CV] max_depth=10, n_estimators=100 ..................................\n",
      "[CV] ................... max_depth=10, n_estimators=100, total=  13.2s\n",
      "[CV] max_depth=10, n_estimators=100 ..................................\n",
      "[CV] ................... max_depth=10, n_estimators=100, total=  13.1s\n",
      "[CV] ................... max_depth=10, n_estimators=100, total=  13.3s\n",
      "[CV] ................... max_depth=10, n_estimators=100, total=  11.7s\n",
      "[CV] ................... max_depth=10, n_estimators=100, total=  11.6s\n",
      "[CV] ................... max_depth=10, n_estimators=100, total=  10.6s\n",
      "[CV] ................... max_depth=10, n_estimators=100, total=  10.4s\n"
     ]
    },
    {
     "name": "stderr",
     "output_type": "stream",
     "text": [
      "[Parallel(n_jobs=6)]: Done  30 out of  30 | elapsed:   52.7s finished\n"
     ]
    },
    {
     "data": {
      "text/plain": [
       "GridSearchCV(cv=10, error_score='raise',\n",
       "       estimator=RandomForestClassifier(bootstrap=True, class_weight=None, criterion='gini',\n",
       "            max_depth=None, max_features='auto', max_leaf_nodes=None,\n",
       "            min_impurity_decrease=0.0, min_impurity_split=None,\n",
       "            min_samples_leaf=1, min_samples_split=2,\n",
       "            min_weight_fraction_leaf=0.0, n_estimators=10, n_jobs=1,\n",
       "            oob_score=False, random_state=None, verbose=0,\n",
       "            warm_start=False),\n",
       "       fit_params=None, iid=True, n_jobs=6,\n",
       "       param_grid={'n_estimators': [100], 'max_depth': [3, 5, 10]},\n",
       "       pre_dispatch='2*n_jobs', refit=True, return_train_score=True,\n",
       "       scoring=None, verbose=2)"
      ]
     },
     "execution_count": 30,
     "metadata": {},
     "output_type": "execute_result"
    }
   ],
   "source": [
    "# Drop the price\n",
    "\n",
    "\n",
    "gs.fit(X_train.drop(columns='price'), y_train)"
   ]
  },
  {
   "cell_type": "code",
   "execution_count": 31,
   "metadata": {},
   "outputs": [
    {
     "name": "stdout",
     "output_type": "stream",
     "text": [
      "0.4994322256753526 0.455458989679522\n"
     ]
    }
   ],
   "source": [
    "print(gs.best_estimator_.score(X_train.drop(columns='price'), y_train), \n",
    "      gs.best_estimator_.score(X_test.drop(columns='price'), y_test))"
   ]
  },
  {
   "cell_type": "markdown",
   "metadata": {},
   "source": [
    "It is interesting that just by knowing the location and type of wine (and identity of the reviewer), \n",
    "we can still do a good guess whether the wine is good or not. \n",
    "This is most likely due to the fact that the list of wine is not random. The wines are chosen to be reviewed. If the reviewer chooses an exotic wine coming from a far away place, that is hard to obtain, they will most likely choose one with a good reputation rather than the local cheap wine. \n"
   ]
  },
  {
   "cell_type": "markdown",
   "metadata": {},
   "source": [
    "## Let's try now to extract information from the description of the wine\n",
    "\n",
    "The description is a long string of words of different lengths,\n",
    "for each wine. \n",
    "We need to treat the data in some way,\n",
    "before it can be comprehended by a random forest."
   ]
  },
  {
   "cell_type": "markdown",
   "metadata": {},
   "source": [
    "### feature from number of words\n",
    "\n",
    "The easiest thing to do with a long text to turn it into a number is simply to count the words. \n",
    "The assumption is that the length of the review will have something to do with\n",
    "how much the reviewer enjoyed the wine.\n",
    "\n",
    "As expected, better wines receive longer reviews. \n",
    "Surprisingly, the very best wines don't have the\n",
    "absolute longest reviews, but rather there is a category between 92 and 98 points\n",
    "that can get the longest reviews.\n",
    "\n",
    "As a further check, it woud be interesting to study \n",
    "the correlation of the descripiton length with the wine reviewers.\n",
    "Certainly some wine reviewers give longer reviews than others\n",
    "\n",
    "Suprisingly, there seems to be much less of a clear correlation\n",
    "between the description length and the price.\n",
    "In that case, it would seem that price and description length\n",
    "are good complementary informations to guess the number of points."
   ]
  },
  {
   "cell_type": "code",
   "execution_count": 38,
   "metadata": {},
   "outputs": [
    {
     "name": "stderr",
     "output_type": "stream",
     "text": [
      "/usr/local/lib/python3.6/site-packages/ipykernel_launcher.py:6: SettingWithCopyWarning: \n",
      "A value is trying to be set on a copy of a slice from a DataFrame.\n",
      "Try using .loc[row_indexer,col_indexer] = value instead\n",
      "\n",
      "See the caveats in the documentation: http://pandas.pydata.org/pandas-docs/stable/indexing.html#indexing-view-versus-copy\n",
      "  \n"
     ]
    },
    {
     "data": {
      "text/html": [
       "<div>\n",
       "<style scoped>\n",
       "    .dataframe tbody tr th:only-of-type {\n",
       "        vertical-align: middle;\n",
       "    }\n",
       "\n",
       "    .dataframe tbody tr th {\n",
       "        vertical-align: top;\n",
       "    }\n",
       "\n",
       "    .dataframe thead th {\n",
       "        text-align: right;\n",
       "    }\n",
       "</style>\n",
       "<table border=\"1\" class=\"dataframe\">\n",
       "  <thead>\n",
       "    <tr style=\"text-align: right;\">\n",
       "      <th></th>\n",
       "      <th>descr_length</th>\n",
       "    </tr>\n",
       "  </thead>\n",
       "  <tbody>\n",
       "    <tr>\n",
       "      <th>10684</th>\n",
       "      <td>31</td>\n",
       "    </tr>\n",
       "    <tr>\n",
       "      <th>78035</th>\n",
       "      <td>40</td>\n",
       "    </tr>\n",
       "    <tr>\n",
       "      <th>72938</th>\n",
       "      <td>41</td>\n",
       "    </tr>\n",
       "    <tr>\n",
       "      <th>90265</th>\n",
       "      <td>36</td>\n",
       "    </tr>\n",
       "    <tr>\n",
       "      <th>75304</th>\n",
       "      <td>27</td>\n",
       "    </tr>\n",
       "  </tbody>\n",
       "</table>\n",
       "</div>"
      ],
      "text/plain": [
       "       descr_length\n",
       "10684            31\n",
       "78035            40\n",
       "72938            41\n",
       "90265            36\n",
       "75304            27"
      ]
     },
     "execution_count": 38,
     "metadata": {},
     "output_type": "execute_result"
    },
    {
     "data": {
      "image/png": "[encoded data removed]",
      "text/plain": [
       "<Figure size 720x360 with 1 Axes>"
      ]
     },
     "metadata": {},
     "output_type": "display_data"
    }
   ],
   "source": [
    "\n",
    "count_words = lambda d: len(d.split())\n",
    "\n",
    "def get_descr_length(dat):\n",
    "    descr = dat[['description']]\n",
    "    descr['descr_length'] = descr['description'].apply(count_words)\n",
    "    return descr.drop(columns='description')\n",
    "\n",
    "descr_length = get_descr_length(fulldata_nona)\n",
    "\n",
    "descr_length['descr_length'].hist(bins=20)\n",
    "descr_length.head()"
   ]
  },
  {
   "cell_type": "code",
   "execution_count": 46,
   "metadata": {},
   "outputs": [
    {
     "data": {
      "text/html": [
       "<div>\n",
       "<style scoped>\n",
       "    .dataframe tbody tr th:only-of-type {\n",
       "        vertical-align: middle;\n",
       "    }\n",
       "\n",
       "    .dataframe tbody tr th {\n",
       "        vertical-align: top;\n",
       "    }\n",
       "\n",
       "    .dataframe thead th {\n",
       "        text-align: right;\n",
       "    }\n",
       "</style>\n",
       "<table border=\"1\" class=\"dataframe\">\n",
       "  <thead>\n",
       "    <tr style=\"text-align: right;\">\n",
       "      <th></th>\n",
       "      <th>A</th>\n",
       "    </tr>\n",
       "  </thead>\n",
       "  <tbody>\n",
       "    <tr>\n",
       "      <th>0</th>\n",
       "      <td>1</td>\n",
       "    </tr>\n",
       "    <tr>\n",
       "      <th>1</th>\n",
       "      <td>2</td>\n",
       "    </tr>\n",
       "    <tr>\n",
       "      <th>2</th>\n",
       "      <td>3</td>\n",
       "    </tr>\n",
       "  </tbody>\n",
       "</table>\n",
       "</div>"
      ],
      "text/plain": [
       "   A\n",
       "0  1\n",
       "1  2\n",
       "2  3"
      ]
     },
     "execution_count": 46,
     "metadata": {},
     "output_type": "execute_result"
    }
   ],
   "source": [
    "a = pd.DataFrame({\"A\":[1,2,3]})\n",
    "a['A'].map(lambda x: x*2)\n",
    "a"
   ]
  },
  {
   "cell_type": "code",
   "execution_count": 47,
   "metadata": {},
   "outputs": [
    {
     "data": {
      "text/plain": [
       "Text(0,0.5,'points')"
      ]
     },
     "execution_count": 47,
     "metadata": {},
     "output_type": "execute_result"
    },
    {
     "data": {
      "image/png": "[encoded data removed]",
      "text/plain": [
       "<Figure size 720x360 with 1 Axes>"
      ]
     },
     "metadata": {},
     "output_type": "display_data"
    }
   ],
   "source": [
    "# Correlation between points of wine and number of words\n",
    "\n",
    "plt.scatter(descr_length['descr_length'], fulldata_nona['points'])\n",
    "plt.xlabel('Description length')\n",
    "plt.ylabel('points')"
   ]
  },
  {
   "cell_type": "code",
   "execution_count": 49,
   "metadata": {},
   "outputs": [
    {
     "data": {
      "text/plain": [
       "Text(0,0.5,'price')"
      ]
     },
     "execution_count": 49,
     "metadata": {},
     "output_type": "execute_result"
    },
    {
     "data": {
      "image/png": "[encoded data removed]",
      "text/plain": [
       "<Figure size 720x360 with 1 Axes>"
      ]
     },
     "metadata": {},
     "output_type": "display_data"
    }
   ],
   "source": [
    "plt.scatter(descr_length['descr_length'], fulldata_nona['price'].apply(np.log10))\n",
    "plt.xlabel('Description length')\n",
    "plt.ylabel('price')"
   ]
  },
  {
   "cell_type": "code",
   "execution_count": 39,
   "metadata": {},
   "outputs": [
    {
     "name": "stderr",
     "output_type": "stream",
     "text": [
      "/usr/local/lib/python3.6/site-packages/ipykernel_launcher.py:6: SettingWithCopyWarning: \n",
      "A value is trying to be set on a copy of a slice from a DataFrame.\n",
      "Try using .loc[row_indexer,col_indexer] = value instead\n",
      "\n",
      "See the caveats in the documentation: http://pandas.pydata.org/pandas-docs/stable/indexing.html#indexing-view-versus-copy\n",
      "  \n"
     ]
    },
    {
     "data": {
      "text/html": [
       "<div>\n",
       "<style scoped>\n",
       "    .dataframe tbody tr th:only-of-type {\n",
       "        vertical-align: middle;\n",
       "    }\n",
       "\n",
       "    .dataframe tbody tr th {\n",
       "        vertical-align: top;\n",
       "    }\n",
       "\n",
       "    .dataframe thead th {\n",
       "        text-align: right;\n",
       "    }\n",
       "</style>\n",
       "<table border=\"1\" class=\"dataframe\">\n",
       "  <thead>\n",
       "    <tr style=\"text-align: right;\">\n",
       "      <th></th>\n",
       "      <th>col_0</th>\n",
       "      <th>col_1</th>\n",
       "      <th>col_2</th>\n",
       "      <th>col_3</th>\n",
       "      <th>col_4</th>\n",
       "      <th>col_5</th>\n",
       "      <th>col_6</th>\n",
       "      <th>col_7</th>\n",
       "      <th>Unnamed: 0</th>\n",
       "      <th>price</th>\n",
       "      <th>descr_length</th>\n",
       "    </tr>\n",
       "  </thead>\n",
       "  <tbody>\n",
       "    <tr>\n",
       "      <th>30684</th>\n",
       "      <td>0</td>\n",
       "      <td>0</td>\n",
       "      <td>1</td>\n",
       "      <td>2</td>\n",
       "      <td>2</td>\n",
       "      <td>0</td>\n",
       "      <td>0</td>\n",
       "      <td>1</td>\n",
       "      <td>30684</td>\n",
       "      <td>1.041393</td>\n",
       "      <td>41</td>\n",
       "    </tr>\n",
       "    <tr>\n",
       "      <th>27343</th>\n",
       "      <td>2</td>\n",
       "      <td>1</td>\n",
       "      <td>1</td>\n",
       "      <td>0</td>\n",
       "      <td>0</td>\n",
       "      <td>0</td>\n",
       "      <td>1</td>\n",
       "      <td>1</td>\n",
       "      <td>27343</td>\n",
       "      <td>1.653213</td>\n",
       "      <td>65</td>\n",
       "    </tr>\n",
       "    <tr>\n",
       "      <th>35514</th>\n",
       "      <td>0</td>\n",
       "      <td>1</td>\n",
       "      <td>0</td>\n",
       "      <td>2</td>\n",
       "      <td>0</td>\n",
       "      <td>2</td>\n",
       "      <td>0</td>\n",
       "      <td>1</td>\n",
       "      <td>35514</td>\n",
       "      <td>0.903090</td>\n",
       "      <td>27</td>\n",
       "    </tr>\n",
       "    <tr>\n",
       "      <th>89077</th>\n",
       "      <td>0</td>\n",
       "      <td>0</td>\n",
       "      <td>1</td>\n",
       "      <td>2</td>\n",
       "      <td>1</td>\n",
       "      <td>0</td>\n",
       "      <td>2</td>\n",
       "      <td>0</td>\n",
       "      <td>89077</td>\n",
       "      <td>1.397940</td>\n",
       "      <td>53</td>\n",
       "    </tr>\n",
       "    <tr>\n",
       "      <th>126252</th>\n",
       "      <td>0</td>\n",
       "      <td>0</td>\n",
       "      <td>3</td>\n",
       "      <td>0</td>\n",
       "      <td>0</td>\n",
       "      <td>0</td>\n",
       "      <td>2</td>\n",
       "      <td>1</td>\n",
       "      <td>126252</td>\n",
       "      <td>1.681241</td>\n",
       "      <td>65</td>\n",
       "    </tr>\n",
       "  </tbody>\n",
       "</table>\n",
       "</div>"
      ],
      "text/plain": [
       "        col_0  col_1  col_2  col_3  col_4  col_5  col_6  col_7  Unnamed: 0  \\\n",
       "30684       0      0      1      2      2      0      0      1       30684   \n",
       "27343       2      1      1      0      0      0      1      1       27343   \n",
       "35514       0      1      0      2      0      2      0      1       35514   \n",
       "89077       0      0      1      2      1      0      2      0       89077   \n",
       "126252      0      0      3      0      0      0      2      1      126252   \n",
       "\n",
       "           price  descr_length  \n",
       "30684   1.041393            41  \n",
       "27343   1.653213            65  \n",
       "35514   0.903090            27  \n",
       "89077   1.397940            53  \n",
       "126252  1.681241            65  "
      ]
     },
     "execution_count": 39,
     "metadata": {},
     "output_type": "execute_result"
    }
   ],
   "source": [
    "# Adding the new feature to the data\n",
    "\n",
    "\n",
    "X_train_2 = pd.concat([X_train, descr_length], axis=1)\n",
    "\n",
    "descr_le_test = get_descr_length(treat_data(fulldata_test))\n",
    "\n",
    "X_test_2 = pd.concat([X_test, descr_le_test], axis=1)\n",
    "\n",
    "X_test_2.head()\n",
    "#descr_le_test.head()"
   ]
  },
  {
   "cell_type": "code",
   "execution_count": 55,
   "metadata": {
    "collapsed": true
   },
   "outputs": [
    {
     "name": "stdout",
     "output_type": "stream",
     "text": [
      "Fitting 10 folds for each of 3 candidates, totalling 30 fits\n",
      "[CV] max_depth=3, n_estimators=100 ...................................\n",
      "[CV] max_depth=3, n_estimators=100 ...................................\n",
      "[CV] max_depth=3, n_estimators=100 ...................................\n",
      "[CV] max_depth=3, n_estimators=100 ...................................\n",
      "[CV] max_depth=3, n_estimators=100 ...................................\n",
      "[CV] max_depth=3, n_estimators=100 ...................................\n",
      "[CV] .................... max_depth=3, n_estimators=100, total=   6.3s\n",
      "[CV] max_depth=3, n_estimators=100 ...................................\n",
      "[CV] .................... max_depth=3, n_estimators=100, total=   6.3s\n",
      "[CV] .................... max_depth=3, n_estimators=100, total=   6.3s\n",
      "[CV] max_depth=3, n_estimators=100 ...................................\n",
      "[CV] max_depth=3, n_estimators=100 ...................................\n",
      "[CV] .................... max_depth=3, n_estimators=100, total=   6.4s\n",
      "[CV] .................... max_depth=3, n_estimators=100, total=   6.3s\n",
      "[CV] .................... max_depth=3, n_estimators=100, total=   6.3s\n",
      "[CV] max_depth=3, n_estimators=100 ...................................\n",
      "[CV] max_depth=5, n_estimators=100 ...................................\n",
      "[CV] max_depth=5, n_estimators=100 ...................................\n",
      "[CV] .................... max_depth=3, n_estimators=100, total=   6.6s\n",
      "[CV] max_depth=5, n_estimators=100 ...................................\n",
      "[CV] .................... max_depth=3, n_estimators=100, total=   6.5s\n",
      "[CV] max_depth=5, n_estimators=100 ...................................\n",
      "[CV] .................... max_depth=3, n_estimators=100, total=   6.6s\n",
      "[CV] max_depth=5, n_estimators=100 ...................................\n",
      "[CV] .................... max_depth=3, n_estimators=100, total=   6.6s\n",
      "[CV] max_depth=5, n_estimators=100 ...................................\n",
      "[CV] .................... max_depth=5, n_estimators=100, total=   9.5s\n",
      "[CV] .................... max_depth=5, n_estimators=100, total=   9.6s\n",
      "[CV] max_depth=5, n_estimators=100 ...................................\n",
      "[CV] max_depth=5, n_estimators=100 ...................................\n",
      "[CV] .................... max_depth=5, n_estimators=100, total=   9.0s\n",
      "[CV] max_depth=5, n_estimators=100 ...................................\n",
      "[CV] .................... max_depth=5, n_estimators=100, total=   9.0s\n",
      "[CV] .................... max_depth=5, n_estimators=100, total=   9.1s\n",
      "[CV] max_depth=5, n_estimators=100 ...................................\n",
      "[CV] max_depth=10, n_estimators=100 ..................................\n",
      "[CV] .................... max_depth=5, n_estimators=100, total=   8.9s\n",
      "[CV] max_depth=10, n_estimators=100 ..................................\n",
      "[CV] .................... max_depth=5, n_estimators=100, total=   8.8s\n",
      "[CV] max_depth=10, n_estimators=100 ..................................\n",
      "[CV] .................... max_depth=5, n_estimators=100, total=   8.9s\n",
      "[CV] max_depth=10, n_estimators=100 ..................................\n",
      "[CV] .................... max_depth=5, n_estimators=100, total=   8.7s\n",
      "[CV] max_depth=10, n_estimators=100 ..................................\n",
      "[CV] .................... max_depth=5, n_estimators=100, total=   8.7s\n",
      "[CV] max_depth=10, n_estimators=100 ..................................\n",
      "[CV] ................... max_depth=10, n_estimators=100, total=  13.7s\n",
      "[CV] max_depth=10, n_estimators=100 ..................................\n",
      "[CV] ................... max_depth=10, n_estimators=100, total=  13.8s\n",
      "[CV] max_depth=10, n_estimators=100 ..................................\n",
      "[CV] ................... max_depth=10, n_estimators=100, total=  13.7s\n",
      "[CV] max_depth=10, n_estimators=100 ..................................\n",
      "[CV] ................... max_depth=10, n_estimators=100, total=  13.7s\n",
      "[CV] max_depth=10, n_estimators=100 ..................................\n",
      "[CV] ................... max_depth=10, n_estimators=100, total=  14.1s\n",
      "[CV] ................... max_depth=10, n_estimators=100, total=  14.2s\n",
      "[CV] ................... max_depth=10, n_estimators=100, total=  12.9s\n",
      "[CV] ................... max_depth=10, n_estimators=100, total=  12.7s\n",
      "[CV] ................... max_depth=10, n_estimators=100, total=  11.3s\n",
      "[CV] ................... max_depth=10, n_estimators=100, total=  11.1s\n"
     ]
    },
    {
     "name": "stderr",
     "output_type": "stream",
     "text": [
      "[Parallel(n_jobs=6)]: Done  30 out of  30 | elapsed:   56.2s finished\n"
     ]
    },
    {
     "data": {
      "text/plain": [
       "GridSearchCV(cv=10, error_score='raise',\n",
       "       estimator=RandomForestClassifier(bootstrap=True, class_weight=None, criterion='gini',\n",
       "            max_depth=None, max_features='auto', max_leaf_nodes=None,\n",
       "            min_impurity_decrease=0.0, min_impurity_split=None,\n",
       "            min_samples_leaf=1, min_samples_split=2,\n",
       "            min_weight_fraction_leaf=0.0, n_estimators=10, n_jobs=1,\n",
       "            oob_score=False, random_state=None, verbose=0,\n",
       "            warm_start=False),\n",
       "       fit_params=None, iid=True, n_jobs=6,\n",
       "       param_grid={'n_estimators': [100], 'max_depth': [3, 5, 10]},\n",
       "       pre_dispatch='2*n_jobs', refit=True, return_train_score=True,\n",
       "       scoring=None, verbose=2)"
      ]
     },
     "execution_count": 55,
     "metadata": {},
     "output_type": "execute_result"
    }
   ],
   "source": [
    "# Fit with description length\n",
    "\n",
    "\n",
    "gs.fit(X_train_2, y_train)"
   ]
  },
  {
   "cell_type": "code",
   "execution_count": 69,
   "metadata": {},
   "outputs": [
    {
     "name": "stdout",
     "output_type": "stream",
     "text": [
      "0.6531197704996414 0.6208582292232482\n"
     ]
    }
   ],
   "source": [
    "print(gs.best_estimator_.score(X_train_2, y_train), \n",
    "      gs.best_estimator_.score(X_test_2, y_test))"
   ]
  },
  {
   "cell_type": "markdown",
   "metadata": {},
   "source": [
    "Indeed we increase the score significantly by adding the description length \n",
    "as a new feature."
   ]
  },
  {
   "cell_type": "code",
   "execution_count": 70,
   "metadata": {
    "collapsed": true
   },
   "outputs": [
    {
     "name": "stdout",
     "output_type": "stream",
     "text": [
      "Fitting 10 folds for each of 3 candidates, totalling 30 fits\n",
      "[CV] max_depth=3, n_estimators=100 ...................................\n",
      "[CV] max_depth=3, n_estimators=100 ...................................\n",
      "[CV] max_depth=3, n_estimators=100 ...................................\n",
      "[CV] max_depth=3, n_estimators=100 ...................................\n",
      "[CV] max_depth=3, n_estimators=100 ...................................\n",
      "[CV] max_depth=3, n_estimators=100 ...................................\n",
      "[CV] .................... max_depth=3, n_estimators=100, total=   4.3s\n",
      "[CV] .................... max_depth=3, n_estimators=100, total=   4.3s\n",
      "[CV] max_depth=3, n_estimators=100 ...................................\n",
      "[CV] max_depth=3, n_estimators=100 ...................................\n",
      "[CV] .................... max_depth=3, n_estimators=100, total=   4.3s\n",
      "[CV] max_depth=3, n_estimators=100 ...................................\n",
      "[CV] .................... max_depth=3, n_estimators=100, total=   4.3s\n",
      "[CV] .................... max_depth=3, n_estimators=100, total=   4.3s\n",
      "[CV] max_depth=3, n_estimators=100 ...................................\n",
      "[CV] max_depth=5, n_estimators=100 ...................................\n",
      "[CV] .................... max_depth=3, n_estimators=100, total=   4.3s\n",
      "[CV] max_depth=5, n_estimators=100 ...................................\n",
      "[CV] .................... max_depth=3, n_estimators=100, total=   4.3s\n",
      "[CV] max_depth=5, n_estimators=100 ...................................\n",
      "[CV] .................... max_depth=3, n_estimators=100, total=   4.3s\n",
      "[CV] max_depth=5, n_estimators=100 ...................................\n",
      "[CV] .................... max_depth=3, n_estimators=100, total=   4.3s\n",
      "[CV] max_depth=5, n_estimators=100 ...................................\n",
      "[CV] .................... max_depth=3, n_estimators=100, total=   4.3s\n",
      "[CV] max_depth=5, n_estimators=100 ...................................\n",
      "[CV] .................... max_depth=5, n_estimators=100, total=   4.9s\n",
      "[CV] max_depth=5, n_estimators=100 ...................................\n",
      "[CV] .................... max_depth=5, n_estimators=100, total=   4.9s\n",
      "[CV] max_depth=5, n_estimators=100 ...................................\n",
      "[CV] .................... max_depth=5, n_estimators=100, total=   5.1s\n",
      "[CV] max_depth=5, n_estimators=100 ...................................\n",
      "[CV] .................... max_depth=5, n_estimators=100, total=   5.1s\n",
      "[CV] max_depth=5, n_estimators=100 ...................................\n",
      "[CV] .................... max_depth=5, n_estimators=100, total=   5.1s\n",
      "[CV] max_depth=10, n_estimators=100 ..................................\n",
      "[CV] .................... max_depth=5, n_estimators=100, total=   5.1s\n",
      "[CV] max_depth=10, n_estimators=100 ..................................\n",
      "[CV] .................... max_depth=5, n_estimators=100, total=   5.0s\n",
      "[CV] max_depth=10, n_estimators=100 ..................................\n",
      "[CV] .................... max_depth=5, n_estimators=100, total=   4.9s\n",
      "[CV] max_depth=10, n_estimators=100 ..................................\n",
      "[CV] .................... max_depth=5, n_estimators=100, total=   5.0s\n",
      "[CV] max_depth=10, n_estimators=100 ..................................\n",
      "[CV] .................... max_depth=5, n_estimators=100, total=   4.9s\n",
      "[CV] max_depth=10, n_estimators=100 ..................................\n",
      "[CV] ................... max_depth=10, n_estimators=100, total=   5.3s\n",
      "[CV] max_depth=10, n_estimators=100 ..................................\n",
      "[CV] ................... max_depth=10, n_estimators=100, total=   5.3s\n",
      "[CV] max_depth=10, n_estimators=100 ..................................\n",
      "[CV] ................... max_depth=10, n_estimators=100, total=   5.1s\n",
      "[CV] max_depth=10, n_estimators=100 ..................................\n",
      "[CV] ................... max_depth=10, n_estimators=100, total=   5.2s\n",
      "[CV] max_depth=10, n_estimators=100 ..................................\n",
      "[CV] ................... max_depth=10, n_estimators=100, total=   5.2s\n",
      "[CV] ................... max_depth=10, n_estimators=100, total=   5.2s\n",
      "[CV] ................... max_depth=10, n_estimators=100, total=   5.3s\n",
      "[CV] ................... max_depth=10, n_estimators=100, total=   5.2s\n",
      "[CV] ................... max_depth=10, n_estimators=100, total=   5.1s\n",
      "[CV] ................... max_depth=10, n_estimators=100, total=   4.9s\n"
     ]
    },
    {
     "name": "stderr",
     "output_type": "stream",
     "text": [
      "[Parallel(n_jobs=6)]: Done  30 out of  30 | elapsed:   30.2s finished\n"
     ]
    },
    {
     "data": {
      "text/plain": [
       "GridSearchCV(cv=10, error_score='raise',\n",
       "       estimator=RandomForestClassifier(bootstrap=True, class_weight=None, criterion='gini',\n",
       "            max_depth=None, max_features='auto', max_leaf_nodes=None,\n",
       "            min_impurity_decrease=0.0, min_impurity_split=None,\n",
       "            min_samples_leaf=1, min_samples_split=2,\n",
       "            min_weight_fraction_leaf=0.0, n_estimators=10, n_jobs=1,\n",
       "            oob_score=False, random_state=None, verbose=0,\n",
       "            warm_start=False),\n",
       "       fit_params=None, iid=True, n_jobs=6,\n",
       "       param_grid={'n_estimators': [100], 'max_depth': [3, 5, 10]},\n",
       "       pre_dispatch='2*n_jobs', refit=True, return_train_score=True,\n",
       "       scoring=None, verbose=2)"
      ]
     },
     "execution_count": 70,
     "metadata": {},
     "output_type": "execute_result"
    }
   ],
   "source": [
    "# What if we only keep this new feature\n",
    "\n",
    "\n",
    "gs.fit(descr_length, y_train)"
   ]
  },
  {
   "cell_type": "code",
   "execution_count": 72,
   "metadata": {},
   "outputs": [
    {
     "name": "stdout",
     "output_type": "stream",
     "text": [
      "0.49859550561797755 0.5058392178164042\n"
     ]
    }
   ],
   "source": [
    "print(gs.best_estimator_.score(descr_length, y_train), \n",
    "      gs.best_estimator_.score(descr_le_test, y_test))"
   ]
  },
  {
   "cell_type": "markdown",
   "metadata": {},
   "source": [
    "This is almost as good as the price in order to predict the score of the wine."
   ]
  },
  {
   "cell_type": "markdown",
   "metadata": {},
   "source": [
    "### Find the n most common words in description\n",
    "\n",
    "As a further treatment of the description, I had the idea of\n",
    "checking the 100 most common words used in the description in the\n",
    "whole data.\n",
    "Then for each wine review, it is possible to create a feature\n",
    "whether a given word is present or not in the review.\n",
    "The idea is that certain words might \"signal\" a good or a bad wine.\n",
    "I would like to check whether certain words tend to increase\n",
    "the wine score or decrease it.\n",
    "\n",
    "Unfortunately, due to contraints in time, I could not finish this treatment."
   ]
  },
  {
   "cell_type": "code",
   "execution_count": 16,
   "metadata": {},
   "outputs": [],
   "source": [
    "import string, re\n",
    "descr = fulldata_nona[['description']]\n",
    "\n",
    "# remove punctuation\n",
    "regex = re.compile('[%s]' % re.escape(string.punctuation))\n",
    "\n",
    "# Count 100 most common words\n",
    "commonwords = pd.Series(regex.sub('',(' '.join(descr.description).lower()))\n",
    "                                  .split()).value_counts()[:100]"
   ]
  },
  {
   "cell_type": "code",
   "execution_count": 26,
   "metadata": {},
   "outputs": [
    {
     "data": {
      "text/plain": [
       "100"
      ]
     },
     "execution_count": 26,
     "metadata": {},
     "output_type": "execute_result"
    }
   ],
   "source": [
    "\n",
    "(commonwords.index)"
   ]
  },
  {
   "cell_type": "code",
   "execution_count": 36,
   "metadata": {},
   "outputs": [
    {
     "name": "stderr",
     "output_type": "stream",
     "text": [
      "/usr/local/lib/python3.6/site-packages/ipykernel_launcher.py:14: SettingWithCopyWarning: \n",
      "A value is trying to be set on a copy of a slice from a DataFrame.\n",
      "Try using .loc[row_indexer,col_indexer] = value instead\n",
      "\n",
      "See the caveats in the documentation: http://pandas.pydata.org/pandas-docs/stable/indexing.html#indexing-view-versus-copy\n",
      "  \n"
     ]
    },
    {
     "data": {
      "text/html": [
       "<div>\n",
       "<style scoped>\n",
       "    .dataframe tbody tr th:only-of-type {\n",
       "        vertical-align: middle;\n",
       "    }\n",
       "\n",
       "    .dataframe tbody tr th {\n",
       "        vertical-align: top;\n",
       "    }\n",
       "\n",
       "    .dataframe thead th {\n",
       "        text-align: right;\n",
       "    }\n",
       "</style>\n",
       "<table border=\"1\" class=\"dataframe\">\n",
       "  <thead>\n",
       "    <tr style=\"text-align: right;\">\n",
       "      <th></th>\n",
       "      <th>incl_and</th>\n",
       "      <th>incl_the</th>\n",
       "      <th>incl_a</th>\n",
       "      <th>incl_of</th>\n",
       "      <th>incl_this</th>\n",
       "      <th>incl_with</th>\n",
       "      <th>incl_is</th>\n",
       "      <th>incl_wine</th>\n",
       "      <th>incl_in</th>\n",
       "      <th>incl_flavors</th>\n",
       "      <th>...</th>\n",
       "      <th>incl_peach</th>\n",
       "      <th>incl_hint</th>\n",
       "      <th>incl_lead</th>\n",
       "      <th>incl_be</th>\n",
       "      <th>incl_all</th>\n",
       "      <th>incl_note</th>\n",
       "      <th>incl_made</th>\n",
       "      <th>incl_structure</th>\n",
       "      <th>incl_into</th>\n",
       "      <th>incl_along</th>\n",
       "    </tr>\n",
       "  </thead>\n",
       "  <tbody>\n",
       "    <tr>\n",
       "      <th>10684</th>\n",
       "      <td>1.0</td>\n",
       "      <td>1.0</td>\n",
       "      <td>1.0</td>\n",
       "      <td>0.0</td>\n",
       "      <td>1.0</td>\n",
       "      <td>1.0</td>\n",
       "      <td>1.0</td>\n",
       "      <td>1.0</td>\n",
       "      <td>1.0</td>\n",
       "      <td>1.0</td>\n",
       "      <td>...</td>\n",
       "      <td>0.0</td>\n",
       "      <td>0.0</td>\n",
       "      <td>0.0</td>\n",
       "      <td>0.0</td>\n",
       "      <td>0.0</td>\n",
       "      <td>0.0</td>\n",
       "      <td>0.0</td>\n",
       "      <td>0.0</td>\n",
       "      <td>0.0</td>\n",
       "      <td>0.0</td>\n",
       "    </tr>\n",
       "    <tr>\n",
       "      <th>78035</th>\n",
       "      <td>1.0</td>\n",
       "      <td>0.0</td>\n",
       "      <td>1.0</td>\n",
       "      <td>0.0</td>\n",
       "      <td>0.0</td>\n",
       "      <td>1.0</td>\n",
       "      <td>1.0</td>\n",
       "      <td>1.0</td>\n",
       "      <td>1.0</td>\n",
       "      <td>0.0</td>\n",
       "      <td>...</td>\n",
       "      <td>0.0</td>\n",
       "      <td>0.0</td>\n",
       "      <td>0.0</td>\n",
       "      <td>1.0</td>\n",
       "      <td>1.0</td>\n",
       "      <td>0.0</td>\n",
       "      <td>0.0</td>\n",
       "      <td>0.0</td>\n",
       "      <td>0.0</td>\n",
       "      <td>1.0</td>\n",
       "    </tr>\n",
       "    <tr>\n",
       "      <th>72938</th>\n",
       "      <td>1.0</td>\n",
       "      <td>1.0</td>\n",
       "      <td>1.0</td>\n",
       "      <td>1.0</td>\n",
       "      <td>0.0</td>\n",
       "      <td>0.0</td>\n",
       "      <td>1.0</td>\n",
       "      <td>1.0</td>\n",
       "      <td>1.0</td>\n",
       "      <td>0.0</td>\n",
       "      <td>...</td>\n",
       "      <td>0.0</td>\n",
       "      <td>0.0</td>\n",
       "      <td>0.0</td>\n",
       "      <td>1.0</td>\n",
       "      <td>0.0</td>\n",
       "      <td>1.0</td>\n",
       "      <td>0.0</td>\n",
       "      <td>0.0</td>\n",
       "      <td>0.0</td>\n",
       "      <td>0.0</td>\n",
       "    </tr>\n",
       "    <tr>\n",
       "      <th>90265</th>\n",
       "      <td>1.0</td>\n",
       "      <td>1.0</td>\n",
       "      <td>1.0</td>\n",
       "      <td>1.0</td>\n",
       "      <td>1.0</td>\n",
       "      <td>1.0</td>\n",
       "      <td>1.0</td>\n",
       "      <td>0.0</td>\n",
       "      <td>1.0</td>\n",
       "      <td>1.0</td>\n",
       "      <td>...</td>\n",
       "      <td>1.0</td>\n",
       "      <td>0.0</td>\n",
       "      <td>0.0</td>\n",
       "      <td>1.0</td>\n",
       "      <td>0.0</td>\n",
       "      <td>0.0</td>\n",
       "      <td>0.0</td>\n",
       "      <td>0.0</td>\n",
       "      <td>0.0</td>\n",
       "      <td>0.0</td>\n",
       "    </tr>\n",
       "    <tr>\n",
       "      <th>75304</th>\n",
       "      <td>1.0</td>\n",
       "      <td>0.0</td>\n",
       "      <td>1.0</td>\n",
       "      <td>1.0</td>\n",
       "      <td>1.0</td>\n",
       "      <td>0.0</td>\n",
       "      <td>1.0</td>\n",
       "      <td>0.0</td>\n",
       "      <td>1.0</td>\n",
       "      <td>1.0</td>\n",
       "      <td>...</td>\n",
       "      <td>0.0</td>\n",
       "      <td>0.0</td>\n",
       "      <td>0.0</td>\n",
       "      <td>1.0</td>\n",
       "      <td>1.0</td>\n",
       "      <td>0.0</td>\n",
       "      <td>0.0</td>\n",
       "      <td>0.0</td>\n",
       "      <td>0.0</td>\n",
       "      <td>0.0</td>\n",
       "    </tr>\n",
       "  </tbody>\n",
       "</table>\n",
       "<p>5 rows × 100 columns</p>\n",
       "</div>"
      ],
      "text/plain": [
       "       incl_and  incl_the  incl_a  incl_of  incl_this  incl_with  incl_is  \\\n",
       "10684       1.0       1.0     1.0      0.0        1.0        1.0      1.0   \n",
       "78035       1.0       0.0     1.0      0.0        0.0        1.0      1.0   \n",
       "72938       1.0       1.0     1.0      1.0        0.0        0.0      1.0   \n",
       "90265       1.0       1.0     1.0      1.0        1.0        1.0      1.0   \n",
       "75304       1.0       0.0     1.0      1.0        1.0        0.0      1.0   \n",
       "\n",
       "       incl_wine  incl_in  incl_flavors     ...      incl_peach  incl_hint  \\\n",
       "10684        1.0      1.0           1.0     ...             0.0        0.0   \n",
       "78035        1.0      1.0           0.0     ...             0.0        0.0   \n",
       "72938        1.0      1.0           0.0     ...             0.0        0.0   \n",
       "90265        0.0      1.0           1.0     ...             1.0        0.0   \n",
       "75304        0.0      1.0           1.0     ...             0.0        0.0   \n",
       "\n",
       "       incl_lead  incl_be  incl_all  incl_note  incl_made  incl_structure  \\\n",
       "10684        0.0      0.0       0.0        0.0        0.0             0.0   \n",
       "78035        0.0      1.0       1.0        0.0        0.0             0.0   \n",
       "72938        0.0      1.0       0.0        1.0        0.0             0.0   \n",
       "90265        0.0      1.0       0.0        0.0        0.0             0.0   \n",
       "75304        0.0      1.0       1.0        0.0        0.0             0.0   \n",
       "\n",
       "       incl_into  incl_along  \n",
       "10684        0.0         0.0  \n",
       "78035        0.0         1.0  \n",
       "72938        0.0         0.0  \n",
       "90265        0.0         0.0  \n",
       "75304        0.0         0.0  \n",
       "\n",
       "[5 rows x 100 columns]"
      ]
     },
     "execution_count": 36,
     "metadata": {},
     "output_type": "execute_result"
    }
   ],
   "source": [
    "# create features for if it includes a certain word\n",
    "\n",
    "def includes_word(w):\n",
    "    def inclues_w(desc):\n",
    "        if w in desc:\n",
    "            return 1\n",
    "        else:\n",
    "            return 0\n",
    "    return includes_w\n",
    "\n",
    "def add_includes_words(dat):\n",
    "    descr = dat[['description']]\n",
    "    for word in commonwords.index:\n",
    "        descr['incl_{}'.format(word)] = descr['description'].apply(count_word(word)).head()\n",
    "    return descr.drop(columns='description')\n",
    "\n",
    "descr_incl = add_includes_words(fulldata_nona)\n",
    "descr_incl.head()"
   ]
  },
  {
   "cell_type": "code",
   "execution_count": 42,
   "metadata": {},
   "outputs": [
    {
     "name": "stderr",
     "output_type": "stream",
     "text": [
      "/usr/local/lib/python3.6/site-packages/ipykernel_launcher.py:14: SettingWithCopyWarning: \n",
      "A value is trying to be set on a copy of a slice from a DataFrame.\n",
      "Try using .loc[row_indexer,col_indexer] = value instead\n",
      "\n",
      "See the caveats in the documentation: http://pandas.pydata.org/pandas-docs/stable/indexing.html#indexing-view-versus-copy\n",
      "  \n"
     ]
    },
    {
     "data": {
      "text/html": [
       "<div>\n",
       "<style scoped>\n",
       "    .dataframe tbody tr th:only-of-type {\n",
       "        vertical-align: middle;\n",
       "    }\n",
       "\n",
       "    .dataframe tbody tr th {\n",
       "        vertical-align: top;\n",
       "    }\n",
       "\n",
       "    .dataframe thead th {\n",
       "        text-align: right;\n",
       "    }\n",
       "</style>\n",
       "<table border=\"1\" class=\"dataframe\">\n",
       "  <thead>\n",
       "    <tr style=\"text-align: right;\">\n",
       "      <th></th>\n",
       "      <th>col_0</th>\n",
       "      <th>col_1</th>\n",
       "      <th>col_2</th>\n",
       "      <th>col_3</th>\n",
       "      <th>col_4</th>\n",
       "      <th>col_5</th>\n",
       "      <th>col_6</th>\n",
       "      <th>col_7</th>\n",
       "      <th>Unnamed: 0</th>\n",
       "      <th>price</th>\n",
       "      <th>...</th>\n",
       "      <th>incl_peach</th>\n",
       "      <th>incl_hint</th>\n",
       "      <th>incl_lead</th>\n",
       "      <th>incl_be</th>\n",
       "      <th>incl_all</th>\n",
       "      <th>incl_note</th>\n",
       "      <th>incl_made</th>\n",
       "      <th>incl_structure</th>\n",
       "      <th>incl_into</th>\n",
       "      <th>incl_along</th>\n",
       "    </tr>\n",
       "  </thead>\n",
       "  <tbody>\n",
       "    <tr>\n",
       "      <th>30684</th>\n",
       "      <td>0</td>\n",
       "      <td>0</td>\n",
       "      <td>1</td>\n",
       "      <td>2</td>\n",
       "      <td>2</td>\n",
       "      <td>0</td>\n",
       "      <td>0</td>\n",
       "      <td>1</td>\n",
       "      <td>30684</td>\n",
       "      <td>1.041393</td>\n",
       "      <td>...</td>\n",
       "      <td>1.0</td>\n",
       "      <td>0.0</td>\n",
       "      <td>1.0</td>\n",
       "      <td>0.0</td>\n",
       "      <td>0.0</td>\n",
       "      <td>0.0</td>\n",
       "      <td>0.0</td>\n",
       "      <td>0.0</td>\n",
       "      <td>0.0</td>\n",
       "      <td>1.0</td>\n",
       "    </tr>\n",
       "    <tr>\n",
       "      <th>27343</th>\n",
       "      <td>2</td>\n",
       "      <td>1</td>\n",
       "      <td>1</td>\n",
       "      <td>0</td>\n",
       "      <td>0</td>\n",
       "      <td>0</td>\n",
       "      <td>1</td>\n",
       "      <td>1</td>\n",
       "      <td>27343</td>\n",
       "      <td>1.653213</td>\n",
       "      <td>...</td>\n",
       "      <td>0.0</td>\n",
       "      <td>0.0</td>\n",
       "      <td>0.0</td>\n",
       "      <td>0.0</td>\n",
       "      <td>1.0</td>\n",
       "      <td>0.0</td>\n",
       "      <td>0.0</td>\n",
       "      <td>0.0</td>\n",
       "      <td>0.0</td>\n",
       "      <td>0.0</td>\n",
       "    </tr>\n",
       "    <tr>\n",
       "      <th>35514</th>\n",
       "      <td>0</td>\n",
       "      <td>1</td>\n",
       "      <td>0</td>\n",
       "      <td>2</td>\n",
       "      <td>0</td>\n",
       "      <td>2</td>\n",
       "      <td>0</td>\n",
       "      <td>1</td>\n",
       "      <td>35514</td>\n",
       "      <td>0.903090</td>\n",
       "      <td>...</td>\n",
       "      <td>0.0</td>\n",
       "      <td>0.0</td>\n",
       "      <td>0.0</td>\n",
       "      <td>1.0</td>\n",
       "      <td>0.0</td>\n",
       "      <td>0.0</td>\n",
       "      <td>0.0</td>\n",
       "      <td>0.0</td>\n",
       "      <td>0.0</td>\n",
       "      <td>0.0</td>\n",
       "    </tr>\n",
       "    <tr>\n",
       "      <th>89077</th>\n",
       "      <td>0</td>\n",
       "      <td>0</td>\n",
       "      <td>1</td>\n",
       "      <td>2</td>\n",
       "      <td>1</td>\n",
       "      <td>0</td>\n",
       "      <td>2</td>\n",
       "      <td>0</td>\n",
       "      <td>89077</td>\n",
       "      <td>1.397940</td>\n",
       "      <td>...</td>\n",
       "      <td>1.0</td>\n",
       "      <td>0.0</td>\n",
       "      <td>0.0</td>\n",
       "      <td>1.0</td>\n",
       "      <td>0.0</td>\n",
       "      <td>1.0</td>\n",
       "      <td>0.0</td>\n",
       "      <td>0.0</td>\n",
       "      <td>0.0</td>\n",
       "      <td>0.0</td>\n",
       "    </tr>\n",
       "    <tr>\n",
       "      <th>126252</th>\n",
       "      <td>0</td>\n",
       "      <td>0</td>\n",
       "      <td>3</td>\n",
       "      <td>0</td>\n",
       "      <td>0</td>\n",
       "      <td>0</td>\n",
       "      <td>2</td>\n",
       "      <td>1</td>\n",
       "      <td>126252</td>\n",
       "      <td>1.681241</td>\n",
       "      <td>...</td>\n",
       "      <td>0.0</td>\n",
       "      <td>1.0</td>\n",
       "      <td>0.0</td>\n",
       "      <td>1.0</td>\n",
       "      <td>1.0</td>\n",
       "      <td>0.0</td>\n",
       "      <td>0.0</td>\n",
       "      <td>0.0</td>\n",
       "      <td>0.0</td>\n",
       "      <td>0.0</td>\n",
       "    </tr>\n",
       "  </tbody>\n",
       "</table>\n",
       "<p>5 rows × 111 columns</p>\n",
       "</div>"
      ],
      "text/plain": [
       "        col_0  col_1  col_2  col_3  col_4  col_5  col_6  col_7  Unnamed: 0  \\\n",
       "30684       0      0      1      2      2      0      0      1       30684   \n",
       "27343       2      1      1      0      0      0      1      1       27343   \n",
       "35514       0      1      0      2      0      2      0      1       35514   \n",
       "89077       0      0      1      2      1      0      2      0       89077   \n",
       "126252      0      0      3      0      0      0      2      1      126252   \n",
       "\n",
       "           price     ...      incl_peach  incl_hint  incl_lead  incl_be  \\\n",
       "30684   1.041393     ...             1.0        0.0        1.0      0.0   \n",
       "27343   1.653213     ...             0.0        0.0        0.0      0.0   \n",
       "35514   0.903090     ...             0.0        0.0        0.0      1.0   \n",
       "89077   1.397940     ...             1.0        0.0        0.0      1.0   \n",
       "126252  1.681241     ...             0.0        1.0        0.0      1.0   \n",
       "\n",
       "        incl_all  incl_note  incl_made  incl_structure  incl_into  incl_along  \n",
       "30684        0.0        0.0        0.0             0.0        0.0         1.0  \n",
       "27343        1.0        0.0        0.0             0.0        0.0         0.0  \n",
       "35514        0.0        0.0        0.0             0.0        0.0         0.0  \n",
       "89077        0.0        1.0        0.0             0.0        0.0         0.0  \n",
       "126252       1.0        0.0        0.0             0.0        0.0         0.0  \n",
       "\n",
       "[5 rows x 111 columns]"
      ]
     },
     "execution_count": 42,
     "metadata": {},
     "output_type": "execute_result"
    }
   ],
   "source": [
    "# Adding the new feature to the data\n",
    "\n",
    "\n",
    "X_train_3 = pd.concat([X_train_2, descr_incl], axis=1)\n",
    "\n",
    "descr_incl_test = add_includes_words(treat_data(fulldata_test))\n",
    "\n",
    "X_test_3 = pd.concat([X_test_2, descr_incl_test], axis=1)\n",
    "\n",
    "X_test_3.head()"
   ]
  },
  {
   "cell_type": "code",
   "execution_count": 47,
   "metadata": {
    "collapsed": true
   },
   "outputs": [
    {
     "name": "stdout",
     "output_type": "stream",
     "text": [
      "Fitting 10 folds for each of 3 candidates, totalling 30 fits\n",
      "[CV] max_depth=3, n_estimators=100 ...................................\n",
      "[CV] max_depth=3, n_estimators=100 ...................................\n",
      "[CV] max_depth=3, n_estimators=100 ...................................\n",
      "[CV] max_depth=3, n_estimators=100 ...................................\n",
      "[CV] max_depth=3, n_estimators=100 ...................................\n",
      "[CV] max_depth=3, n_estimators=100 ...................................\n"
     ]
    },
    {
     "ename": "JoblibValueError",
     "evalue": "JoblibValueError\n___________________________________________________________________________\nMultiprocessing exception:\n...........................................................................\n/usr/local/Cellar/python/3.6.5/Frameworks/Python.framework/Versions/3.6/lib/python3.6/runpy.py in _run_module_as_main(mod_name='ipykernel_launcher', alter_argv=1)\n    188         sys.exit(msg)\n    189     main_globals = sys.modules[\"__main__\"].__dict__\n    190     if alter_argv:\n    191         sys.argv[0] = mod_spec.origin\n    192     return _run_code(code, main_globals, None,\n--> 193                      \"__main__\", mod_spec)\n        mod_spec = ModuleSpec(name='ipykernel_launcher', loader=<_f...b/python3.6/site-packages/ipykernel_launcher.py')\n    194 \n    195 def run_module(mod_name, init_globals=None,\n    196                run_name=None, alter_sys=False):\n    197     \"\"\"Execute a module's code without importing it\n\n...........................................................................\n/usr/local/Cellar/python/3.6.5/Frameworks/Python.framework/Versions/3.6/lib/python3.6/runpy.py in _run_code(code=<code object <module> at 0x1018e8c00, file \"/usr...3.6/site-packages/ipykernel_launcher.py\", line 5>, run_globals={'__annotations__': {}, '__builtins__': <module 'builtins' (built-in)>, '__cached__': '/usr/local/lib/python3.6/site-packages/__pycache__/ipykernel_launcher.cpython-36.pyc', '__doc__': 'Entry point for launching an IPython kernel.\\n\\nTh...orts until\\nafter removing the cwd from sys.path.\\n', '__file__': '/usr/local/lib/python3.6/site-packages/ipykernel_launcher.py', '__loader__': <_frozen_importlib_external.SourceFileLoader object>, '__name__': '__main__', '__package__': '', '__spec__': ModuleSpec(name='ipykernel_launcher', loader=<_f...b/python3.6/site-packages/ipykernel_launcher.py'), 'app': <module 'ipykernel.kernelapp' from '/usr/local/lib/python3.6/site-packages/ipykernel/kernelapp.py'>, ...}, init_globals=None, mod_name='__main__', mod_spec=ModuleSpec(name='ipykernel_launcher', loader=<_f...b/python3.6/site-packages/ipykernel_launcher.py'), pkg_name='', script_name=None)\n     80                        __cached__ = cached,\n     81                        __doc__ = None,\n     82                        __loader__ = loader,\n     83                        __package__ = pkg_name,\n     84                        __spec__ = mod_spec)\n---> 85     exec(code, run_globals)\n        code = <code object <module> at 0x1018e8c00, file \"/usr...3.6/site-packages/ipykernel_launcher.py\", line 5>\n        run_globals = {'__annotations__': {}, '__builtins__': <module 'builtins' (built-in)>, '__cached__': '/usr/local/lib/python3.6/site-packages/__pycache__/ipykernel_launcher.cpython-36.pyc', '__doc__': 'Entry point for launching an IPython kernel.\\n\\nTh...orts until\\nafter removing the cwd from sys.path.\\n', '__file__': '/usr/local/lib/python3.6/site-packages/ipykernel_launcher.py', '__loader__': <_frozen_importlib_external.SourceFileLoader object>, '__name__': '__main__', '__package__': '', '__spec__': ModuleSpec(name='ipykernel_launcher', loader=<_f...b/python3.6/site-packages/ipykernel_launcher.py'), 'app': <module 'ipykernel.kernelapp' from '/usr/local/lib/python3.6/site-packages/ipykernel/kernelapp.py'>, ...}\n     86     return run_globals\n     87 \n     88 def _run_module_code(code, init_globals=None,\n     89                     mod_name=None, mod_spec=None,\n\n...........................................................................\n/usr/local/lib/python3.6/site-packages/ipykernel_launcher.py in <module>()\n     11     # This is added back by InteractiveShellApp.init_path()\n     12     if sys.path[0] == '':\n     13         del sys.path[0]\n     14 \n     15     from ipykernel import kernelapp as app\n---> 16     app.launch_new_instance()\n\n...........................................................................\n/usr/local/lib/python3.6/site-packages/traitlets/config/application.py in launch_instance(cls=<class 'ipykernel.kernelapp.IPKernelApp'>, argv=None, **kwargs={})\n    653 \n    654         If a global instance already exists, this reinitializes and starts it\n    655         \"\"\"\n    656         app = cls.instance(**kwargs)\n    657         app.initialize(argv)\n--> 658         app.start()\n        app.start = <bound method IPKernelApp.start of <ipykernel.kernelapp.IPKernelApp object>>\n    659 \n    660 #-----------------------------------------------------------------------------\n    661 # utility functions, for convenience\n    662 #-----------------------------------------------------------------------------\n\n...........................................................................\n/usr/local/lib/python3.6/site-packages/ipykernel/kernelapp.py in start(self=<ipykernel.kernelapp.IPKernelApp object>)\n    481         if self.poller is not None:\n    482             self.poller.start()\n    483         self.kernel.start()\n    484         self.io_loop = ioloop.IOLoop.current()\n    485         try:\n--> 486             self.io_loop.start()\n        self.io_loop.start = <bound method BaseAsyncIOLoop.start of <tornado.platform.asyncio.AsyncIOMainLoop object>>\n    487         except KeyboardInterrupt:\n    488             pass\n    489 \n    490 launch_new_instance = IPKernelApp.launch_instance\n\n...........................................................................\n/usr/local/lib/python3.6/site-packages/tornado/platform/asyncio.py in start(self=<tornado.platform.asyncio.AsyncIOMainLoop object>)\n    107         except (RuntimeError, AssertionError):\n    108             old_loop = None\n    109         try:\n    110             self._setup_logging()\n    111             asyncio.set_event_loop(self.asyncio_loop)\n--> 112             self.asyncio_loop.run_forever()\n        self.asyncio_loop.run_forever = <bound method BaseEventLoop.run_forever of <_Uni...EventLoop running=True closed=False debug=False>>\n    113         finally:\n    114             asyncio.set_event_loop(old_loop)\n    115 \n    116     def stop(self):\n\n...........................................................................\n/usr/local/Cellar/python/3.6.5/Frameworks/Python.framework/Versions/3.6/lib/python3.6/asyncio/base_events.py in run_forever(self=<_UnixSelectorEventLoop running=True closed=False debug=False>)\n    417             sys.set_asyncgen_hooks(firstiter=self._asyncgen_firstiter_hook,\n    418                                    finalizer=self._asyncgen_finalizer_hook)\n    419         try:\n    420             events._set_running_loop(self)\n    421             while True:\n--> 422                 self._run_once()\n        self._run_once = <bound method BaseEventLoop._run_once of <_UnixS...EventLoop running=True closed=False debug=False>>\n    423                 if self._stopping:\n    424                     break\n    425         finally:\n    426             self._stopping = False\n\n...........................................................................\n/usr/local/Cellar/python/3.6.5/Frameworks/Python.framework/Versions/3.6/lib/python3.6/asyncio/base_events.py in _run_once(self=<_UnixSelectorEventLoop running=True closed=False debug=False>)\n   1427                         logger.warning('Executing %s took %.3f seconds',\n   1428                                        _format_handle(handle), dt)\n   1429                 finally:\n   1430                     self._current_handle = None\n   1431             else:\n-> 1432                 handle._run()\n        handle._run = <bound method Handle._run of <Handle BaseAsyncIOLoop._handle_events(14, 1)>>\n   1433         handle = None  # Needed to break cycles when an exception occurs.\n   1434 \n   1435     def _set_coroutine_wrapper(self, enabled):\n   1436         try:\n\n...........................................................................\n/usr/local/Cellar/python/3.6.5/Frameworks/Python.framework/Versions/3.6/lib/python3.6/asyncio/events.py in _run(self=<Handle BaseAsyncIOLoop._handle_events(14, 1)>)\n    140             self._callback = None\n    141             self._args = None\n    142 \n    143     def _run(self):\n    144         try:\n--> 145             self._callback(*self._args)\n        self._callback = <bound method BaseAsyncIOLoop._handle_events of <tornado.platform.asyncio.AsyncIOMainLoop object>>\n        self._args = (14, 1)\n    146         except Exception as exc:\n    147             cb = _format_callback_source(self._callback, self._args)\n    148             msg = 'Exception in callback {}'.format(cb)\n    149             context = {\n\n...........................................................................\n/usr/local/lib/python3.6/site-packages/tornado/platform/asyncio.py in _handle_events(self=<tornado.platform.asyncio.AsyncIOMainLoop object>, fd=14, events=1)\n     97             self.writers.remove(fd)\n     98         del self.handlers[fd]\n     99 \n    100     def _handle_events(self, fd, events):\n    101         fileobj, handler_func = self.handlers[fd]\n--> 102         handler_func(fileobj, events)\n        handler_func = <function wrap.<locals>.null_wrapper>\n        fileobj = <zmq.sugar.socket.Socket object>\n        events = 1\n    103 \n    104     def start(self):\n    105         try:\n    106             old_loop = asyncio.get_event_loop()\n\n...........................................................................\n/usr/local/lib/python3.6/site-packages/tornado/stack_context.py in null_wrapper(*args=(<zmq.sugar.socket.Socket object>, 1), **kwargs={})\n    271         # Fast path when there are no active contexts.\n    272         def null_wrapper(*args, **kwargs):\n    273             try:\n    274                 current_state = _state.contexts\n    275                 _state.contexts = cap_contexts[0]\n--> 276                 return fn(*args, **kwargs)\n        args = (<zmq.sugar.socket.Socket object>, 1)\n        kwargs = {}\n    277             finally:\n    278                 _state.contexts = current_state\n    279         null_wrapper._wrapped = True\n    280         return null_wrapper\n\n...........................................................................\n/usr/local/lib/python3.6/site-packages/zmq/eventloop/zmqstream.py in _handle_events(self=<zmq.eventloop.zmqstream.ZMQStream object>, fd=<zmq.sugar.socket.Socket object>, events=1)\n    445             return\n    446         zmq_events = self.socket.EVENTS\n    447         try:\n    448             # dispatch events:\n    449             if zmq_events & zmq.POLLIN and self.receiving():\n--> 450                 self._handle_recv()\n        self._handle_recv = <bound method ZMQStream._handle_recv of <zmq.eventloop.zmqstream.ZMQStream object>>\n    451                 if not self.socket:\n    452                     return\n    453             if zmq_events & zmq.POLLOUT and self.sending():\n    454                 self._handle_send()\n\n...........................................................................\n/usr/local/lib/python3.6/site-packages/zmq/eventloop/zmqstream.py in _handle_recv(self=<zmq.eventloop.zmqstream.ZMQStream object>)\n    475             else:\n    476                 raise\n    477         else:\n    478             if self._recv_callback:\n    479                 callback = self._recv_callback\n--> 480                 self._run_callback(callback, msg)\n        self._run_callback = <bound method ZMQStream._run_callback of <zmq.eventloop.zmqstream.ZMQStream object>>\n        callback = <function wrap.<locals>.null_wrapper>\n        msg = [<zmq.sugar.frame.Frame object>, <zmq.sugar.frame.Frame object>, <zmq.sugar.frame.Frame object>, <zmq.sugar.frame.Frame object>, <zmq.sugar.frame.Frame object>, <zmq.sugar.frame.Frame object>, <zmq.sugar.frame.Frame object>]\n    481         \n    482 \n    483     def _handle_send(self):\n    484         \"\"\"Handle a send event.\"\"\"\n\n...........................................................................\n/usr/local/lib/python3.6/site-packages/zmq/eventloop/zmqstream.py in _run_callback(self=<zmq.eventloop.zmqstream.ZMQStream object>, callback=<function wrap.<locals>.null_wrapper>, *args=([<zmq.sugar.frame.Frame object>, <zmq.sugar.frame.Frame object>, <zmq.sugar.frame.Frame object>, <zmq.sugar.frame.Frame object>, <zmq.sugar.frame.Frame object>, <zmq.sugar.frame.Frame object>, <zmq.sugar.frame.Frame object>],), **kwargs={})\n    427         close our socket.\"\"\"\n    428         try:\n    429             # Use a NullContext to ensure that all StackContexts are run\n    430             # inside our blanket exception handler rather than outside.\n    431             with stack_context.NullContext():\n--> 432                 callback(*args, **kwargs)\n        callback = <function wrap.<locals>.null_wrapper>\n        args = ([<zmq.sugar.frame.Frame object>, <zmq.sugar.frame.Frame object>, <zmq.sugar.frame.Frame object>, <zmq.sugar.frame.Frame object>, <zmq.sugar.frame.Frame object>, <zmq.sugar.frame.Frame object>, <zmq.sugar.frame.Frame object>],)\n        kwargs = {}\n    433         except:\n    434             gen_log.error(\"Uncaught exception in ZMQStream callback\",\n    435                           exc_info=True)\n    436             # Re-raise the exception so that IOLoop.handle_callback_exception\n\n...........................................................................\n/usr/local/lib/python3.6/site-packages/tornado/stack_context.py in null_wrapper(*args=([<zmq.sugar.frame.Frame object>, <zmq.sugar.frame.Frame object>, <zmq.sugar.frame.Frame object>, <zmq.sugar.frame.Frame object>, <zmq.sugar.frame.Frame object>, <zmq.sugar.frame.Frame object>, <zmq.sugar.frame.Frame object>],), **kwargs={})\n    271         # Fast path when there are no active contexts.\n    272         def null_wrapper(*args, **kwargs):\n    273             try:\n    274                 current_state = _state.contexts\n    275                 _state.contexts = cap_contexts[0]\n--> 276                 return fn(*args, **kwargs)\n        args = ([<zmq.sugar.frame.Frame object>, <zmq.sugar.frame.Frame object>, <zmq.sugar.frame.Frame object>, <zmq.sugar.frame.Frame object>, <zmq.sugar.frame.Frame object>, <zmq.sugar.frame.Frame object>, <zmq.sugar.frame.Frame object>],)\n        kwargs = {}\n    277             finally:\n    278                 _state.contexts = current_state\n    279         null_wrapper._wrapped = True\n    280         return null_wrapper\n\n...........................................................................\n/usr/local/lib/python3.6/site-packages/ipykernel/kernelbase.py in dispatcher(msg=[<zmq.sugar.frame.Frame object>, <zmq.sugar.frame.Frame object>, <zmq.sugar.frame.Frame object>, <zmq.sugar.frame.Frame object>, <zmq.sugar.frame.Frame object>, <zmq.sugar.frame.Frame object>, <zmq.sugar.frame.Frame object>])\n    278         if self.control_stream:\n    279             self.control_stream.on_recv(self.dispatch_control, copy=False)\n    280 \n    281         def make_dispatcher(stream):\n    282             def dispatcher(msg):\n--> 283                 return self.dispatch_shell(stream, msg)\n        msg = [<zmq.sugar.frame.Frame object>, <zmq.sugar.frame.Frame object>, <zmq.sugar.frame.Frame object>, <zmq.sugar.frame.Frame object>, <zmq.sugar.frame.Frame object>, <zmq.sugar.frame.Frame object>, <zmq.sugar.frame.Frame object>]\n    284             return dispatcher\n    285 \n    286         for s in self.shell_streams:\n    287             s.on_recv(make_dispatcher(s), copy=False)\n\n...........................................................................\n/usr/local/lib/python3.6/site-packages/ipykernel/kernelbase.py in dispatch_shell(self=<ipykernel.ipkernel.IPythonKernel object>, stream=<zmq.eventloop.zmqstream.ZMQStream object>, msg={'buffers': [], 'content': {'allow_stdin': True, 'code': '# Fit with includes words\\n\\n\\ngs.fit(X_train_3, y_train)', 'silent': False, 'stop_on_error': True, 'store_history': True, 'user_expressions': {}}, 'header': {'date': datetime.datetime(2018, 5, 30, 13, 34, 18, 960912, tzinfo=tzutc()), 'msg_id': '46a9ecfa4ded42468eed9fc4b95baba0', 'msg_type': 'execute_request', 'session': '1c03199ddf364bde87dced114fb67760', 'username': 'username', 'version': '5.2'}, 'metadata': {}, 'msg_id': '46a9ecfa4ded42468eed9fc4b95baba0', 'msg_type': 'execute_request', 'parent_header': {}})\n    228             self.log.warn(\"Unknown message type: %r\", msg_type)\n    229         else:\n    230             self.log.debug(\"%s: %s\", msg_type, msg)\n    231             self.pre_handler_hook()\n    232             try:\n--> 233                 handler(stream, idents, msg)\n        handler = <bound method Kernel.execute_request of <ipykernel.ipkernel.IPythonKernel object>>\n        stream = <zmq.eventloop.zmqstream.ZMQStream object>\n        idents = [b'1c03199ddf364bde87dced114fb67760']\n        msg = {'buffers': [], 'content': {'allow_stdin': True, 'code': '# Fit with includes words\\n\\n\\ngs.fit(X_train_3, y_train)', 'silent': False, 'stop_on_error': True, 'store_history': True, 'user_expressions': {}}, 'header': {'date': datetime.datetime(2018, 5, 30, 13, 34, 18, 960912, tzinfo=tzutc()), 'msg_id': '46a9ecfa4ded42468eed9fc4b95baba0', 'msg_type': 'execute_request', 'session': '1c03199ddf364bde87dced114fb67760', 'username': 'username', 'version': '5.2'}, 'metadata': {}, 'msg_id': '46a9ecfa4ded42468eed9fc4b95baba0', 'msg_type': 'execute_request', 'parent_header': {}}\n    234             except Exception:\n    235                 self.log.error(\"Exception in message handler:\", exc_info=True)\n    236             finally:\n    237                 self.post_handler_hook()\n\n...........................................................................\n/usr/local/lib/python3.6/site-packages/ipykernel/kernelbase.py in execute_request(self=<ipykernel.ipkernel.IPythonKernel object>, stream=<zmq.eventloop.zmqstream.ZMQStream object>, ident=[b'1c03199ddf364bde87dced114fb67760'], parent={'buffers': [], 'content': {'allow_stdin': True, 'code': '# Fit with includes words\\n\\n\\ngs.fit(X_train_3, y_train)', 'silent': False, 'stop_on_error': True, 'store_history': True, 'user_expressions': {}}, 'header': {'date': datetime.datetime(2018, 5, 30, 13, 34, 18, 960912, tzinfo=tzutc()), 'msg_id': '46a9ecfa4ded42468eed9fc4b95baba0', 'msg_type': 'execute_request', 'session': '1c03199ddf364bde87dced114fb67760', 'username': 'username', 'version': '5.2'}, 'metadata': {}, 'msg_id': '46a9ecfa4ded42468eed9fc4b95baba0', 'msg_type': 'execute_request', 'parent_header': {}})\n    394         if not silent:\n    395             self.execution_count += 1\n    396             self._publish_execute_input(code, parent, self.execution_count)\n    397 \n    398         reply_content = self.do_execute(code, silent, store_history,\n--> 399                                         user_expressions, allow_stdin)\n        user_expressions = {}\n        allow_stdin = True\n    400 \n    401         # Flush output before sending the reply.\n    402         sys.stdout.flush()\n    403         sys.stderr.flush()\n\n...........................................................................\n/usr/local/lib/python3.6/site-packages/ipykernel/ipkernel.py in do_execute(self=<ipykernel.ipkernel.IPythonKernel object>, code='# Fit with includes words\\n\\n\\ngs.fit(X_train_3, y_train)', silent=False, store_history=True, user_expressions={}, allow_stdin=True)\n    203 \n    204         self._forward_input(allow_stdin)\n    205 \n    206         reply_content = {}\n    207         try:\n--> 208             res = shell.run_cell(code, store_history=store_history, silent=silent)\n        res = undefined\n        shell.run_cell = <bound method ZMQInteractiveShell.run_cell of <ipykernel.zmqshell.ZMQInteractiveShell object>>\n        code = '# Fit with includes words\\n\\n\\ngs.fit(X_train_3, y_train)'\n        store_history = True\n        silent = False\n    209         finally:\n    210             self._restore_input()\n    211 \n    212         if res.error_before_exec is not None:\n\n...........................................................................\n/usr/local/lib/python3.6/site-packages/ipykernel/zmqshell.py in run_cell(self=<ipykernel.zmqshell.ZMQInteractiveShell object>, *args=('# Fit with includes words\\n\\n\\ngs.fit(X_train_3, y_train)',), **kwargs={'silent': False, 'store_history': True})\n    532             )\n    533         self.payload_manager.write_payload(payload)\n    534 \n    535     def run_cell(self, *args, **kwargs):\n    536         self._last_traceback = None\n--> 537         return super(ZMQInteractiveShell, self).run_cell(*args, **kwargs)\n        self.run_cell = <bound method ZMQInteractiveShell.run_cell of <ipykernel.zmqshell.ZMQInteractiveShell object>>\n        args = ('# Fit with includes words\\n\\n\\ngs.fit(X_train_3, y_train)',)\n        kwargs = {'silent': False, 'store_history': True}\n    538 \n    539     def _showtraceback(self, etype, evalue, stb):\n    540         # try to preserve ordering of tracebacks and print statements\n    541         sys.stdout.flush()\n\n...........................................................................\n/usr/local/lib/python3.6/site-packages/IPython/core/interactiveshell.py in run_cell(self=<ipykernel.zmqshell.ZMQInteractiveShell object>, raw_cell='# Fit with includes words\\n\\n\\ngs.fit(X_train_3, y_train)', store_history=True, silent=False, shell_futures=True)\n   2657         -------\n   2658         result : :class:`ExecutionResult`\n   2659         \"\"\"\n   2660         try:\n   2661             result = self._run_cell(\n-> 2662                 raw_cell, store_history, silent, shell_futures)\n        raw_cell = '# Fit with includes words\\n\\n\\ngs.fit(X_train_3, y_train)'\n        store_history = True\n        silent = False\n        shell_futures = True\n   2663         finally:\n   2664             self.events.trigger('post_execute')\n   2665             if not silent:\n   2666                 self.events.trigger('post_run_cell', result)\n\n...........................................................................\n/usr/local/lib/python3.6/site-packages/IPython/core/interactiveshell.py in _run_cell(self=<ipykernel.zmqshell.ZMQInteractiveShell object>, raw_cell='# Fit with includes words\\n\\n\\ngs.fit(X_train_3, y_train)', store_history=True, silent=False, shell_futures=True)\n   2780                 self.displayhook.exec_result = result\n   2781 \n   2782                 # Execute the user code\n   2783                 interactivity = 'none' if silent else self.ast_node_interactivity\n   2784                 has_raised = self.run_ast_nodes(code_ast.body, cell_name,\n-> 2785                    interactivity=interactivity, compiler=compiler, result=result)\n        interactivity = 'last_expr'\n        compiler = <IPython.core.compilerop.CachingCompiler object>\n   2786                 \n   2787                 self.last_execution_succeeded = not has_raised\n   2788                 self.last_execution_result = result\n   2789 \n\n...........................................................................\n/usr/local/lib/python3.6/site-packages/IPython/core/interactiveshell.py in run_ast_nodes(self=<ipykernel.zmqshell.ZMQInteractiveShell object>, nodelist=[<_ast.Expr object>], cell_name='<ipython-input-47-77a7dca036a0>', interactivity='last', compiler=<IPython.core.compilerop.CachingCompiler object>, result=<ExecutionResult object at 120348c18, execution_...rue silent=False shell_futures=True> result=None>)\n   2904                     return True\n   2905 \n   2906             for i, node in enumerate(to_run_interactive):\n   2907                 mod = ast.Interactive([node])\n   2908                 code = compiler(mod, cell_name, \"single\")\n-> 2909                 if self.run_code(code, result):\n        self.run_code = <bound method InteractiveShell.run_code of <ipykernel.zmqshell.ZMQInteractiveShell object>>\n        code = <code object <module> at 0x10cfe14b0, file \"<ipython-input-47-77a7dca036a0>\", line 4>\n        result = <ExecutionResult object at 120348c18, execution_...rue silent=False shell_futures=True> result=None>\n   2910                     return True\n   2911 \n   2912             # Flush softspace\n   2913             if softspace(sys.stdout, 0):\n\n...........................................................................\n/usr/local/lib/python3.6/site-packages/IPython/core/interactiveshell.py in run_code(self=<ipykernel.zmqshell.ZMQInteractiveShell object>, code_obj=<code object <module> at 0x10cfe14b0, file \"<ipython-input-47-77a7dca036a0>\", line 4>, result=<ExecutionResult object at 120348c18, execution_...rue silent=False shell_futures=True> result=None>)\n   2958         outflag = True  # happens in more places, so it's easier as default\n   2959         try:\n   2960             try:\n   2961                 self.hooks.pre_run_code_hook()\n   2962                 #rprint('Running code', repr(code_obj)) # dbg\n-> 2963                 exec(code_obj, self.user_global_ns, self.user_ns)\n        code_obj = <code object <module> at 0x10cfe14b0, file \"<ipython-input-47-77a7dca036a0>\", line 4>\n        self.user_global_ns = {'GridSearchCV': <class 'sklearn.model_selection._search.GridSearchCV'>, 'In': ['', '# Imports\\n\\nimport pandas as pd\\nimport numpy as n...ort category_encoders as ce\\nimport sklearn as skl', '# plot parameters\\n\\nplt.rcParams[\"figure.figsize\"] = (10, 5)\\nplt.rcParams[\"font.size\"] = 14', \"# Open data\\n\\ndatafile = 'data/wine-reviews/winem...csv'\\ndata_small = pd.read_csv(datafile, nrows=10)\", 'fulldata = pd.read_csv(datafile)\\nmsno.matrix(fulldata)', 'from sklearn.model_selection import train_test_s...                                 random_state=18)', '# As a first approach, we just drop data with mi...a = treat_data(fulldata_train)\\nlen(fulldata_nona)', '# Preparing data\\n\\ndef make_xy(dat):\\n    # forget...rn X, y\\n\\nX_data,  y_data = make_xy(fulldata_nona)', '# First approach: use hashing on categorical fea... data in the same way\\nhashing.fit(X_data, y_data)', 'def hashing_features(X):\\n    newX = hashing.tran...rn newX\\n\\nX_data_hashed = hashing_features(X_data)', '# rescale target\\n# Choose to get 5 labels, in or...(p-80)/4.)\\n\\ny_data_scaled = y_data.apply(scaling)', '# Get grade from zero to five\\n# bad, ok, good, e... (out of this world)\\n\\ny_data_scaled.hist(bins=20)', '# Alternatively, split scores into three equival...scale_points(y_data)\\n\\ny_data_binned.hist(bins=20)', '# Prepare testing data in the same way\\n\\nX_train,...X_test_init)\\ny_test = rescale_points(y_test_init)', 'from sklearn.ensemble import RandomForestClassifier\\nfrom sklearn.model_selection import GridSearchCV', '\\ncommonwords[:20]', \"import string, re\\ndescr = fulldata_nona[['descri...                   .split()).value_counts()[:100]\", '\\ncommonwords[:20]', '\\ncommonwords[:40]', \"\\ncommonwords['and']\", ...], 'Out': {4: <matplotlib.axes._subplots.AxesSubplot object>, 6: 66928, 8: HashingEncoder(cols=['country', 'province', 'reg..._components=8,\n        return_df=True, verbose=0), 11: <matplotlib.axes._subplots.AxesSubplot object>, 12: <matplotlib.axes._subplots.AxesSubplot object>, 17: and        183160\nthe        117475\na           ...\nfinish      18871\nthat        17500\ndtype: int64, 18: and        183160\nthe        117475\na           ...\noak          8687\nplum         8660\ndtype: int64, 19: 183160, 20: 9750, 21: and          183160\nthe          117475\na       ...629\nalong          3617\nLength: 100, dtype: int64, ...}, 'RandomForestClassifier': <class 'sklearn.ensemble.forest.RandomForestClassifier'>, 'X_data':         Unnamed: 0    country     price         ...              Angosto  \n\n[66928 rows x 8 columns], 'X_data_hashed':         col_0  col_1  col_2  col_3  col_4  col_5...0  \n60714   1.698970  \n\n[66928 rows x 10 columns], 'X_test':         col_0  col_1  col_2  col_3  col_4  col_5...49  \n15675   1.812913  \n\n[7364 rows x 10 columns], 'X_test_2':         col_0  col_1  col_2  col_3  col_4  col_5....812913            44  \n\n[7364 rows x 11 columns], 'X_test_3':         col_0  col_1  col_2  col_3  col_4  col_5...     NaN         NaN  \n\n[7364 rows x 111 columns], 'X_test_init':         Unnamed: 0    country     price         ...               Lachini  \n\n[7364 rows x 8 columns], ...}\n        self.user_ns = {'GridSearchCV': <class 'sklearn.model_selection._search.GridSearchCV'>, 'In': ['', '# Imports\\n\\nimport pandas as pd\\nimport numpy as n...ort category_encoders as ce\\nimport sklearn as skl', '# plot parameters\\n\\nplt.rcParams[\"figure.figsize\"] = (10, 5)\\nplt.rcParams[\"font.size\"] = 14', \"# Open data\\n\\ndatafile = 'data/wine-reviews/winem...csv'\\ndata_small = pd.read_csv(datafile, nrows=10)\", 'fulldata = pd.read_csv(datafile)\\nmsno.matrix(fulldata)', 'from sklearn.model_selection import train_test_s...                                 random_state=18)', '# As a first approach, we just drop data with mi...a = treat_data(fulldata_train)\\nlen(fulldata_nona)', '# Preparing data\\n\\ndef make_xy(dat):\\n    # forget...rn X, y\\n\\nX_data,  y_data = make_xy(fulldata_nona)', '# First approach: use hashing on categorical fea... data in the same way\\nhashing.fit(X_data, y_data)', 'def hashing_features(X):\\n    newX = hashing.tran...rn newX\\n\\nX_data_hashed = hashing_features(X_data)', '# rescale target\\n# Choose to get 5 labels, in or...(p-80)/4.)\\n\\ny_data_scaled = y_data.apply(scaling)', '# Get grade from zero to five\\n# bad, ok, good, e... (out of this world)\\n\\ny_data_scaled.hist(bins=20)', '# Alternatively, split scores into three equival...scale_points(y_data)\\n\\ny_data_binned.hist(bins=20)', '# Prepare testing data in the same way\\n\\nX_train,...X_test_init)\\ny_test = rescale_points(y_test_init)', 'from sklearn.ensemble import RandomForestClassifier\\nfrom sklearn.model_selection import GridSearchCV', '\\ncommonwords[:20]', \"import string, re\\ndescr = fulldata_nona[['descri...                   .split()).value_counts()[:100]\", '\\ncommonwords[:20]', '\\ncommonwords[:40]', \"\\ncommonwords['and']\", ...], 'Out': {4: <matplotlib.axes._subplots.AxesSubplot object>, 6: 66928, 8: HashingEncoder(cols=['country', 'province', 'reg..._components=8,\n        return_df=True, verbose=0), 11: <matplotlib.axes._subplots.AxesSubplot object>, 12: <matplotlib.axes._subplots.AxesSubplot object>, 17: and        183160\nthe        117475\na           ...\nfinish      18871\nthat        17500\ndtype: int64, 18: and        183160\nthe        117475\na           ...\noak          8687\nplum         8660\ndtype: int64, 19: 183160, 20: 9750, 21: and          183160\nthe          117475\na       ...629\nalong          3617\nLength: 100, dtype: int64, ...}, 'RandomForestClassifier': <class 'sklearn.ensemble.forest.RandomForestClassifier'>, 'X_data':         Unnamed: 0    country     price         ...              Angosto  \n\n[66928 rows x 8 columns], 'X_data_hashed':         col_0  col_1  col_2  col_3  col_4  col_5...0  \n60714   1.698970  \n\n[66928 rows x 10 columns], 'X_test':         col_0  col_1  col_2  col_3  col_4  col_5...49  \n15675   1.812913  \n\n[7364 rows x 10 columns], 'X_test_2':         col_0  col_1  col_2  col_3  col_4  col_5....812913            44  \n\n[7364 rows x 11 columns], 'X_test_3':         col_0  col_1  col_2  col_3  col_4  col_5...     NaN         NaN  \n\n[7364 rows x 111 columns], 'X_test_init':         Unnamed: 0    country     price         ...               Lachini  \n\n[7364 rows x 8 columns], ...}\n   2964             finally:\n   2965                 # Reset our crash handler in place\n   2966                 sys.excepthook = old_excepthook\n   2967         except SystemExit as e:\n\n...........................................................................\n/Users/nbernier/GoogleDrive/LPQM/git/advanced-comp-2018/<ipython-input-47-77a7dca036a0> in <module>()\n      1 # Fit with includes words\n      2 \n      3 \n----> 4 gs.fit(X_train_3, y_train)\n\n...........................................................................\n/usr/local/lib/python3.6/site-packages/sklearn/model_selection/_search.py in fit(self=GridSearchCV(cv=10, error_score='raise',\n       ...train_score=True,\n       scoring=None, verbose=2), X=        col_0  col_1  col_2  col_3  col_4  col_5...    NaN         NaN  \n\n[66928 rows x 111 columns], y=10684     0\n78035     1\n72938     2\n90265     0\n...4     0\nName: points, Length: 66928, dtype: int64, groups=None, **fit_params={})\n    634                                   return_train_score=self.return_train_score,\n    635                                   return_n_test_samples=True,\n    636                                   return_times=True, return_parameters=False,\n    637                                   error_score=self.error_score)\n    638           for parameters, (train, test) in product(candidate_params,\n--> 639                                                    cv.split(X, y, groups)))\n        cv.split = <bound method StratifiedKFold.split of Stratifie...d(n_splits=10, random_state=None, shuffle=False)>\n        X =         col_0  col_1  col_2  col_3  col_4  col_5...    NaN         NaN  \n\n[66928 rows x 111 columns]\n        y = 10684     0\n78035     1\n72938     2\n90265     0\n...4     0\nName: points, Length: 66928, dtype: int64\n        groups = None\n    640 \n    641         # if one choose to see train score, \"out\" will contain train score info\n    642         if self.return_train_score:\n    643             (train_score_dicts, test_score_dicts, test_sample_counts, fit_time,\n\n...........................................................................\n/usr/local/lib/python3.6/site-packages/sklearn/externals/joblib/parallel.py in __call__(self=Parallel(n_jobs=6), iterable=<generator object BaseSearchCV.fit.<locals>.<genexpr>>)\n    784             if pre_dispatch == \"all\" or n_jobs == 1:\n    785                 # The iterable was consumed all at once by the above for loop.\n    786                 # No need to wait for async callbacks to trigger to\n    787                 # consumption.\n    788                 self._iterating = False\n--> 789             self.retrieve()\n        self.retrieve = <bound method Parallel.retrieve of Parallel(n_jobs=6)>\n    790             # Make sure that we get a last message telling us we are done\n    791             elapsed_time = time.time() - self._start_time\n    792             self._print('Done %3i out of %3i | elapsed: %s finished',\n    793                         (len(self._output), len(self._output),\n\n---------------------------------------------------------------------------\nSub-process traceback:\n---------------------------------------------------------------------------\nValueError                                         Wed May 30 15:34:19 2018\nPID: 1864                 Python 3.6.5: /usr/local/opt/python/bin/python3.6\n...........................................................................\n/usr/local/lib/python3.6/site-packages/sklearn/externals/joblib/parallel.py in __call__(self=<sklearn.externals.joblib.parallel.BatchedCalls object>)\n    126     def __init__(self, iterator_slice):\n    127         self.items = list(iterator_slice)\n    128         self._size = len(self.items)\n    129 \n    130     def __call__(self):\n--> 131         return [func(*args, **kwargs) for func, args, kwargs in self.items]\n        self.items = [(<function _fit_and_score>, (RandomForestClassifier(bootstrap=True, class_wei...te=None, verbose=0,\n            warm_start=False),         col_0  col_1  col_2  col_3  col_4  col_5...    NaN         NaN  \n\n[66928 rows x 111 columns], 10684     0\n78035     1\n72938     2\n90265     0\n...4     0\nName: points, Length: 66928, dtype: int64, {'score': <function _passthrough_scorer>}, array([ 6581,  6587,  6588, ..., 66925, 66926, 66927]), array([   0,    1,    2, ..., 6760, 6765, 6767]), 2, {'max_depth': 3, 'n_estimators': 100}), {'error_score': 'raise', 'fit_params': {}, 'return_n_test_samples': True, 'return_parameters': False, 'return_times': True, 'return_train_score': True})]\n    132 \n    133     def __len__(self):\n    134         return self._size\n    135 \n\n...........................................................................\n/usr/local/lib/python3.6/site-packages/sklearn/externals/joblib/parallel.py in <listcomp>(.0=<list_iterator object>)\n    126     def __init__(self, iterator_slice):\n    127         self.items = list(iterator_slice)\n    128         self._size = len(self.items)\n    129 \n    130     def __call__(self):\n--> 131         return [func(*args, **kwargs) for func, args, kwargs in self.items]\n        func = <function _fit_and_score>\n        args = (RandomForestClassifier(bootstrap=True, class_wei...te=None, verbose=0,\n            warm_start=False),         col_0  col_1  col_2  col_3  col_4  col_5...    NaN         NaN  \n\n[66928 rows x 111 columns], 10684     0\n78035     1\n72938     2\n90265     0\n...4     0\nName: points, Length: 66928, dtype: int64, {'score': <function _passthrough_scorer>}, array([ 6581,  6587,  6588, ..., 66925, 66926, 66927]), array([   0,    1,    2, ..., 6760, 6765, 6767]), 2, {'max_depth': 3, 'n_estimators': 100})\n        kwargs = {'error_score': 'raise', 'fit_params': {}, 'return_n_test_samples': True, 'return_parameters': False, 'return_times': True, 'return_train_score': True}\n    132 \n    133     def __len__(self):\n    134         return self._size\n    135 \n\n...........................................................................\n/usr/local/lib/python3.6/site-packages/sklearn/model_selection/_validation.py in _fit_and_score(estimator=RandomForestClassifier(bootstrap=True, class_wei...te=None, verbose=0,\n            warm_start=False), X=        col_0  col_1  col_2  col_3  col_4  col_5...    NaN         NaN  \n\n[66928 rows x 111 columns], y=10684     0\n78035     1\n72938     2\n90265     0\n...4     0\nName: points, Length: 66928, dtype: int64, scorer={'score': <function _passthrough_scorer>}, train=array([ 6581,  6587,  6588, ..., 66925, 66926, 66927]), test=array([   0,    1,    2, ..., 6760, 6765, 6767]), verbose=2, parameters={'max_depth': 3, 'n_estimators': 100}, fit_params={}, return_train_score=True, return_parameters=False, return_n_test_samples=True, return_times=True, error_score='raise')\n    453 \n    454     try:\n    455         if y_train is None:\n    456             estimator.fit(X_train, **fit_params)\n    457         else:\n--> 458             estimator.fit(X_train, y_train, **fit_params)\n        estimator.fit = <bound method BaseForest.fit of RandomForestClas...e=None, verbose=0,\n            warm_start=False)>\n        X_train =         col_0  col_1  col_2  col_3  col_4  col_5...    NaN         NaN  \n\n[60234 rows x 111 columns]\n        y_train = 28993     0\n55769     0\n94070     0\n113985    0\n...4     0\nName: points, Length: 60234, dtype: int64\n        fit_params = {}\n    459 \n    460     except Exception as e:\n    461         # Note fit time as time until error\n    462         fit_time = time.time() - start_time\n\n...........................................................................\n/usr/local/lib/python3.6/site-packages/sklearn/ensemble/forest.py in fit(self=RandomForestClassifier(bootstrap=True, class_wei...te=None, verbose=0,\n            warm_start=False), X=        col_0  col_1  col_2  col_3  col_4  col_5...    NaN         NaN  \n\n[60234 rows x 111 columns], y=28993     0\n55769     0\n94070     0\n113985    0\n...4     0\nName: points, Length: 60234, dtype: int64, sample_weight=None)\n    242         -------\n    243         self : object\n    244             Returns self.\n    245         \"\"\"\n    246         # Validate or convert input data\n--> 247         X = check_array(X, accept_sparse=\"csc\", dtype=DTYPE)\n        X =         col_0  col_1  col_2  col_3  col_4  col_5...    NaN         NaN  \n\n[60234 rows x 111 columns]\n    248         y = check_array(y, accept_sparse='csc', ensure_2d=False, dtype=None)\n    249         if sample_weight is not None:\n    250             sample_weight = check_array(sample_weight, ensure_2d=False)\n    251         if issparse(X):\n\n...........................................................................\n/usr/local/lib/python3.6/site-packages/sklearn/utils/validation.py in check_array(array=array([[ 0.,  1.,  0., ..., nan, nan, nan],\n    ....,  0.,  2., ..., nan, nan, nan]], dtype=float32), accept_sparse='csc', dtype=<class 'numpy.float32'>, order=None, copy=False, force_all_finite=True, ensure_2d=True, allow_nd=False, ensure_min_samples=1, ensure_min_features=1, warn_on_dtype=False, estimator=None)\n    448             array = array.astype(np.float64)\n    449         if not allow_nd and array.ndim >= 3:\n    450             raise ValueError(\"Found array with dim %d. %s expected <= 2.\"\n    451                              % (array.ndim, estimator_name))\n    452         if force_all_finite:\n--> 453             _assert_all_finite(array)\n        array = array([[ 0.,  1.,  0., ..., nan, nan, nan],\n    ....,  0.,  2., ..., nan, nan, nan]], dtype=float32)\n    454 \n    455     shape_repr = _shape_repr(array.shape)\n    456     if ensure_min_samples > 0:\n    457         n_samples = _num_samples(array)\n\n...........................................................................\n/usr/local/lib/python3.6/site-packages/sklearn/utils/validation.py in _assert_all_finite(X=array([[ 0.,  1.,  0., ..., nan, nan, nan],\n    ....,  0.,  2., ..., nan, nan, nan]], dtype=float32))\n     39     # everything is finite; fall back to O(n) space np.isfinite to prevent\n     40     # false positives from overflow in sum method.\n     41     if (X.dtype.char in np.typecodes['AllFloat'] and not np.isfinite(X.sum())\n     42             and not np.isfinite(X).all()):\n     43         raise ValueError(\"Input contains NaN, infinity\"\n---> 44                          \" or a value too large for %r.\" % X.dtype)\n        X.dtype = dtype('float32')\n     45 \n     46 \n     47 def assert_all_finite(X):\n     48     \"\"\"Throw a ValueError if X contains NaN or infinity.\n\nValueError: Input contains NaN, infinity or a value too large for dtype('float32').\n___________________________________________________________________________",
     "output_type": "error",
     "traceback": [
      "\u001b[0;31m---------------------------------------------------------------------------\u001b[0m",
      "\u001b[0;31mRemoteTraceback\u001b[0m                           Traceback (most recent call last)",
      "\u001b[0;31mRemoteTraceback\u001b[0m: \n\"\"\"\nTraceback (most recent call last):\n  File \"/usr/local/lib/python3.6/site-packages/sklearn/externals/joblib/_parallel_backends.py\", line 350, in __call__\n    return self.func(*args, **kwargs)\n  File \"/usr/local/lib/python3.6/site-packages/sklearn/externals/joblib/parallel.py\", line 131, in __call__\n    return [func(*args, **kwargs) for func, args, kwargs in self.items]\n  File \"/usr/local/lib/python3.6/site-packages/sklearn/externals/joblib/parallel.py\", line 131, in <listcomp>\n    return [func(*args, **kwargs) for func, args, kwargs in self.items]\n  File \"/usr/local/lib/python3.6/site-packages/sklearn/model_selection/_validation.py\", line 458, in _fit_and_score\n    estimator.fit(X_train, y_train, **fit_params)\n  File \"/usr/local/lib/python3.6/site-packages/sklearn/ensemble/forest.py\", line 247, in fit\n    X = check_array(X, accept_sparse=\"csc\", dtype=DTYPE)\n  File \"/usr/local/lib/python3.6/site-packages/sklearn/utils/validation.py\", line 453, in check_array\n    _assert_all_finite(array)\n  File \"/usr/local/lib/python3.6/site-packages/sklearn/utils/validation.py\", line 44, in _assert_all_finite\n    \" or a value too large for %r.\" % X.dtype)\nValueError: Input contains NaN, infinity or a value too large for dtype('float32').\n\nDuring handling of the above exception, another exception occurred:\n\nTraceback (most recent call last):\n  File \"/usr/local/Cellar/python/3.6.5/Frameworks/Python.framework/Versions/3.6/lib/python3.6/multiprocessing/pool.py\", line 119, in worker\n    result = (True, func(*args, **kwds))\n  File \"/usr/local/lib/python3.6/site-packages/sklearn/externals/joblib/_parallel_backends.py\", line 359, in __call__\n    raise TransportableException(text, e_type)\nsklearn.externals.joblib.my_exceptions.TransportableException: TransportableException\n___________________________________________________________________________\nValueError                                         Wed May 30 15:34:19 2018\nPID: 1864                 Python 3.6.5: /usr/local/opt/python/bin/python3.6\n...........................................................................\n/usr/local/lib/python3.6/site-packages/sklearn/externals/joblib/parallel.py in __call__(self=<sklearn.externals.joblib.parallel.BatchedCalls object>)\n    126     def __init__(self, iterator_slice):\n    127         self.items = list(iterator_slice)\n    128         self._size = len(self.items)\n    129 \n    130     def __call__(self):\n--> 131         return [func(*args, **kwargs) for func, args, kwargs in self.items]\n        self.items = [(<function _fit_and_score>, (RandomForestClassifier(bootstrap=True, class_wei...te=None, verbose=0,\n            warm_start=False),         col_0  col_1  col_2  col_3  col_4  col_5...    NaN         NaN  \n\n[66928 rows x 111 columns], 10684     0\n78035     1\n72938     2\n90265     0\n...4     0\nName: points, Length: 66928, dtype: int64, {'score': <function _passthrough_scorer>}, array([ 6581,  6587,  6588, ..., 66925, 66926, 66927]), array([   0,    1,    2, ..., 6760, 6765, 6767]), 2, {'max_depth': 3, 'n_estimators': 100}), {'error_score': 'raise', 'fit_params': {}, 'return_n_test_samples': True, 'return_parameters': False, 'return_times': True, 'return_train_score': True})]\n    132 \n    133     def __len__(self):\n    134         return self._size\n    135 \n\n...........................................................................\n/usr/local/lib/python3.6/site-packages/sklearn/externals/joblib/parallel.py in <listcomp>(.0=<list_iterator object>)\n    126     def __init__(self, iterator_slice):\n    127         self.items = list(iterator_slice)\n    128         self._size = len(self.items)\n    129 \n    130     def __call__(self):\n--> 131         return [func(*args, **kwargs) for func, args, kwargs in self.items]\n        func = <function _fit_and_score>\n        args = (RandomForestClassifier(bootstrap=True, class_wei...te=None, verbose=0,\n            warm_start=False),         col_0  col_1  col_2  col_3  col_4  col_5...    NaN         NaN  \n\n[66928 rows x 111 columns], 10684     0\n78035     1\n72938     2\n90265     0\n...4     0\nName: points, Length: 66928, dtype: int64, {'score': <function _passthrough_scorer>}, array([ 6581,  6587,  6588, ..., 66925, 66926, 66927]), array([   0,    1,    2, ..., 6760, 6765, 6767]), 2, {'max_depth': 3, 'n_estimators': 100})\n        kwargs = {'error_score': 'raise', 'fit_params': {}, 'return_n_test_samples': True, 'return_parameters': False, 'return_times': True, 'return_train_score': True}\n    132 \n    133     def __len__(self):\n    134         return self._size\n    135 \n\n...........................................................................\n/usr/local/lib/python3.6/site-packages/sklearn/model_selection/_validation.py in _fit_and_score(estimator=RandomForestClassifier(bootstrap=True, class_wei...te=None, verbose=0,\n            warm_start=False), X=        col_0  col_1  col_2  col_3  col_4  col_5...    NaN         NaN  \n\n[66928 rows x 111 columns], y=10684     0\n78035     1\n72938     2\n90265     0\n...4     0\nName: points, Length: 66928, dtype: int64, scorer={'score': <function _passthrough_scorer>}, train=array([ 6581,  6587,  6588, ..., 66925, 66926, 66927]), test=array([   0,    1,    2, ..., 6760, 6765, 6767]), verbose=2, parameters={'max_depth': 3, 'n_estimators': 100}, fit_params={}, return_train_score=True, return_parameters=False, return_n_test_samples=True, return_times=True, error_score='raise')\n    453 \n    454     try:\n    455         if y_train is None:\n    456             estimator.fit(X_train, **fit_params)\n    457         else:\n--> 458             estimator.fit(X_train, y_train, **fit_params)\n        estimator.fit = <bound method BaseForest.fit of RandomForestClas...e=None, verbose=0,\n            warm_start=False)>\n        X_train =         col_0  col_1  col_2  col_3  col_4  col_5...    NaN         NaN  \n\n[60234 rows x 111 columns]\n        y_train = 28993     0\n55769     0\n94070     0\n113985    0\n...4     0\nName: points, Length: 60234, dtype: int64\n        fit_params = {}\n    459 \n    460     except Exception as e:\n    461         # Note fit time as time until error\n    462         fit_time = time.time() - start_time\n\n...........................................................................\n/usr/local/lib/python3.6/site-packages/sklearn/ensemble/forest.py in fit(self=RandomForestClassifier(bootstrap=True, class_wei...te=None, verbose=0,\n            warm_start=False), X=        col_0  col_1  col_2  col_3  col_4  col_5...    NaN         NaN  \n\n[60234 rows x 111 columns], y=28993     0\n55769     0\n94070     0\n113985    0\n...4     0\nName: points, Length: 60234, dtype: int64, sample_weight=None)\n    242         -------\n    243         self : object\n    244             Returns self.\n    245         \"\"\"\n    246         # Validate or convert input data\n--> 247         X = check_array(X, accept_sparse=\"csc\", dtype=DTYPE)\n        X =         col_0  col_1  col_2  col_3  col_4  col_5...    NaN         NaN  \n\n[60234 rows x 111 columns]\n    248         y = check_array(y, accept_sparse='csc', ensure_2d=False, dtype=None)\n    249         if sample_weight is not None:\n    250             sample_weight = check_array(sample_weight, ensure_2d=False)\n    251         if issparse(X):\n\n...........................................................................\n/usr/local/lib/python3.6/site-packages/sklearn/utils/validation.py in check_array(array=array([[ 0.,  1.,  0., ..., nan, nan, nan],\n    ....,  0.,  2., ..., nan, nan, nan]], dtype=float32), accept_sparse='csc', dtype=<class 'numpy.float32'>, order=None, copy=False, force_all_finite=True, ensure_2d=True, allow_nd=False, ensure_min_samples=1, ensure_min_features=1, warn_on_dtype=False, estimator=None)\n    448             array = array.astype(np.float64)\n    449         if not allow_nd and array.ndim >= 3:\n    450             raise ValueError(\"Found array with dim %d. %s expected <= 2.\"\n    451                              % (array.ndim, estimator_name))\n    452         if force_all_finite:\n--> 453             _assert_all_finite(array)\n        array = array([[ 0.,  1.,  0., ..., nan, nan, nan],\n    ....,  0.,  2., ..., nan, nan, nan]], dtype=float32)\n    454 \n    455     shape_repr = _shape_repr(array.shape)\n    456     if ensure_min_samples > 0:\n    457         n_samples = _num_samples(array)\n\n...........................................................................\n/usr/local/lib/python3.6/site-packages/sklearn/utils/validation.py in _assert_all_finite(X=array([[ 0.,  1.,  0., ..., nan, nan, nan],\n    ....,  0.,  2., ..., nan, nan, nan]], dtype=float32))\n     39     # everything is finite; fall back to O(n) space np.isfinite to prevent\n     40     # false positives from overflow in sum method.\n     41     if (X.dtype.char in np.typecodes['AllFloat'] and not np.isfinite(X.sum())\n     42             and not np.isfinite(X).all()):\n     43         raise ValueError(\"Input contains NaN, infinity\"\n---> 44                          \" or a value too large for %r.\" % X.dtype)\n        X.dtype = dtype('float32')\n     45 \n     46 \n     47 def assert_all_finite(X):\n     48     \"\"\"Throw a ValueError if X contains NaN or infinity.\n\nValueError: Input contains NaN, infinity or a value too large for dtype('float32').\n___________________________________________________________________________\n\"\"\"",
      "\nThe above exception was the direct cause of the following exception:\n",
      "\u001b[0;31mTransportableException\u001b[0m                    Traceback (most recent call last)",
      "\u001b[0;32m/usr/local/lib/python3.6/site-packages/sklearn/externals/joblib/parallel.py\u001b[0m in \u001b[0;36mretrieve\u001b[0;34m(self)\u001b[0m\n\u001b[1;32m    698\u001b[0m                 \u001b[0;32mif\u001b[0m \u001b[0mgetattr\u001b[0m\u001b[0;34m(\u001b[0m\u001b[0mself\u001b[0m\u001b[0;34m.\u001b[0m\u001b[0m_backend\u001b[0m\u001b[0;34m,\u001b[0m \u001b[0;34m'supports_timeout'\u001b[0m\u001b[0;34m,\u001b[0m \u001b[0;32mFalse\u001b[0m\u001b[0;34m)\u001b[0m\u001b[0;34m:\u001b[0m\u001b[0;34m\u001b[0m\u001b[0m\n\u001b[0;32m--> 699\u001b[0;31m                     \u001b[0mself\u001b[0m\u001b[0;34m.\u001b[0m\u001b[0m_output\u001b[0m\u001b[0;34m.\u001b[0m\u001b[0mextend\u001b[0m\u001b[0;34m(\u001b[0m\u001b[0mjob\u001b[0m\u001b[0;34m.\u001b[0m\u001b[0mget\u001b[0m\u001b[0;34m(\u001b[0m\u001b[0mtimeout\u001b[0m\u001b[0;34m=\u001b[0m\u001b[0mself\u001b[0m\u001b[0;34m.\u001b[0m\u001b[0mtimeout\u001b[0m\u001b[0;34m)\u001b[0m\u001b[0;34m)\u001b[0m\u001b[0;34m\u001b[0m\u001b[0m\n\u001b[0m\u001b[1;32m    700\u001b[0m                 \u001b[0;32melse\u001b[0m\u001b[0;34m:\u001b[0m\u001b[0;34m\u001b[0m\u001b[0m\n",
      "\u001b[0;32m/usr/local/Cellar/python/3.6.5/Frameworks/Python.framework/Versions/3.6/lib/python3.6/multiprocessing/pool.py\u001b[0m in \u001b[0;36mget\u001b[0;34m(self, timeout)\u001b[0m\n\u001b[1;32m    643\u001b[0m         \u001b[0;32melse\u001b[0m\u001b[0;34m:\u001b[0m\u001b[0;34m\u001b[0m\u001b[0m\n\u001b[0;32m--> 644\u001b[0;31m             \u001b[0;32mraise\u001b[0m \u001b[0mself\u001b[0m\u001b[0;34m.\u001b[0m\u001b[0m_value\u001b[0m\u001b[0;34m\u001b[0m\u001b[0m\n\u001b[0m\u001b[1;32m    645\u001b[0m \u001b[0;34m\u001b[0m\u001b[0m\n",
      "\u001b[0;31mTransportableException\u001b[0m: TransportableException\n___________________________________________________________________________\nValueError                                         Wed May 30 15:34:19 2018\nPID: 1864                 Python 3.6.5: /usr/local/opt/python/bin/python3.6\n...........................................................................\n/usr/local/lib/python3.6/site-packages/sklearn/externals/joblib/parallel.py in __call__(self=<sklearn.externals.joblib.parallel.BatchedCalls object>)\n    126     def __init__(self, iterator_slice):\n    127         self.items = list(iterator_slice)\n    128         self._size = len(self.items)\n    129 \n    130     def __call__(self):\n--> 131         return [func(*args, **kwargs) for func, args, kwargs in self.items]\n        self.items = [(<function _fit_and_score>, (RandomForestClassifier(bootstrap=True, class_wei...te=None, verbose=0,\n            warm_start=False),         col_0  col_1  col_2  col_3  col_4  col_5...    NaN         NaN  \n\n[66928 rows x 111 columns], 10684     0\n78035     1\n72938     2\n90265     0\n...4     0\nName: points, Length: 66928, dtype: int64, {'score': <function _passthrough_scorer>}, array([ 6581,  6587,  6588, ..., 66925, 66926, 66927]), array([   0,    1,    2, ..., 6760, 6765, 6767]), 2, {'max_depth': 3, 'n_estimators': 100}), {'error_score': 'raise', 'fit_params': {}, 'return_n_test_samples': True, 'return_parameters': False, 'return_times': True, 'return_train_score': True})]\n    132 \n    133     def __len__(self):\n    134         return self._size\n    135 \n\n...........................................................................\n/usr/local/lib/python3.6/site-packages/sklearn/externals/joblib/parallel.py in <listcomp>(.0=<list_iterator object>)\n    126     def __init__(self, iterator_slice):\n    127         self.items = list(iterator_slice)\n    128         self._size = len(self.items)\n    129 \n    130     def __call__(self):\n--> 131         return [func(*args, **kwargs) for func, args, kwargs in self.items]\n        func = <function _fit_and_score>\n        args = (RandomForestClassifier(bootstrap=True, class_wei...te=None, verbose=0,\n            warm_start=False),         col_0  col_1  col_2  col_3  col_4  col_5...    NaN         NaN  \n\n[66928 rows x 111 columns], 10684     0\n78035     1\n72938     2\n90265     0\n...4     0\nName: points, Length: 66928, dtype: int64, {'score': <function _passthrough_scorer>}, array([ 6581,  6587,  6588, ..., 66925, 66926, 66927]), array([   0,    1,    2, ..., 6760, 6765, 6767]), 2, {'max_depth': 3, 'n_estimators': 100})\n        kwargs = {'error_score': 'raise', 'fit_params': {}, 'return_n_test_samples': True, 'return_parameters': False, 'return_times': True, 'return_train_score': True}\n    132 \n    133     def __len__(self):\n    134         return self._size\n    135 \n\n...........................................................................\n/usr/local/lib/python3.6/site-packages/sklearn/model_selection/_validation.py in _fit_and_score(estimator=RandomForestClassifier(bootstrap=True, class_wei...te=None, verbose=0,\n            warm_start=False), X=        col_0  col_1  col_2  col_3  col_4  col_5...    NaN         NaN  \n\n[66928 rows x 111 columns], y=10684     0\n78035     1\n72938     2\n90265     0\n...4     0\nName: points, Length: 66928, dtype: int64, scorer={'score': <function _passthrough_scorer>}, train=array([ 6581,  6587,  6588, ..., 66925, 66926, 66927]), test=array([   0,    1,    2, ..., 6760, 6765, 6767]), verbose=2, parameters={'max_depth': 3, 'n_estimators': 100}, fit_params={}, return_train_score=True, return_parameters=False, return_n_test_samples=True, return_times=True, error_score='raise')\n    453 \n    454     try:\n    455         if y_train is None:\n    456             estimator.fit(X_train, **fit_params)\n    457         else:\n--> 458             estimator.fit(X_train, y_train, **fit_params)\n        estimator.fit = <bound method BaseForest.fit of RandomForestClas...e=None, verbose=0,\n            warm_start=False)>\n        X_train =         col_0  col_1  col_2  col_3  col_4  col_5...    NaN         NaN  \n\n[60234 rows x 111 columns]\n        y_train = 28993     0\n55769     0\n94070     0\n113985    0\n...4     0\nName: points, Length: 60234, dtype: int64\n        fit_params = {}\n    459 \n    460     except Exception as e:\n    461         # Note fit time as time until error\n    462         fit_time = time.time() - start_time\n\n...........................................................................\n/usr/local/lib/python3.6/site-packages/sklearn/ensemble/forest.py in fit(self=RandomForestClassifier(bootstrap=True, class_wei...te=None, verbose=0,\n            warm_start=False), X=        col_0  col_1  col_2  col_3  col_4  col_5...    NaN         NaN  \n\n[60234 rows x 111 columns], y=28993     0\n55769     0\n94070     0\n113985    0\n...4     0\nName: points, Length: 60234, dtype: int64, sample_weight=None)\n    242         -------\n    243         self : object\n    244             Returns self.\n    245         \"\"\"\n    246         # Validate or convert input data\n--> 247         X = check_array(X, accept_sparse=\"csc\", dtype=DTYPE)\n        X =         col_0  col_1  col_2  col_3  col_4  col_5...    NaN         NaN  \n\n[60234 rows x 111 columns]\n    248         y = check_array(y, accept_sparse='csc', ensure_2d=False, dtype=None)\n    249         if sample_weight is not None:\n    250             sample_weight = check_array(sample_weight, ensure_2d=False)\n    251         if issparse(X):\n\n...........................................................................\n/usr/local/lib/python3.6/site-packages/sklearn/utils/validation.py in check_array(array=array([[ 0.,  1.,  0., ..., nan, nan, nan],\n    ....,  0.,  2., ..., nan, nan, nan]], dtype=float32), accept_sparse='csc', dtype=<class 'numpy.float32'>, order=None, copy=False, force_all_finite=True, ensure_2d=True, allow_nd=False, ensure_min_samples=1, ensure_min_features=1, warn_on_dtype=False, estimator=None)\n    448             array = array.astype(np.float64)\n    449         if not allow_nd and array.ndim >= 3:\n    450             raise ValueError(\"Found array with dim %d. %s expected <= 2.\"\n    451                              % (array.ndim, estimator_name))\n    452         if force_all_finite:\n--> 453             _assert_all_finite(array)\n        array = array([[ 0.,  1.,  0., ..., nan, nan, nan],\n    ....,  0.,  2., ..., nan, nan, nan]], dtype=float32)\n    454 \n    455     shape_repr = _shape_repr(array.shape)\n    456     if ensure_min_samples > 0:\n    457         n_samples = _num_samples(array)\n\n...........................................................................\n/usr/local/lib/python3.6/site-packages/sklearn/utils/validation.py in _assert_all_finite(X=array([[ 0.,  1.,  0., ..., nan, nan, nan],\n    ....,  0.,  2., ..., nan, nan, nan]], dtype=float32))\n     39     # everything is finite; fall back to O(n) space np.isfinite to prevent\n     40     # false positives from overflow in sum method.\n     41     if (X.dtype.char in np.typecodes['AllFloat'] and not np.isfinite(X.sum())\n     42             and not np.isfinite(X).all()):\n     43         raise ValueError(\"Input contains NaN, infinity\"\n---> 44                          \" or a value too large for %r.\" % X.dtype)\n        X.dtype = dtype('float32')\n     45 \n     46 \n     47 def assert_all_finite(X):\n     48     \"\"\"Throw a ValueError if X contains NaN or infinity.\n\nValueError: Input contains NaN, infinity or a value too large for dtype('float32').\n___________________________________________________________________________",
      "\nDuring handling of the above exception, another exception occurred:\n",
      "\u001b[0;31mJoblibValueError\u001b[0m                          Traceback (most recent call last)",
      "\u001b[0;32m<ipython-input-47-77a7dca036a0>\u001b[0m in \u001b[0;36m<module>\u001b[0;34m()\u001b[0m\n\u001b[1;32m      2\u001b[0m \u001b[0;34m\u001b[0m\u001b[0m\n\u001b[1;32m      3\u001b[0m \u001b[0;34m\u001b[0m\u001b[0m\n\u001b[0;32m----> 4\u001b[0;31m \u001b[0mgs\u001b[0m\u001b[0;34m.\u001b[0m\u001b[0mfit\u001b[0m\u001b[0;34m(\u001b[0m\u001b[0mX_train_3\u001b[0m\u001b[0;34m,\u001b[0m \u001b[0my_train\u001b[0m\u001b[0;34m)\u001b[0m\u001b[0;34m\u001b[0m\u001b[0m\n\u001b[0m",
      "\u001b[0;32m/usr/local/lib/python3.6/site-packages/sklearn/model_selection/_search.py\u001b[0m in \u001b[0;36mfit\u001b[0;34m(self, X, y, groups, **fit_params)\u001b[0m\n\u001b[1;32m    637\u001b[0m                                   error_score=self.error_score)\n\u001b[1;32m    638\u001b[0m           for parameters, (train, test) in product(candidate_params,\n\u001b[0;32m--> 639\u001b[0;31m                                                    cv.split(X, y, groups)))\n\u001b[0m\u001b[1;32m    640\u001b[0m \u001b[0;34m\u001b[0m\u001b[0m\n\u001b[1;32m    641\u001b[0m         \u001b[0;31m# if one choose to see train score, \"out\" will contain train score info\u001b[0m\u001b[0;34m\u001b[0m\u001b[0;34m\u001b[0m\u001b[0m\n",
      "\u001b[0;32m/usr/local/lib/python3.6/site-packages/sklearn/externals/joblib/parallel.py\u001b[0m in \u001b[0;36m__call__\u001b[0;34m(self, iterable)\u001b[0m\n\u001b[1;32m    787\u001b[0m                 \u001b[0;31m# consumption.\u001b[0m\u001b[0;34m\u001b[0m\u001b[0;34m\u001b[0m\u001b[0m\n\u001b[1;32m    788\u001b[0m                 \u001b[0mself\u001b[0m\u001b[0;34m.\u001b[0m\u001b[0m_iterating\u001b[0m \u001b[0;34m=\u001b[0m \u001b[0;32mFalse\u001b[0m\u001b[0;34m\u001b[0m\u001b[0m\n\u001b[0;32m--> 789\u001b[0;31m             \u001b[0mself\u001b[0m\u001b[0;34m.\u001b[0m\u001b[0mretrieve\u001b[0m\u001b[0;34m(\u001b[0m\u001b[0;34m)\u001b[0m\u001b[0;34m\u001b[0m\u001b[0m\n\u001b[0m\u001b[1;32m    790\u001b[0m             \u001b[0;31m# Make sure that we get a last message telling us we are done\u001b[0m\u001b[0;34m\u001b[0m\u001b[0;34m\u001b[0m\u001b[0m\n\u001b[1;32m    791\u001b[0m             \u001b[0melapsed_time\u001b[0m \u001b[0;34m=\u001b[0m \u001b[0mtime\u001b[0m\u001b[0;34m.\u001b[0m\u001b[0mtime\u001b[0m\u001b[0;34m(\u001b[0m\u001b[0;34m)\u001b[0m \u001b[0;34m-\u001b[0m \u001b[0mself\u001b[0m\u001b[0;34m.\u001b[0m\u001b[0m_start_time\u001b[0m\u001b[0;34m\u001b[0m\u001b[0m\n",
      "\u001b[0;32m/usr/local/lib/python3.6/site-packages/sklearn/externals/joblib/parallel.py\u001b[0m in \u001b[0;36mretrieve\u001b[0;34m(self)\u001b[0m\n\u001b[1;32m    738\u001b[0m                     \u001b[0mexception\u001b[0m \u001b[0;34m=\u001b[0m \u001b[0mexception_type\u001b[0m\u001b[0;34m(\u001b[0m\u001b[0mreport\u001b[0m\u001b[0;34m)\u001b[0m\u001b[0;34m\u001b[0m\u001b[0m\n\u001b[1;32m    739\u001b[0m \u001b[0;34m\u001b[0m\u001b[0m\n\u001b[0;32m--> 740\u001b[0;31m                     \u001b[0;32mraise\u001b[0m \u001b[0mexception\u001b[0m\u001b[0;34m\u001b[0m\u001b[0m\n\u001b[0m\u001b[1;32m    741\u001b[0m \u001b[0;34m\u001b[0m\u001b[0m\n\u001b[1;32m    742\u001b[0m     \u001b[0;32mdef\u001b[0m \u001b[0m__call__\u001b[0m\u001b[0;34m(\u001b[0m\u001b[0mself\u001b[0m\u001b[0;34m,\u001b[0m \u001b[0miterable\u001b[0m\u001b[0;34m)\u001b[0m\u001b[0;34m:\u001b[0m\u001b[0;34m\u001b[0m\u001b[0m\n",
      "\u001b[0;31mJoblibValueError\u001b[0m: JoblibValueError\n___________________________________________________________________________\nMultiprocessing exception:\n...........................................................................\n/usr/local/Cellar/python/3.6.5/Frameworks/Python.framework/Versions/3.6/lib/python3.6/runpy.py in _run_module_as_main(mod_name='ipykernel_launcher', alter_argv=1)\n    188         sys.exit(msg)\n    189     main_globals = sys.modules[\"__main__\"].__dict__\n    190     if alter_argv:\n    191         sys.argv[0] = mod_spec.origin\n    192     return _run_code(code, main_globals, None,\n--> 193                      \"__main__\", mod_spec)\n        mod_spec = ModuleSpec(name='ipykernel_launcher', loader=<_f...b/python3.6/site-packages/ipykernel_launcher.py')\n    194 \n    195 def run_module(mod_name, init_globals=None,\n    196                run_name=None, alter_sys=False):\n    197     \"\"\"Execute a module's code without importing it\n\n...........................................................................\n/usr/local/Cellar/python/3.6.5/Frameworks/Python.framework/Versions/3.6/lib/python3.6/runpy.py in _run_code(code=<code object <module> at 0x1018e8c00, file \"/usr...3.6/site-packages/ipykernel_launcher.py\", line 5>, run_globals={'__annotations__': {}, '__builtins__': <module 'builtins' (built-in)>, '__cached__': '/usr/local/lib/python3.6/site-packages/__pycache__/ipykernel_launcher.cpython-36.pyc', '__doc__': 'Entry point for launching an IPython kernel.\\n\\nTh...orts until\\nafter removing the cwd from sys.path.\\n', '__file__': '/usr/local/lib/python3.6/site-packages/ipykernel_launcher.py', '__loader__': <_frozen_importlib_external.SourceFileLoader object>, '__name__': '__main__', '__package__': '', '__spec__': ModuleSpec(name='ipykernel_launcher', loader=<_f...b/python3.6/site-packages/ipykernel_launcher.py'), 'app': <module 'ipykernel.kernelapp' from '/usr/local/lib/python3.6/site-packages/ipykernel/kernelapp.py'>, ...}, init_globals=None, mod_name='__main__', mod_spec=ModuleSpec(name='ipykernel_launcher', loader=<_f...b/python3.6/site-packages/ipykernel_launcher.py'), pkg_name='', script_name=None)\n     80                        __cached__ = cached,\n     81                        __doc__ = None,\n     82                        __loader__ = loader,\n     83                        __package__ = pkg_name,\n     84                        __spec__ = mod_spec)\n---> 85     exec(code, run_globals)\n        code = <code object <module> at 0x1018e8c00, file \"/usr...3.6/site-packages/ipykernel_launcher.py\", line 5>\n        run_globals = {'__annotations__': {}, '__builtins__': <module 'builtins' (built-in)>, '__cached__': '/usr/local/lib/python3.6/site-packages/__pycache__/ipykernel_launcher.cpython-36.pyc', '__doc__': 'Entry point for launching an IPython kernel.\\n\\nTh...orts until\\nafter removing the cwd from sys.path.\\n', '__file__': '/usr/local/lib/python3.6/site-packages/ipykernel_launcher.py', '__loader__': <_frozen_importlib_external.SourceFileLoader object>, '__name__': '__main__', '__package__': '', '__spec__': ModuleSpec(name='ipykernel_launcher', loader=<_f...b/python3.6/site-packages/ipykernel_launcher.py'), 'app': <module 'ipykernel.kernelapp' from '/usr/local/lib/python3.6/site-packages/ipykernel/kernelapp.py'>, ...}\n     86     return run_globals\n     87 \n     88 def _run_module_code(code, init_globals=None,\n     89                     mod_name=None, mod_spec=None,\n\n...........................................................................\n/usr/local/lib/python3.6/site-packages/ipykernel_launcher.py in <module>()\n     11     # This is added back by InteractiveShellApp.init_path()\n     12     if sys.path[0] == '':\n     13         del sys.path[0]\n     14 \n     15     from ipykernel import kernelapp as app\n---> 16     app.launch_new_instance()\n\n...........................................................................\n/usr/local/lib/python3.6/site-packages/traitlets/config/application.py in launch_instance(cls=<class 'ipykernel.kernelapp.IPKernelApp'>, argv=None, **kwargs={})\n    653 \n    654         If a global instance already exists, this reinitializes and starts it\n    655         \"\"\"\n    656         app = cls.instance(**kwargs)\n    657         app.initialize(argv)\n--> 658         app.start()\n        app.start = <bound method IPKernelApp.start of <ipykernel.kernelapp.IPKernelApp object>>\n    659 \n    660 #-----------------------------------------------------------------------------\n    661 # utility functions, for convenience\n    662 #-----------------------------------------------------------------------------\n\n...........................................................................\n/usr/local/lib/python3.6/site-packages/ipykernel/kernelapp.py in start(self=<ipykernel.kernelapp.IPKernelApp object>)\n    481         if self.poller is not None:\n    482             self.poller.start()\n    483         self.kernel.start()\n    484         self.io_loop = ioloop.IOLoop.current()\n    485         try:\n--> 486             self.io_loop.start()\n        self.io_loop.start = <bound method BaseAsyncIOLoop.start of <tornado.platform.asyncio.AsyncIOMainLoop object>>\n    487         except KeyboardInterrupt:\n    488             pass\n    489 \n    490 launch_new_instance = IPKernelApp.launch_instance\n\n...........................................................................\n/usr/local/lib/python3.6/site-packages/tornado/platform/asyncio.py in start(self=<tornado.platform.asyncio.AsyncIOMainLoop object>)\n    107         except (RuntimeError, AssertionError):\n    108             old_loop = None\n    109         try:\n    110             self._setup_logging()\n    111             asyncio.set_event_loop(self.asyncio_loop)\n--> 112             self.asyncio_loop.run_forever()\n        self.asyncio_loop.run_forever = <bound method BaseEventLoop.run_forever of <_Uni...EventLoop running=True closed=False debug=False>>\n    113         finally:\n    114             asyncio.set_event_loop(old_loop)\n    115 \n    116     def stop(self):\n\n...........................................................................\n/usr/local/Cellar/python/3.6.5/Frameworks/Python.framework/Versions/3.6/lib/python3.6/asyncio/base_events.py in run_forever(self=<_UnixSelectorEventLoop running=True closed=False debug=False>)\n    417             sys.set_asyncgen_hooks(firstiter=self._asyncgen_firstiter_hook,\n    418                                    finalizer=self._asyncgen_finalizer_hook)\n    419         try:\n    420             events._set_running_loop(self)\n    421             while True:\n--> 422                 self._run_once()\n        self._run_once = <bound method BaseEventLoop._run_once of <_UnixS...EventLoop running=True closed=False debug=False>>\n    423                 if self._stopping:\n    424                     break\n    425         finally:\n    426             self._stopping = False\n\n...........................................................................\n/usr/local/Cellar/python/3.6.5/Frameworks/Python.framework/Versions/3.6/lib/python3.6/asyncio/base_events.py in _run_once(self=<_UnixSelectorEventLoop running=True closed=False debug=False>)\n   1427                         logger.warning('Executing %s took %.3f seconds',\n   1428                                        _format_handle(handle), dt)\n   1429                 finally:\n   1430                     self._current_handle = None\n   1431             else:\n-> 1432                 handle._run()\n        handle._run = <bound method Handle._run of <Handle BaseAsyncIOLoop._handle_events(14, 1)>>\n   1433         handle = None  # Needed to break cycles when an exception occurs.\n   1434 \n   1435     def _set_coroutine_wrapper(self, enabled):\n   1436         try:\n\n...........................................................................\n/usr/local/Cellar/python/3.6.5/Frameworks/Python.framework/Versions/3.6/lib/python3.6/asyncio/events.py in _run(self=<Handle BaseAsyncIOLoop._handle_events(14, 1)>)\n    140             self._callback = None\n    141             self._args = None\n    142 \n    143     def _run(self):\n    144         try:\n--> 145             self._callback(*self._args)\n        self._callback = <bound method BaseAsyncIOLoop._handle_events of <tornado.platform.asyncio.AsyncIOMainLoop object>>\n        self._args = (14, 1)\n    146         except Exception as exc:\n    147             cb = _format_callback_source(self._callback, self._args)\n    148             msg = 'Exception in callback {}'.format(cb)\n    149             context = {\n\n...........................................................................\n/usr/local/lib/python3.6/site-packages/tornado/platform/asyncio.py in _handle_events(self=<tornado.platform.asyncio.AsyncIOMainLoop object>, fd=14, events=1)\n     97             self.writers.remove(fd)\n     98         del self.handlers[fd]\n     99 \n    100     def _handle_events(self, fd, events):\n    101         fileobj, handler_func = self.handlers[fd]\n--> 102         handler_func(fileobj, events)\n        handler_func = <function wrap.<locals>.null_wrapper>\n        fileobj = <zmq.sugar.socket.Socket object>\n        events = 1\n    103 \n    104     def start(self):\n    105         try:\n    106             old_loop = asyncio.get_event_loop()\n\n...........................................................................\n/usr/local/lib/python3.6/site-packages/tornado/stack_context.py in null_wrapper(*args=(<zmq.sugar.socket.Socket object>, 1), **kwargs={})\n    271         # Fast path when there are no active contexts.\n    272         def null_wrapper(*args, **kwargs):\n    273             try:\n    274                 current_state = _state.contexts\n    275                 _state.contexts = cap_contexts[0]\n--> 276                 return fn(*args, **kwargs)\n        args = (<zmq.sugar.socket.Socket object>, 1)\n        kwargs = {}\n    277             finally:\n    278                 _state.contexts = current_state\n    279         null_wrapper._wrapped = True\n    280         return null_wrapper\n\n...........................................................................\n/usr/local/lib/python3.6/site-packages/zmq/eventloop/zmqstream.py in _handle_events(self=<zmq.eventloop.zmqstream.ZMQStream object>, fd=<zmq.sugar.socket.Socket object>, events=1)\n    445             return\n    446         zmq_events = self.socket.EVENTS\n    447         try:\n    448             # dispatch events:\n    449             if zmq_events & zmq.POLLIN and self.receiving():\n--> 450                 self._handle_recv()\n        self._handle_recv = <bound method ZMQStream._handle_recv of <zmq.eventloop.zmqstream.ZMQStream object>>\n    451                 if not self.socket:\n    452                     return\n    453             if zmq_events & zmq.POLLOUT and self.sending():\n    454                 self._handle_send()\n\n...........................................................................\n/usr/local/lib/python3.6/site-packages/zmq/eventloop/zmqstream.py in _handle_recv(self=<zmq.eventloop.zmqstream.ZMQStream object>)\n    475             else:\n    476                 raise\n    477         else:\n    478             if self._recv_callback:\n    479                 callback = self._recv_callback\n--> 480                 self._run_callback(callback, msg)\n        self._run_callback = <bound method ZMQStream._run_callback of <zmq.eventloop.zmqstream.ZMQStream object>>\n        callback = <function wrap.<locals>.null_wrapper>\n        msg = [<zmq.sugar.frame.Frame object>, <zmq.sugar.frame.Frame object>, <zmq.sugar.frame.Frame object>, <zmq.sugar.frame.Frame object>, <zmq.sugar.frame.Frame object>, <zmq.sugar.frame.Frame object>, <zmq.sugar.frame.Frame object>]\n    481         \n    482 \n    483     def _handle_send(self):\n    484         \"\"\"Handle a send event.\"\"\"\n\n...........................................................................\n/usr/local/lib/python3.6/site-packages/zmq/eventloop/zmqstream.py in _run_callback(self=<zmq.eventloop.zmqstream.ZMQStream object>, callback=<function wrap.<locals>.null_wrapper>, *args=([<zmq.sugar.frame.Frame object>, <zmq.sugar.frame.Frame object>, <zmq.sugar.frame.Frame object>, <zmq.sugar.frame.Frame object>, <zmq.sugar.frame.Frame object>, <zmq.sugar.frame.Frame object>, <zmq.sugar.frame.Frame object>],), **kwargs={})\n    427         close our socket.\"\"\"\n    428         try:\n    429             # Use a NullContext to ensure that all StackContexts are run\n    430             # inside our blanket exception handler rather than outside.\n    431             with stack_context.NullContext():\n--> 432                 callback(*args, **kwargs)\n        callback = <function wrap.<locals>.null_wrapper>\n        args = ([<zmq.sugar.frame.Frame object>, <zmq.sugar.frame.Frame object>, <zmq.sugar.frame.Frame object>, <zmq.sugar.frame.Frame object>, <zmq.sugar.frame.Frame object>, <zmq.sugar.frame.Frame object>, <zmq.sugar.frame.Frame object>],)\n        kwargs = {}\n    433         except:\n    434             gen_log.error(\"Uncaught exception in ZMQStream callback\",\n    435                           exc_info=True)\n    436             # Re-raise the exception so that IOLoop.handle_callback_exception\n\n...........................................................................\n/usr/local/lib/python3.6/site-packages/tornado/stack_context.py in null_wrapper(*args=([<zmq.sugar.frame.Frame object>, <zmq.sugar.frame.Frame object>, <zmq.sugar.frame.Frame object>, <zmq.sugar.frame.Frame object>, <zmq.sugar.frame.Frame object>, <zmq.sugar.frame.Frame object>, <zmq.sugar.frame.Frame object>],), **kwargs={})\n    271         # Fast path when there are no active contexts.\n    272         def null_wrapper(*args, **kwargs):\n    273             try:\n    274                 current_state = _state.contexts\n    275                 _state.contexts = cap_contexts[0]\n--> 276                 return fn(*args, **kwargs)\n        args = ([<zmq.sugar.frame.Frame object>, <zmq.sugar.frame.Frame object>, <zmq.sugar.frame.Frame object>, <zmq.sugar.frame.Frame object>, <zmq.sugar.frame.Frame object>, <zmq.sugar.frame.Frame object>, <zmq.sugar.frame.Frame object>],)\n        kwargs = {}\n    277             finally:\n    278                 _state.contexts = current_state\n    279         null_wrapper._wrapped = True\n    280         return null_wrapper\n\n...........................................................................\n/usr/local/lib/python3.6/site-packages/ipykernel/kernelbase.py in dispatcher(msg=[<zmq.sugar.frame.Frame object>, <zmq.sugar.frame.Frame object>, <zmq.sugar.frame.Frame object>, <zmq.sugar.frame.Frame object>, <zmq.sugar.frame.Frame object>, <zmq.sugar.frame.Frame object>, <zmq.sugar.frame.Frame object>])\n    278         if self.control_stream:\n    279             self.control_stream.on_recv(self.dispatch_control, copy=False)\n    280 \n    281         def make_dispatcher(stream):\n    282             def dispatcher(msg):\n--> 283                 return self.dispatch_shell(stream, msg)\n        msg = [<zmq.sugar.frame.Frame object>, <zmq.sugar.frame.Frame object>, <zmq.sugar.frame.Frame object>, <zmq.sugar.frame.Frame object>, <zmq.sugar.frame.Frame object>, <zmq.sugar.frame.Frame object>, <zmq.sugar.frame.Frame object>]\n    284             return dispatcher\n    285 \n    286         for s in self.shell_streams:\n    287             s.on_recv(make_dispatcher(s), copy=False)\n\n...........................................................................\n/usr/local/lib/python3.6/site-packages/ipykernel/kernelbase.py in dispatch_shell(self=<ipykernel.ipkernel.IPythonKernel object>, stream=<zmq.eventloop.zmqstream.ZMQStream object>, msg={'buffers': [], 'content': {'allow_stdin': True, 'code': '# Fit with includes words\\n\\n\\ngs.fit(X_train_3, y_train)', 'silent': False, 'stop_on_error': True, 'store_history': True, 'user_expressions': {}}, 'header': {'date': datetime.datetime(2018, 5, 30, 13, 34, 18, 960912, tzinfo=tzutc()), 'msg_id': '46a9ecfa4ded42468eed9fc4b95baba0', 'msg_type': 'execute_request', 'session': '1c03199ddf364bde87dced114fb67760', 'username': 'username', 'version': '5.2'}, 'metadata': {}, 'msg_id': '46a9ecfa4ded42468eed9fc4b95baba0', 'msg_type': 'execute_request', 'parent_header': {}})\n    228             self.log.warn(\"Unknown message type: %r\", msg_type)\n    229         else:\n    230             self.log.debug(\"%s: %s\", msg_type, msg)\n    231             self.pre_handler_hook()\n    232             try:\n--> 233                 handler(stream, idents, msg)\n        handler = <bound method Kernel.execute_request of <ipykernel.ipkernel.IPythonKernel object>>\n        stream = <zmq.eventloop.zmqstream.ZMQStream object>\n        idents = [b'1c03199ddf364bde87dced114fb67760']\n        msg = {'buffers': [], 'content': {'allow_stdin': True, 'code': '# Fit with includes words\\n\\n\\ngs.fit(X_train_3, y_train)', 'silent': False, 'stop_on_error': True, 'store_history': True, 'user_expressions': {}}, 'header': {'date': datetime.datetime(2018, 5, 30, 13, 34, 18, 960912, tzinfo=tzutc()), 'msg_id': '46a9ecfa4ded42468eed9fc4b95baba0', 'msg_type': 'execute_request', 'session': '1c03199ddf364bde87dced114fb67760', 'username': 'username', 'version': '5.2'}, 'metadata': {}, 'msg_id': '46a9ecfa4ded42468eed9fc4b95baba0', 'msg_type': 'execute_request', 'parent_header': {}}\n    234             except Exception:\n    235                 self.log.error(\"Exception in message handler:\", exc_info=True)\n    236             finally:\n    237                 self.post_handler_hook()\n\n...........................................................................\n/usr/local/lib/python3.6/site-packages/ipykernel/kernelbase.py in execute_request(self=<ipykernel.ipkernel.IPythonKernel object>, stream=<zmq.eventloop.zmqstream.ZMQStream object>, ident=[b'1c03199ddf364bde87dced114fb67760'], parent={'buffers': [], 'content': {'allow_stdin': True, 'code': '# Fit with includes words\\n\\n\\ngs.fit(X_train_3, y_train)', 'silent': False, 'stop_on_error': True, 'store_history': True, 'user_expressions': {}}, 'header': {'date': datetime.datetime(2018, 5, 30, 13, 34, 18, 960912, tzinfo=tzutc()), 'msg_id': '46a9ecfa4ded42468eed9fc4b95baba0', 'msg_type': 'execute_request', 'session': '1c03199ddf364bde87dced114fb67760', 'username': 'username', 'version': '5.2'}, 'metadata': {}, 'msg_id': '46a9ecfa4ded42468eed9fc4b95baba0', 'msg_type': 'execute_request', 'parent_header': {}})\n    394         if not silent:\n    395             self.execution_count += 1\n    396             self._publish_execute_input(code, parent, self.execution_count)\n    397 \n    398         reply_content = self.do_execute(code, silent, store_history,\n--> 399                                         user_expressions, allow_stdin)\n        user_expressions = {}\n        allow_stdin = True\n    400 \n    401         # Flush output before sending the reply.\n    402         sys.stdout.flush()\n    403         sys.stderr.flush()\n\n...........................................................................\n/usr/local/lib/python3.6/site-packages/ipykernel/ipkernel.py in do_execute(self=<ipykernel.ipkernel.IPythonKernel object>, code='# Fit with includes words\\n\\n\\ngs.fit(X_train_3, y_train)', silent=False, store_history=True, user_expressions={}, allow_stdin=True)\n    203 \n    204         self._forward_input(allow_stdin)\n    205 \n    206         reply_content = {}\n    207         try:\n--> 208             res = shell.run_cell(code, store_history=store_history, silent=silent)\n        res = undefined\n        shell.run_cell = <bound method ZMQInteractiveShell.run_cell of <ipykernel.zmqshell.ZMQInteractiveShell object>>\n        code = '# Fit with includes words\\n\\n\\ngs.fit(X_train_3, y_train)'\n        store_history = True\n        silent = False\n    209         finally:\n    210             self._restore_input()\n    211 \n    212         if res.error_before_exec is not None:\n\n...........................................................................\n/usr/local/lib/python3.6/site-packages/ipykernel/zmqshell.py in run_cell(self=<ipykernel.zmqshell.ZMQInteractiveShell object>, *args=('# Fit with includes words\\n\\n\\ngs.fit(X_train_3, y_train)',), **kwargs={'silent': False, 'store_history': True})\n    532             )\n    533         self.payload_manager.write_payload(payload)\n    534 \n    535     def run_cell(self, *args, **kwargs):\n    536         self._last_traceback = None\n--> 537         return super(ZMQInteractiveShell, self).run_cell(*args, **kwargs)\n        self.run_cell = <bound method ZMQInteractiveShell.run_cell of <ipykernel.zmqshell.ZMQInteractiveShell object>>\n        args = ('# Fit with includes words\\n\\n\\ngs.fit(X_train_3, y_train)',)\n        kwargs = {'silent': False, 'store_history': True}\n    538 \n    539     def _showtraceback(self, etype, evalue, stb):\n    540         # try to preserve ordering of tracebacks and print statements\n    541         sys.stdout.flush()\n\n...........................................................................\n/usr/local/lib/python3.6/site-packages/IPython/core/interactiveshell.py in run_cell(self=<ipykernel.zmqshell.ZMQInteractiveShell object>, raw_cell='# Fit with includes words\\n\\n\\ngs.fit(X_train_3, y_train)', store_history=True, silent=False, shell_futures=True)\n   2657         -------\n   2658         result : :class:`ExecutionResult`\n   2659         \"\"\"\n   2660         try:\n   2661             result = self._run_cell(\n-> 2662                 raw_cell, store_history, silent, shell_futures)\n        raw_cell = '# Fit with includes words\\n\\n\\ngs.fit(X_train_3, y_train)'\n        store_history = True\n        silent = False\n        shell_futures = True\n   2663         finally:\n   2664             self.events.trigger('post_execute')\n   2665             if not silent:\n   2666                 self.events.trigger('post_run_cell', result)\n\n...........................................................................\n/usr/local/lib/python3.6/site-packages/IPython/core/interactiveshell.py in _run_cell(self=<ipykernel.zmqshell.ZMQInteractiveShell object>, raw_cell='# Fit with includes words\\n\\n\\ngs.fit(X_train_3, y_train)', store_history=True, silent=False, shell_futures=True)\n   2780                 self.displayhook.exec_result = result\n   2781 \n   2782                 # Execute the user code\n   2783                 interactivity = 'none' if silent else self.ast_node_interactivity\n   2784                 has_raised = self.run_ast_nodes(code_ast.body, cell_name,\n-> 2785                    interactivity=interactivity, compiler=compiler, result=result)\n        interactivity = 'last_expr'\n        compiler = <IPython.core.compilerop.CachingCompiler object>\n   2786                 \n   2787                 self.last_execution_succeeded = not has_raised\n   2788                 self.last_execution_result = result\n   2789 \n\n...........................................................................\n/usr/local/lib/python3.6/site-packages/IPython/core/interactiveshell.py in run_ast_nodes(self=<ipykernel.zmqshell.ZMQInteractiveShell object>, nodelist=[<_ast.Expr object>], cell_name='<ipython-input-47-77a7dca036a0>', interactivity='last', compiler=<IPython.core.compilerop.CachingCompiler object>, result=<ExecutionResult object at 120348c18, execution_...rue silent=False shell_futures=True> result=None>)\n   2904                     return True\n   2905 \n   2906             for i, node in enumerate(to_run_interactive):\n   2907                 mod = ast.Interactive([node])\n   2908                 code = compiler(mod, cell_name, \"single\")\n-> 2909                 if self.run_code(code, result):\n        self.run_code = <bound method InteractiveShell.run_code of <ipykernel.zmqshell.ZMQInteractiveShell object>>\n        code = <code object <module> at 0x10cfe14b0, file \"<ipython-input-47-77a7dca036a0>\", line 4>\n        result = <ExecutionResult object at 120348c18, execution_...rue silent=False shell_futures=True> result=None>\n   2910                     return True\n   2911 \n   2912             # Flush softspace\n   2913             if softspace(sys.stdout, 0):\n\n...........................................................................\n/usr/local/lib/python3.6/site-packages/IPython/core/interactiveshell.py in run_code(self=<ipykernel.zmqshell.ZMQInteractiveShell object>, code_obj=<code object <module> at 0x10cfe14b0, file \"<ipython-input-47-77a7dca036a0>\", line 4>, result=<ExecutionResult object at 120348c18, execution_...rue silent=False shell_futures=True> result=None>)\n   2958         outflag = True  # happens in more places, so it's easier as default\n   2959         try:\n   2960             try:\n   2961                 self.hooks.pre_run_code_hook()\n   2962                 #rprint('Running code', repr(code_obj)) # dbg\n-> 2963                 exec(code_obj, self.user_global_ns, self.user_ns)\n        code_obj = <code object <module> at 0x10cfe14b0, file \"<ipython-input-47-77a7dca036a0>\", line 4>\n        self.user_global_ns = {'GridSearchCV': <class 'sklearn.model_selection._search.GridSearchCV'>, 'In': ['', '# Imports\\n\\nimport pandas as pd\\nimport numpy as n...ort category_encoders as ce\\nimport sklearn as skl', '# plot parameters\\n\\nplt.rcParams[\"figure.figsize\"] = (10, 5)\\nplt.rcParams[\"font.size\"] = 14', \"# Open data\\n\\ndatafile = 'data/wine-reviews/winem...csv'\\ndata_small = pd.read_csv(datafile, nrows=10)\", 'fulldata = pd.read_csv(datafile)\\nmsno.matrix(fulldata)', 'from sklearn.model_selection import train_test_s...                                 random_state=18)', '# As a first approach, we just drop data with mi...a = treat_data(fulldata_train)\\nlen(fulldata_nona)', '# Preparing data\\n\\ndef make_xy(dat):\\n    # forget...rn X, y\\n\\nX_data,  y_data = make_xy(fulldata_nona)', '# First approach: use hashing on categorical fea... data in the same way\\nhashing.fit(X_data, y_data)', 'def hashing_features(X):\\n    newX = hashing.tran...rn newX\\n\\nX_data_hashed = hashing_features(X_data)', '# rescale target\\n# Choose to get 5 labels, in or...(p-80)/4.)\\n\\ny_data_scaled = y_data.apply(scaling)', '# Get grade from zero to five\\n# bad, ok, good, e... (out of this world)\\n\\ny_data_scaled.hist(bins=20)', '# Alternatively, split scores into three equival...scale_points(y_data)\\n\\ny_data_binned.hist(bins=20)', '# Prepare testing data in the same way\\n\\nX_train,...X_test_init)\\ny_test = rescale_points(y_test_init)', 'from sklearn.ensemble import RandomForestClassifier\\nfrom sklearn.model_selection import GridSearchCV', '\\ncommonwords[:20]', \"import string, re\\ndescr = fulldata_nona[['descri...                   .split()).value_counts()[:100]\", '\\ncommonwords[:20]', '\\ncommonwords[:40]', \"\\ncommonwords['and']\", ...], 'Out': {4: <matplotlib.axes._subplots.AxesSubplot object>, 6: 66928, 8: HashingEncoder(cols=['country', 'province', 'reg..._components=8,\n        return_df=True, verbose=0), 11: <matplotlib.axes._subplots.AxesSubplot object>, 12: <matplotlib.axes._subplots.AxesSubplot object>, 17: and        183160\nthe        117475\na           ...\nfinish      18871\nthat        17500\ndtype: int64, 18: and        183160\nthe        117475\na           ...\noak          8687\nplum         8660\ndtype: int64, 19: 183160, 20: 9750, 21: and          183160\nthe          117475\na       ...629\nalong          3617\nLength: 100, dtype: int64, ...}, 'RandomForestClassifier': <class 'sklearn.ensemble.forest.RandomForestClassifier'>, 'X_data':         Unnamed: 0    country     price         ...              Angosto  \n\n[66928 rows x 8 columns], 'X_data_hashed':         col_0  col_1  col_2  col_3  col_4  col_5...0  \n60714   1.698970  \n\n[66928 rows x 10 columns], 'X_test':         col_0  col_1  col_2  col_3  col_4  col_5...49  \n15675   1.812913  \n\n[7364 rows x 10 columns], 'X_test_2':         col_0  col_1  col_2  col_3  col_4  col_5....812913            44  \n\n[7364 rows x 11 columns], 'X_test_3':         col_0  col_1  col_2  col_3  col_4  col_5...     NaN         NaN  \n\n[7364 rows x 111 columns], 'X_test_init':         Unnamed: 0    country     price         ...               Lachini  \n\n[7364 rows x 8 columns], ...}\n        self.user_ns = {'GridSearchCV': <class 'sklearn.model_selection._search.GridSearchCV'>, 'In': ['', '# Imports\\n\\nimport pandas as pd\\nimport numpy as n...ort category_encoders as ce\\nimport sklearn as skl', '# plot parameters\\n\\nplt.rcParams[\"figure.figsize\"] = (10, 5)\\nplt.rcParams[\"font.size\"] = 14', \"# Open data\\n\\ndatafile = 'data/wine-reviews/winem...csv'\\ndata_small = pd.read_csv(datafile, nrows=10)\", 'fulldata = pd.read_csv(datafile)\\nmsno.matrix(fulldata)', 'from sklearn.model_selection import train_test_s...                                 random_state=18)', '# As a first approach, we just drop data with mi...a = treat_data(fulldata_train)\\nlen(fulldata_nona)', '# Preparing data\\n\\ndef make_xy(dat):\\n    # forget...rn X, y\\n\\nX_data,  y_data = make_xy(fulldata_nona)', '# First approach: use hashing on categorical fea... data in the same way\\nhashing.fit(X_data, y_data)', 'def hashing_features(X):\\n    newX = hashing.tran...rn newX\\n\\nX_data_hashed = hashing_features(X_data)', '# rescale target\\n# Choose to get 5 labels, in or...(p-80)/4.)\\n\\ny_data_scaled = y_data.apply(scaling)', '# Get grade from zero to five\\n# bad, ok, good, e... (out of this world)\\n\\ny_data_scaled.hist(bins=20)', '# Alternatively, split scores into three equival...scale_points(y_data)\\n\\ny_data_binned.hist(bins=20)', '# Prepare testing data in the same way\\n\\nX_train,...X_test_init)\\ny_test = rescale_points(y_test_init)', 'from sklearn.ensemble import RandomForestClassifier\\nfrom sklearn.model_selection import GridSearchCV', '\\ncommonwords[:20]', \"import string, re\\ndescr = fulldata_nona[['descri...                   .split()).value_counts()[:100]\", '\\ncommonwords[:20]', '\\ncommonwords[:40]', \"\\ncommonwords['and']\", ...], 'Out': {4: <matplotlib.axes._subplots.AxesSubplot object>, 6: 66928, 8: HashingEncoder(cols=['country', 'province', 'reg..._components=8,\n        return_df=True, verbose=0), 11: <matplotlib.axes._subplots.AxesSubplot object>, 12: <matplotlib.axes._subplots.AxesSubplot object>, 17: and        183160\nthe        117475\na           ...\nfinish      18871\nthat        17500\ndtype: int64, 18: and        183160\nthe        117475\na           ...\noak          8687\nplum         8660\ndtype: int64, 19: 183160, 20: 9750, 21: and          183160\nthe          117475\na       ...629\nalong          3617\nLength: 100, dtype: int64, ...}, 'RandomForestClassifier': <class 'sklearn.ensemble.forest.RandomForestClassifier'>, 'X_data':         Unnamed: 0    country     price         ...              Angosto  \n\n[66928 rows x 8 columns], 'X_data_hashed':         col_0  col_1  col_2  col_3  col_4  col_5...0  \n60714   1.698970  \n\n[66928 rows x 10 columns], 'X_test':         col_0  col_1  col_2  col_3  col_4  col_5...49  \n15675   1.812913  \n\n[7364 rows x 10 columns], 'X_test_2':         col_0  col_1  col_2  col_3  col_4  col_5....812913            44  \n\n[7364 rows x 11 columns], 'X_test_3':         col_0  col_1  col_2  col_3  col_4  col_5...     NaN         NaN  \n\n[7364 rows x 111 columns], 'X_test_init':         Unnamed: 0    country     price         ...               Lachini  \n\n[7364 rows x 8 columns], ...}\n   2964             finally:\n   2965                 # Reset our crash handler in place\n   2966                 sys.excepthook = old_excepthook\n   2967         except SystemExit as e:\n\n...........................................................................\n/Users/nbernier/GoogleDrive/LPQM/git/advanced-comp-2018/<ipython-input-47-77a7dca036a0> in <module>()\n      1 # Fit with includes words\n      2 \n      3 \n----> 4 gs.fit(X_train_3, y_train)\n\n...........................................................................\n/usr/local/lib/python3.6/site-packages/sklearn/model_selection/_search.py in fit(self=GridSearchCV(cv=10, error_score='raise',\n       ...train_score=True,\n       scoring=None, verbose=2), X=        col_0  col_1  col_2  col_3  col_4  col_5...    NaN         NaN  \n\n[66928 rows x 111 columns], y=10684     0\n78035     1\n72938     2\n90265     0\n...4     0\nName: points, Length: 66928, dtype: int64, groups=None, **fit_params={})\n    634                                   return_train_score=self.return_train_score,\n    635                                   return_n_test_samples=True,\n    636                                   return_times=True, return_parameters=False,\n    637                                   error_score=self.error_score)\n    638           for parameters, (train, test) in product(candidate_params,\n--> 639                                                    cv.split(X, y, groups)))\n        cv.split = <bound method StratifiedKFold.split of Stratifie...d(n_splits=10, random_state=None, shuffle=False)>\n        X =         col_0  col_1  col_2  col_3  col_4  col_5...    NaN         NaN  \n\n[66928 rows x 111 columns]\n        y = 10684     0\n78035     1\n72938     2\n90265     0\n...4     0\nName: points, Length: 66928, dtype: int64\n        groups = None\n    640 \n    641         # if one choose to see train score, \"out\" will contain train score info\n    642         if self.return_train_score:\n    643             (train_score_dicts, test_score_dicts, test_sample_counts, fit_time,\n\n...........................................................................\n/usr/local/lib/python3.6/site-packages/sklearn/externals/joblib/parallel.py in __call__(self=Parallel(n_jobs=6), iterable=<generator object BaseSearchCV.fit.<locals>.<genexpr>>)\n    784             if pre_dispatch == \"all\" or n_jobs == 1:\n    785                 # The iterable was consumed all at once by the above for loop.\n    786                 # No need to wait for async callbacks to trigger to\n    787                 # consumption.\n    788                 self._iterating = False\n--> 789             self.retrieve()\n        self.retrieve = <bound method Parallel.retrieve of Parallel(n_jobs=6)>\n    790             # Make sure that we get a last message telling us we are done\n    791             elapsed_time = time.time() - self._start_time\n    792             self._print('Done %3i out of %3i | elapsed: %s finished',\n    793                         (len(self._output), len(self._output),\n\n---------------------------------------------------------------------------\nSub-process traceback:\n---------------------------------------------------------------------------\nValueError                                         Wed May 30 15:34:19 2018\nPID: 1864                 Python 3.6.5: /usr/local/opt/python/bin/python3.6\n...........................................................................\n/usr/local/lib/python3.6/site-packages/sklearn/externals/joblib/parallel.py in __call__(self=<sklearn.externals.joblib.parallel.BatchedCalls object>)\n    126     def __init__(self, iterator_slice):\n    127         self.items = list(iterator_slice)\n    128         self._size = len(self.items)\n    129 \n    130     def __call__(self):\n--> 131         return [func(*args, **kwargs) for func, args, kwargs in self.items]\n        self.items = [(<function _fit_and_score>, (RandomForestClassifier(bootstrap=True, class_wei...te=None, verbose=0,\n            warm_start=False),         col_0  col_1  col_2  col_3  col_4  col_5...    NaN         NaN  \n\n[66928 rows x 111 columns], 10684     0\n78035     1\n72938     2\n90265     0\n...4     0\nName: points, Length: 66928, dtype: int64, {'score': <function _passthrough_scorer>}, array([ 6581,  6587,  6588, ..., 66925, 66926, 66927]), array([   0,    1,    2, ..., 6760, 6765, 6767]), 2, {'max_depth': 3, 'n_estimators': 100}), {'error_score': 'raise', 'fit_params': {}, 'return_n_test_samples': True, 'return_parameters': False, 'return_times': True, 'return_train_score': True})]\n    132 \n    133     def __len__(self):\n    134         return self._size\n    135 \n\n...........................................................................\n/usr/local/lib/python3.6/site-packages/sklearn/externals/joblib/parallel.py in <listcomp>(.0=<list_iterator object>)\n    126     def __init__(self, iterator_slice):\n    127         self.items = list(iterator_slice)\n    128         self._size = len(self.items)\n    129 \n    130     def __call__(self):\n--> 131         return [func(*args, **kwargs) for func, args, kwargs in self.items]\n        func = <function _fit_and_score>\n        args = (RandomForestClassifier(bootstrap=True, class_wei...te=None, verbose=0,\n            warm_start=False),         col_0  col_1  col_2  col_3  col_4  col_5...    NaN         NaN  \n\n[66928 rows x 111 columns], 10684     0\n78035     1\n72938     2\n90265     0\n...4     0\nName: points, Length: 66928, dtype: int64, {'score': <function _passthrough_scorer>}, array([ 6581,  6587,  6588, ..., 66925, 66926, 66927]), array([   0,    1,    2, ..., 6760, 6765, 6767]), 2, {'max_depth': 3, 'n_estimators': 100})\n        kwargs = {'error_score': 'raise', 'fit_params': {}, 'return_n_test_samples': True, 'return_parameters': False, 'return_times': True, 'return_train_score': True}\n    132 \n    133     def __len__(self):\n    134         return self._size\n    135 \n\n...........................................................................\n/usr/local/lib/python3.6/site-packages/sklearn/model_selection/_validation.py in _fit_and_score(estimator=RandomForestClassifier(bootstrap=True, class_wei...te=None, verbose=0,\n            warm_start=False), X=        col_0  col_1  col_2  col_3  col_4  col_5...    NaN         NaN  \n\n[66928 rows x 111 columns], y=10684     0\n78035     1\n72938     2\n90265     0\n...4     0\nName: points, Length: 66928, dtype: int64, scorer={'score': <function _passthrough_scorer>}, train=array([ 6581,  6587,  6588, ..., 66925, 66926, 66927]), test=array([   0,    1,    2, ..., 6760, 6765, 6767]), verbose=2, parameters={'max_depth': 3, 'n_estimators': 100}, fit_params={}, return_train_score=True, return_parameters=False, return_n_test_samples=True, return_times=True, error_score='raise')\n    453 \n    454     try:\n    455         if y_train is None:\n    456             estimator.fit(X_train, **fit_params)\n    457         else:\n--> 458             estimator.fit(X_train, y_train, **fit_params)\n        estimator.fit = <bound method BaseForest.fit of RandomForestClas...e=None, verbose=0,\n            warm_start=False)>\n        X_train =         col_0  col_1  col_2  col_3  col_4  col_5...    NaN         NaN  \n\n[60234 rows x 111 columns]\n        y_train = 28993     0\n55769     0\n94070     0\n113985    0\n...4     0\nName: points, Length: 60234, dtype: int64\n        fit_params = {}\n    459 \n    460     except Exception as e:\n    461         # Note fit time as time until error\n    462         fit_time = time.time() - start_time\n\n...........................................................................\n/usr/local/lib/python3.6/site-packages/sklearn/ensemble/forest.py in fit(self=RandomForestClassifier(bootstrap=True, class_wei...te=None, verbose=0,\n            warm_start=False), X=        col_0  col_1  col_2  col_3  col_4  col_5...    NaN         NaN  \n\n[60234 rows x 111 columns], y=28993     0\n55769     0\n94070     0\n113985    0\n...4     0\nName: points, Length: 60234, dtype: int64, sample_weight=None)\n    242         -------\n    243         self : object\n    244             Returns self.\n    245         \"\"\"\n    246         # Validate or convert input data\n--> 247         X = check_array(X, accept_sparse=\"csc\", dtype=DTYPE)\n        X =         col_0  col_1  col_2  col_3  col_4  col_5...    NaN         NaN  \n\n[60234 rows x 111 columns]\n    248         y = check_array(y, accept_sparse='csc', ensure_2d=False, dtype=None)\n    249         if sample_weight is not None:\n    250             sample_weight = check_array(sample_weight, ensure_2d=False)\n    251         if issparse(X):\n\n...........................................................................\n/usr/local/lib/python3.6/site-packages/sklearn/utils/validation.py in check_array(array=array([[ 0.,  1.,  0., ..., nan, nan, nan],\n    ....,  0.,  2., ..., nan, nan, nan]], dtype=float32), accept_sparse='csc', dtype=<class 'numpy.float32'>, order=None, copy=False, force_all_finite=True, ensure_2d=True, allow_nd=False, ensure_min_samples=1, ensure_min_features=1, warn_on_dtype=False, estimator=None)\n    448             array = array.astype(np.float64)\n    449         if not allow_nd and array.ndim >= 3:\n    450             raise ValueError(\"Found array with dim %d. %s expected <= 2.\"\n    451                              % (array.ndim, estimator_name))\n    452         if force_all_finite:\n--> 453             _assert_all_finite(array)\n        array = array([[ 0.,  1.,  0., ..., nan, nan, nan],\n    ....,  0.,  2., ..., nan, nan, nan]], dtype=float32)\n    454 \n    455     shape_repr = _shape_repr(array.shape)\n    456     if ensure_min_samples > 0:\n    457         n_samples = _num_samples(array)\n\n...........................................................................\n/usr/local/lib/python3.6/site-packages/sklearn/utils/validation.py in _assert_all_finite(X=array([[ 0.,  1.,  0., ..., nan, nan, nan],\n    ....,  0.,  2., ..., nan, nan, nan]], dtype=float32))\n     39     # everything is finite; fall back to O(n) space np.isfinite to prevent\n     40     # false positives from overflow in sum method.\n     41     if (X.dtype.char in np.typecodes['AllFloat'] and not np.isfinite(X.sum())\n     42             and not np.isfinite(X).all()):\n     43         raise ValueError(\"Input contains NaN, infinity\"\n---> 44                          \" or a value too large for %r.\" % X.dtype)\n        X.dtype = dtype('float32')\n     45 \n     46 \n     47 def assert_all_finite(X):\n     48     \"\"\"Throw a ValueError if X contains NaN or infinity.\n\nValueError: Input contains NaN, infinity or a value too large for dtype('float32').\n___________________________________________________________________________"
     ]
    }
   ],
   "source": [
    "# Fit with includes words\n",
    "\n",
    "\n",
    "gs.fit(X_train_3, y_train)"
   ]
  },
  {
   "cell_type": "markdown",
   "metadata": {},
   "source": [
    "## Conclusion\n",
    "\n",
    "The idea was two-fold. \n",
    "First, I wanted to check whether it is possible \n",
    "to guess how much a reviewer will appreciate the wine\n",
    "just by looking at the objective characteristics of the wine.\n",
    "I found that we can guess almost 2 out of 3 times\n",
    "whether the reviewer liked the wine or not, just\n",
    "by looking at its origin, its price, and the name of the reviewer.\n",
    "\n",
    "The second objective was to try to teach the machine learning algorithm\n",
    "to \"understand\" the written description: if it means the wine is good or bad.\n",
    "The description length, without analysing it, already gives a good idea.\n",
    "Good wines inspire much longer reviews than bad wines.\n",
    "Unfortunately, due to time constraints, I could not go further.\n",
    "\n",
    "### Outlook\n",
    "There are several points that I would like to explore.\n",
    "First, does a feature tend to increase or decrease the score.\n",
    "For instance, I would like to check my assumption that an exotic wine\n",
    "tends to have a better score than a domestic one.\n",
    "Second, I would also like to check the characteristics of each wine taster.\n",
    "Are certain wine tasters more critical? Do they write longer or shorter reviews?\n",
    "Are they fond of a certain wine?\n",
    "\n",
    "Finally, by analysing the preference of each wine taster,\n",
    "one could perhaps construct a wine suggestion algorithm. \n",
    "For a given taster, due to past preferences, it would \n",
    "check whether a new wine is likely to please or not."
   ]
  },
  {
   "cell_type": "code",
   "execution_count": null,
   "metadata": {},
   "outputs": [],
   "source": []
  }
 ],
 "metadata": {
  "kernelspec": {
   "display_name": "Python 3",
   "language": "python",
   "name": "python3"
  },
  "language_info": {
   "codemirror_mode": {
    "name": "ipython",
    "version": 3
   },
   "file_extension": ".py",
   "mimetype": "text/x-python",
   "name": "python",
   "nbconvert_exporter": "python",
   "pygments_lexer": "ipython3",
   "version": "3.6.5"
  }
 },
 "nbformat": 4,
 "nbformat_minor": 2
}
